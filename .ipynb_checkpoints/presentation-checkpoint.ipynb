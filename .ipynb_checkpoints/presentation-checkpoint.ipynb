{
 "cells": [
  {
   "cell_type": "markdown",
   "id": "5843671c-29a6-48d9-8e73-4578136089c1",
   "metadata": {},
   "source": [
    " # Const, let e var"
   ]
  },
  {
   "cell_type": "markdown",
   "id": "d6c58135-23ab-4b09-b9a7-b214a419ce5b",
   "metadata": {},
   "source": [
    "### Em JS/TS existem 3 formas de declarar variáveis, cada uma com suas peculiaridades:"
   ]
  },
  {
   "cell_type": "markdown",
   "id": "aa5be755-d8c9-4870-be80-051c45e905d7",
   "metadata": {},
   "source": [
    "#### Var\n",
    "  - Mais antigo dos três;\n",
    "  - Escopo funcional;\n",
    "  - Pode ser declarada sem ser inicializada;\n",
    "  - Pode ser atualizada e redeclarada no seu escopo;\n",
    "  - Seu valor default é undefined;"
   ]
  },
  {
   "cell_type": "code",
   "execution_count": 9,
   "id": "40e78f06-06ac-47d5-bb4e-33ec545b8054",
   "metadata": {},
   "outputs": [
    {
     "name": "stdout",
     "output_type": "stream",
     "text": [
      "Inside\n",
      "outside\n",
      "Inside\n"
     ]
    }
   ],
   "source": [
    "const showMessage = function(): void {\n",
    "  var messageOutsideIfBlock: string; \n",
    "    \n",
    "  messageOutsideIfBlock = 'Outside';\n",
    "    \n",
    "  if(true) {\n",
    "    var messageInsideIfBlock = 'Inside';\n",
    "    console.log(messageInsideIfBlock) // Inside\n",
    "  }\n",
    "  \n",
    "  var messageOutsideIfBlock = 'outside'; \n",
    "    \n",
    "  console.log(messageOutsideIfBlock); // Outisde\n",
    "  console.log(messageInsideIfBlock); // Inside\n",
    "}\n",
    "\n",
    "showMessage()\n"
   ]
  },
  {
   "cell_type": "markdown",
   "id": "cdf58a1f-e7c9-4015-8a9a-1783d5bb3db1",
   "metadata": {},
   "source": [
    "#### Let\n",
    "  - Introduzido em EcmaScript 6;\n",
    "  - Escopo de bloco;\n",
    "  - Pode ser declarada sem ser inicializada;\n",
    "  - Pode ser atualizada, mas não redeclarada no seu escopo;\n",
    "  - Seu valor default é undefined;"
   ]
  },
  {
   "cell_type": "code",
   "execution_count": 19,
   "id": "711f3c88-eb68-4217-9b9a-2ef9d79bfbc9",
   "metadata": {},
   "outputs": [
    {
     "name": "stderr",
     "output_type": "stream",
     "text": [
      "2:7 - Cannot redeclare block-scoped variable 'messageOutsideIfBlock'.\n",
      "12:7 - Cannot redeclare block-scoped variable 'messageOutsideIfBlock'.\n",
      "14:15 - Cannot find name 'messageInsideIfBlock'. Did you mean 'messageOutsideIfBlock'?\n"
     ]
    }
   ],
   "source": [
    "const showMessage = function() {\n",
    "  let messageOutsideIfBlock;\n",
    "    \n",
    "  if(true) {\n",
    "    let messageInsideIfBlock: string;\n",
    "    messageInsideIfBlock = 'Inside'  \n",
    "    console.log(messageInsideIfBlock) // Inside\n",
    "  }\n",
    "    \n",
    "  let messageOutsideIfBlock = 'outside'; // Error\n",
    "    \n",
    "  console.log(messageInsideIfBlock); // Error\n",
    "}\n",
    "\n",
    "showMessage()"
   ]
  },
  {
   "cell_type": "markdown",
   "id": "b5e24e0f-dc82-4097-8c0b-7fbef155462f",
   "metadata": {},
   "source": [
    "#### Const\n",
    "  - Introduzido em EcmaScript 6;\n",
    "  - Escopo de bloco;\n",
    "  - Não pode ser declarada sem ser inicializada;\n",
    "  - Não pode ser atualizada, nem redeclarada no seu escopo;\n",
    "  - Não tem valor default, devido a necessidade de inicializar essas variáveis."
   ]
  },
  {
   "cell_type": "code",
   "execution_count": 25,
   "id": "3ca110ca-ea09-4854-a9ba-0a10fde78cd2",
   "metadata": {},
   "outputs": [
    {
     "name": "stderr",
     "output_type": "stream",
     "text": [
      "8:15 - Cannot find name 'messageInsideIfBlock'.\n"
     ]
    }
   ],
   "source": [
    "const showMessage = function() {\n",
    "    \n",
    "  if(true) {\n",
    "    const messageInsideIfBlock: string = 'Inside'  \n",
    "    console.log(messageInsideIfBlock) // Inside\n",
    "  }\n",
    "  \n",
    "  console.log(messageInsideIfBlock); // Error\n",
    "}\n",
    "\n",
    "showMessage()"
   ]
  },
  {
   "cell_type": "code",
   "execution_count": 26,
   "id": "a1292467-4560-4f17-b231-871bc4b88338",
   "metadata": {},
   "outputs": [
    {
     "name": "stderr",
     "output_type": "stream",
     "text": [
      "4:1 - Cannot assign to 'msg' because it is a constant.\n",
      "10:1 - Cannot assign to 'object' because it is a constant.\n"
     ]
    }
   ],
   "source": [
    "// No caso de objetos, não podemos mudar referências. Mas valores podem ser editados.\n",
    "\n",
    "const msg = \"Hello world\";\n",
    "msg = \"New Message\"; // Error\n",
    " \n",
    "const object = {\n",
    " msg: \"Hello world\"\n",
    "};\n",
    "\n",
    "object = {} // Error\n",
    "object.msg = \"New message\"; // OK"
   ]
  },
  {
   "cell_type": "markdown",
   "id": "7557cfe2-c0ea-4ebd-9ca1-f4f1c75554ea",
   "metadata": {},
   "source": [
    "# Funções"
   ]
  },
  {
   "cell_type": "markdown",
   "id": "d39ea799-ed17-4825-aa21-79878d2ceb83",
   "metadata": {},
   "source": [
    "Em JS/TS temos diversas formas de declarar funções (tanto anônimas quanto nomeadas):"
   ]
  },
  {
   "cell_type": "code",
   "execution_count": 27,
   "id": "3cf361d9-a8a4-48e0-97ab-a343840e2c71",
   "metadata": {},
   "outputs": [],
   "source": [
    "function sum(x: number, y: number) {\n",
    " return x + y;\n",
    "}\n",
    " \n",
    "const add = function (x: number, y: number): number {\n",
    " return x + y;\n",
    "}"
   ]
  },
  {
   "cell_type": "markdown",
   "id": "90b424cb-38e9-45ee-a6ac-d8934c7401bb",
   "metadata": {},
   "source": [
    "Existem também formas mais simples e enxutas, chamadas de Arrow Functions:"
   ]
  },
  {
   "cell_type": "code",
   "execution_count": 28,
   "id": "79285f24-5f24-4560-895a-f1d65ac0f372",
   "metadata": {},
   "outputs": [],
   "source": [
    "const arrowAdd = (x: number, y: number) => { \n",
    "    return x + y; \n",
    "}\n",
    "\n",
    "// Sem a palavra-chave 'return'\n",
    "const arrowSum = (x: number, y: number) => x + y;"
   ]
  },
  {
   "cell_type": "markdown",
   "id": "da3539ce-2b4f-4e3a-9b5d-8dfc468a1e55",
   "metadata": {},
   "source": [
    "###  Parâmetros\n",
    " - Parâmetros são obrigatórios por padrão\n",
    " - Parâmetros opcionais são possíveis com o uso de '?:'\n",
    " - É possível receber número indefinido de parâmetros com o operador '...'\n",
    " - É possível desestruturar argumentos na assinatura da função"
   ]
  },
  {
   "cell_type": "code",
   "execution_count": 59,
   "id": "20d33866-1547-4300-8c42-972cd09569e5",
   "metadata": {},
   "outputs": [
    {
     "name": "stdout",
     "output_type": "stream",
     "text": [
      "Jack Mayfield \n",
      "[ \u001b[33m2\u001b[39m, \u001b[33m4\u001b[39m, \u001b[33m6\u001b[39m ]\n",
      "\u001b[33m18\u001b[39m\n"
     ]
    }
   ],
   "source": [
    "function buildName(firstName: string, middleName=\"Mayfield\", lastName?: string) {\n",
    " return firstName + \" \" + middleName + \" \" + (lastName ?? '');\n",
    "}\n",
    "\n",
    "console.log(buildName(\"Jack\"))\n",
    "\n",
    "function multiplyByN(n: number, ...nums: number[]) {\n",
    " return nums.map((x) => n * x);\n",
    "}\n",
    "\n",
    "console.log(multiplyByN(2, 1, 2, 3))\n",
    "\n",
    "function sum({ a, b, c }: { a: number; b: number; c: number }) {\n",
    " return a + b + c;\n",
    "}\n",
    "\n",
    "console.log(sum({a: 4, b: 5, c: 9}))\n"
   ]
  },
  {
   "cell_type": "markdown",
   "id": "08e00b06-2792-41da-9837-ac184418c252",
   "metadata": {},
   "source": [
    "### Generics"
   ]
  },
  {
   "cell_type": "markdown",
   "id": "10a374ae-dfa6-4d27-a4ea-46673969d645",
   "metadata": {},
   "source": [
    "Generics nos permitem referenciar tipos quaisqueres de forma consistente nas nossas funções, \n",
    "sem limitar necessariamente a só um tipo específico. Por exemplo, criando correspondêncas entre \n",
    "tipos de parâmetros e retornos."
   ]
  },
  {
   "cell_type": "code",
   "execution_count": 42,
   "id": "6ee463bd-3ae9-440f-bd48-b8c09cf6123a",
   "metadata": {},
   "outputs": [
    {
     "name": "stderr",
     "output_type": "stream",
     "text": [
      "7:40 - Type 'number' is not assignable to type 'string'.\n"
     ]
    }
   ],
   "source": [
    "// Único generic\n",
    "\n",
    "function firstElement<T>(arr: T[]): T | undefined {\n",
    "  return arr[0];\n",
    "}\n",
    "\n",
    "console.log(firstElement<number>([1, 2, 3])) // Definição explícita (Ajuda TS a sugerir melhor)\n",
    "console.log(firstElement<string>(['1', 2, '3'])) // Erro"
   ]
  },
  {
   "cell_type": "code",
   "execution_count": 49,
   "id": "2ab867e1-b8ca-4dbc-9742-a4d48467e59f",
   "metadata": {},
   "outputs": [
    {
     "name": "stdout",
     "output_type": "stream",
     "text": [
      "[ \u001b[33m1\u001b[39m, \u001b[33m2\u001b[39m, \u001b[33m3\u001b[39m ]\n"
     ]
    }
   ],
   "source": [
    "// Múltiplos generics\n",
    "\n",
    "function map<I, O>(arr: I[], func: (arg: I) => O): O[] {\n",
    "  return arr.map(func);\n",
    "}\n",
    "\n",
    "map<string, number>([\"1\", \"2\", \"3\"], (n) => parseInt(n)); "
   ]
  },
  {
   "cell_type": "code",
   "execution_count": 53,
   "id": "175e8dbf-17ae-454e-a509-f670d8fb52ef",
   "metadata": {},
   "outputs": [
    {
     "name": "stderr",
     "output_type": "stream",
     "text": [
      "10:23 - Type 'number' does not satisfy the constraint '{ length: number; }'.\n"
     ]
    }
   ],
   "source": [
    "// Restringindo o domínio do generics\n",
    "\n",
    "function longest<Type extends { length: number }>(a: Type, b: Type) {\n",
    " return Math.max(a.length, b.length);\n",
    "}\n",
    "\n",
    "// longerString is of type 'alice' | 'bob'\n",
    "const longerString = longest<'alice' | 'bob'>(\"alice\", \"bob\");\n",
    "\n",
    "// Error! Numbers don't have a 'length' property\n",
    "const notOK = longest<number>(10, 100);"
   ]
  },
  {
   "cell_type": "markdown",
   "id": "54ebaf44-9a9a-466d-acfe-6db5cabdee5f",
   "metadata": {},
   "source": [
    "### Funções são cidadãs de primeira classe\n",
    " - São dados, como o resto dos tipos da linguagem\n",
    "    - Podem ser passadas para funções e serem retornadas "
   ]
  },
  {
   "cell_type": "markdown",
   "id": "12677a0d-6ffa-4821-b658-b1431cc305d7",
   "metadata": {},
   "source": [
    "#### Como argumento:"
   ]
  },
  {
   "cell_type": "code",
   "execution_count": 64,
   "id": "9532f730-768e-4256-870e-28bd4c23a1df",
   "metadata": {},
   "outputs": [
    {
     "name": "stdout",
     "output_type": "stream",
     "text": [
      "[ \u001b[32m'Emily'\u001b[39m, \u001b[32m'Kevin'\u001b[39m, \u001b[32m'Michelle'\u001b[39m ]\n"
     ]
    }
   ],
   "source": [
    "const arr: string[] = ['Anna', 'Emily', 'John', 'Kevin', 'Michelle', 'Ryan', 'Yvonne'];\n",
    " \n",
    "arr.filter((name: string) => {\n",
    " return name.includes('i');\n",
    "});"
   ]
  },
  {
   "cell_type": "markdown",
   "id": "ff9faf09-bb05-446b-b2b7-55c96759b568",
   "metadata": {},
   "source": [
    "#### Como retorno:"
   ]
  },
  {
   "cell_type": "code",
   "execution_count": 66,
   "id": "dfbb6967-efb4-4b30-8128-968f82abbda8",
   "metadata": {},
   "outputs": [
    {
     "name": "stdout",
     "output_type": "stream",
     "text": [
      "\u001b[33mfalse\u001b[39m\n",
      "\u001b[33mtrue\u001b[39m\n",
      "\u001b[33mfalse\u001b[39m\n",
      "\u001b[33mtrue\u001b[39m\n"
     ]
    }
   ],
   "source": [
    "function requiredAge(minimum: number): Function {\n",
    " return (age: number): boolean => {\n",
    "   return age >= minimum;\n",
    " };\n",
    "}\n",
    " \n",
    "const canDrinkBeer: Function = requiredAge(16);\n",
    "const canDriveCar: Function = requiredAge(18);\n",
    " \n",
    "console.log(canDrinkBeer(10)); // -> returns false\n",
    "console.log(canDrinkBeer(20)); // -> returns true\n",
    " \n",
    "console.log(canDriveCar(17)); // -> returns false\n",
    "console.log(canDriveCar(25)); // -> returns true"
   ]
  },
  {
   "cell_type": "markdown",
   "id": "b12a6db6-f32b-4c86-bfb5-6cb593f19039",
   "metadata": {},
   "source": [
    "# Object Type"
   ]
  },
  {
   "cell_type": "markdown",
   "id": "562e0732-c695-4d57-a866-3bcb389fab26",
   "metadata": {},
   "source": [
    "Em JS/TS, a forma fundamental de agrupar dados e transitá-los é através de objetos.\n",
    " - Podem ser nomeados (interfaces, tipos, classes, ...) ou anônimos "
   ]
  },
  {
   "cell_type": "code",
   "execution_count": 69,
   "id": "0f6e6406-7ab8-4398-aa45-df2ef50d9d40",
   "metadata": {},
   "outputs": [
    {
     "name": "stdout",
     "output_type": "stream",
     "text": [
      "Hello Jack\n"
     ]
    }
   ],
   "source": [
    "// Anônimos\n",
    "function greet(person: { name: string; age: number }) {\n",
    "  return \"Hello \" + person.name;\n",
    "}\n",
    "\n",
    "greet({name: 'Jack', age: 49})"
   ]
  },
  {
   "cell_type": "markdown",
   "id": "442cdaad-f588-4c13-87f8-f392a773b4c9",
   "metadata": {},
   "source": [
    "# Types Aliases"
   ]
  },
  {
   "cell_type": "markdown",
   "id": "7bd9d041-36cb-451e-852b-c0182000e69c",
   "metadata": {},
   "source": [
    "- Um type alias é basicamente a definição de um novo nome para um tipo. \n",
    "  - Podem ser usados para representar:\n",
    "    - Primitivos;\n",
    "    - Object types; \n",
    "    - Tuples;\n",
    "    - Union types;\n",
    "    - Intersections."
   ]
  },
  {
   "cell_type": "code",
   "execution_count": 3,
   "id": "1f741359-102c-477d-9c9d-80186badb1b2",
   "metadata": {},
   "outputs": [],
   "source": [
    "type Alias = number;\n",
    "\n",
    "type binary = 0 | 1;\n",
    "\n",
    "type bool = true | false;\n",
    "\n",
    "type obj = {a: 1} | {b: 2};\n",
    "\n",
    "type func = (() => string) | (() => void);\n"
   ]
  },
  {
   "cell_type": "markdown",
   "id": "4c408ad8-f777-4b8c-93fa-ea5fa46501bc",
   "metadata": {},
   "source": [
    "### __Exemplos de uso__"
   ]
  },
  {
   "cell_type": "code",
   "execution_count": 5,
   "id": "2369aebb-90eb-4e17-8a21-83149b3396e9",
   "metadata": {},
   "outputs": [
    {
     "name": "stderr",
     "output_type": "stream",
     "text": [
      "6:7 - Type '\"horse\"' is not assignable to type 'pet'.\n"
     ]
    }
   ],
   "source": [
    "type pet = 'cat' | 'dog';\n",
    " \n",
    "const cat: pet = 'cat';\n",
    "const dog: pet = 'dog';\n",
    " \n",
    "const horse: pet = 'horse'; // error"
   ]
  },
  {
   "cell_type": "markdown",
   "id": "96f3274e-5eed-4810-8315-59d0ef4fb9d8",
   "metadata": {},
   "source": [
    "#### __Generics__"
   ]
  },
  {
   "cell_type": "code",
   "execution_count": null,
   "id": "c1937fe2-d91b-4cbb-a948-349d9a9b4746",
   "metadata": {},
   "outputs": [],
   "source": [
    "type Bag<T> = Map<T, number>;\n",
    "\n",
    "const bag: Bag<string> = new Map<string, number>();"
   ]
  },
  {
   "cell_type": "markdown",
   "id": "501f0219-c25d-4cf8-ae0c-8eb594215672",
   "metadata": {},
   "source": [
    "#### __Recursividade__"
   ]
  },
  {
   "cell_type": "code",
   "execution_count": 6,
   "id": "5bc95412-1636-400a-af0e-60897b0b6e87",
   "metadata": {},
   "outputs": [],
   "source": [
    "type Tree<T> = {\n",
    " value: T;\n",
    " left?: Tree<T>;\n",
    " right?: Tree<T>;\n",
    "};\n",
    " \n",
    "const leaf: Tree<number> = {\n",
    "  value: 1\n",
    "}\n",
    " \n",
    "const tree: Tree<string> = {\n",
    "  value: 'a',\n",
    "  left: { value: 'b' },\n",
    "  right: {\n",
    "    value: 'c',\n",
    "    left: { value: 'e' },\n",
    "    right: { value: 'd' }\n",
    "  }\n",
    "}\n",
    " \n",
    "function order<T>(tree: Tree<T>): void {\n",
    "  process.stdout.write(tree.value + \" \")\n",
    "  \n",
    "  if(tree.left) {\n",
    "    order(tree.left);\n",
    "  }\n",
    "    \n",
    "  if(tree.right) {\n",
    "    order(tree.right);\n",
    "  }\n",
    "}"
   ]
  },
  {
   "cell_type": "code",
   "execution_count": 7,
   "id": "1610223b-e457-49df-88cb-4ae53dabd8bd",
   "metadata": {},
   "outputs": [
    {
     "name": "stdout",
     "output_type": "stream",
     "text": [
      "1 "
     ]
    }
   ],
   "source": [
    "order(leaf); // 1"
   ]
  },
  {
   "cell_type": "code",
   "execution_count": 8,
   "id": "5643b508-29bf-48f5-9e64-39ff054db884",
   "metadata": {},
   "outputs": [
    {
     "name": "stdout",
     "output_type": "stream",
     "text": [
      "a b c e d "
     ]
    }
   ],
   "source": [
    "//       a\n",
    "//     /   \\ \n",
    "//    b     c\n",
    "//         / \\\n",
    "//        e   d\n",
    "\n",
    "order(tree); // a b c e d"
   ]
  },
  {
   "cell_type": "markdown",
   "id": "6857d75b-c69a-4165-a42e-328167e28169",
   "metadata": {},
   "source": [
    "### __Union / Intersection Types__"
   ]
  },
  {
   "cell_type": "code",
   "execution_count": 10,
   "id": "34b06bf8-890f-48fb-a44d-904261bda46d",
   "metadata": {},
   "outputs": [
    {
     "name": "stderr",
     "output_type": "stream",
     "text": [
      "7:7 - Type '-1' is not assignable to type '0 | 7 | 6 | 5 | 4 | 3 | 2 | 1'.\n"
     ]
    }
   ],
   "source": [
    "type Char = -7 | -6 | -5 | -4 | -3 | -2 | -1 | 0 | 1 | 2 | 3 | 4 | 5 | 6 | 7;\n",
    "type UnsignedChar = 0 | 1 | 2 | 3 | 4 | 5 | 6 | 7 | 8 | 9 | 10 | 11 | 12 | 13 | 14;\n",
    "type PositiveChar = Char & UnsignedChar; // Char ∩ UnsignedChar <=> { 0, ..., 7 }\n",
    " \n",
    "const c1: PositiveChar = 0;\n",
    "const c2: PositiveChar = 1;\n",
    "const c3: PositiveChar = -1; // Error"
   ]
  },
  {
   "cell_type": "markdown",
   "id": "45f55ce5",
   "metadata": {},
   "source": [
    "#### __Interfaces vs Type Aliases__"
   ]
  },
  {
   "cell_type": "code",
   "execution_count": 1,
   "id": "48a942d4-b715-48a4-9f45-7c5508570b7f",
   "metadata": {},
   "outputs": [
    {
     "name": "stderr",
     "output_type": "stream",
     "text": [
      "5:23 - Type '{ payByCheck: boolean; }' is not assignable to type 'Payment'.\n",
      "5:23 - Object literal may only specify known properties, and 'payByCheck' does not exist in type 'Payment'.\n",
      "6:7 - Type '{ payByCredit: true; payByDebit: true; }' is not assignable to type 'Payment'.\n",
      "6:7 - Type '{ payByCredit: true; payByDebit: true; }' is not assignable to type '{ payByCredit?: never; payByDebit: true; }'.\n",
      "6:7 - Types of property 'payByCredit' are incompatible.\n",
      "6:7 - Type 'boolean' is not assignable to type 'never'.\n"
     ]
    }
   ],
   "source": [
    "type Payment = { payByCredit: true; payByDebit?: never } | { payByCredit?: never; payByDebit: true };\n",
    " \n",
    "const p0: Payment = { payByCredit: true }; // OK\n",
    "const p1: Payment = { payByDebit: true }; // OK\n",
    "const p2: Payment = { payByCheck: true }; // Error\n",
    "const p3: Payment = { payByCredit: true, payByDebit: true }; // Error"
   ]
  },
  {
   "cell_type": "markdown",
   "id": "297f9626",
   "metadata": {},
   "source": [
    "#### __Como o never pode ser implementado ?__"
   ]
  },
  {
   "cell_type": "code",
   "execution_count": 13,
   "id": "a5e3df4f-b18e-4180-8594-db9bceea2036",
   "metadata": {},
   "outputs": [
    {
     "name": "stderr",
     "output_type": "stream",
     "text": [
      "3:7 - Type 'number' is not assignable to type 'never'.\n",
      "4:7 - Type 'string' is not assignable to type 'never'.\n"
     ]
    }
   ],
   "source": [
    "type Never = string & number;\n",
    "\n",
    "const n1 : Never = 0\n",
    "const n2 : Never = \"never\""
   ]
  },
  {
   "cell_type": "markdown",
   "id": "152f4c2b-0af6-47d6-95ed-a6a6ab2d58e4",
   "metadata": {},
   "source": [
    "### __Exemplo mais prático__"
   ]
  },
  {
   "cell_type": "code",
   "execution_count": 1,
   "id": "bf02b1ba-5fee-4c40-ba28-71a21cc5c80d",
   "metadata": {},
   "outputs": [],
   "source": [
    "interface ErrorHandling {\n",
    " success: boolean;\n",
    " error?: { message: string };\n",
    "}\n",
    " \n",
    "interface File {\n",
    " content: { lines: string }[];\n",
    "}\n",
    " \n",
    "type FileReader = File & ErrorHandling;\n",
    " \n",
    "const writeToAFile = (response: FileReader) => {\n",
    " if (response.error) {\n",
    "   console.error(response.error.message);\n",
    "   return;\n",
    " }\n",
    " \n",
    " console.log(response.content);\n",
    "};"
   ]
  },
  {
   "cell_type": "code",
   "execution_count": null,
   "id": "877bc571-b6fe-4bf0-8cf6-e8c77ec7c6dc",
   "metadata": {},
   "outputs": [],
   "source": [
    "Túlio"
   ]
  },
  {
   "cell_type": "markdown",
   "id": "6d3a5807-fbf5-4e07-a99c-f4f1593f85a8",
   "metadata": {},
   "source": [
    "# __Currificação__"
   ]
  },
  {
   "cell_type": "markdown",
   "id": "c6af4388",
   "metadata": {},
   "source": [
    "### “Currying is the technique of converting a function that takes multiple arguments into a sequence of functions that each takes a single argument” *(Wikipedia)*"
   ]
  },
  {
   "cell_type": "markdown",
   "id": "6ca017a6-a07a-4184-9226-c1bfad12340e",
   "metadata": {
    "tags": []
   },
   "source": [
    "### __Como faríamos em *Haskell* ?__\n",
    "\n",
    " -- Soma dois números: a e b  \n",
    "`sum :: Num a => a -> a -> a`  \n",
    "`sum a b = a + b`\n",
    "\n",
    " -- Console  \n",
    "`> let sum5 = sum 5`  \n",
    "`> sum5 3`  \n",
    "`8`\n",
    "\n",
    "### __E em *Typescript*__ ?\n",
    " - Não existe suporte nativo na linguagem\n",
    " - Podemos simular esse comportamento através do uso de __*Closures*__"
   ]
  },
  {
   "cell_type": "code",
   "execution_count": 3,
   "id": "f6c6540b-4b54-4523-85a4-60c8b1a4ff21",
   "metadata": {},
   "outputs": [
    {
     "name": "stdout",
     "output_type": "stream",
     "text": [
      "8\n"
     ]
    }
   ],
   "source": [
    "const sum = (a: number) => {\n",
    " return (b: number) => { \n",
    "     return a + b;\n",
    " }\n",
    "} \n",
    "\n",
    "const sum5 = sum(5)\n",
    "\n",
    "console.log(sum5(3))"
   ]
  },
  {
   "cell_type": "markdown",
   "id": "c77c9321-3f77-4c61-a485-9770a2eb1432",
   "metadata": {},
   "source": [
    "### __Existe alguma limitação na nossa estratégia ?__\n",
    " - Somos obrigados a escrever __*n*__ funções dentro do corpo da função original (n = número de argumentos) \n",
    "   - Imagine a redundância em uma base de código razoável *(centenas de funções)*\n",
    " - Um grupo de parênteses para cada aplicação da função\n",
    "   - f(a)(b)(c)(d)(e)(f)\n",
    "   \n",
    "### __No mundo ideal:__ \n",
    " - Poderíamos chamar essa função como qualquer outra, se aproveitando de *currying* \n",
    " - Não precisaríamos mudar o corpo das funções."
   ]
  },
  {
   "cell_type": "markdown",
   "id": "504201fb-788c-4048-abb5-48aa200ad9ba",
   "metadata": {},
   "source": [
    "### __Currificação em *Typescript*__  - [Solução Genérica]"
   ]
  },
  {
   "cell_type": "code",
   "execution_count": 4,
   "id": "27a8f3b6-a6a6-45bc-bd8f-de4eb7cb22bd",
   "metadata": {},
   "outputs": [],
   "source": [
    "function curry(fn: Function) {\n",
    " return (...xs: any[]) => {\n",
    "   if (xs.length >= fn.length) {\n",
    "     return fn(...xs);\n",
    "   }\n",
    "   return curry(fn.bind(null, ...xs));\n",
    " };\n",
    "}\n"
   ]
  },
  {
   "cell_type": "code",
   "execution_count": 5,
   "id": "8fceb8f5-7fef-4d6f-8111-cf87f9e5c95f",
   "metadata": {},
   "outputs": [],
   "source": [
    "const isRightTriangle = curry((\n",
    "  a: number, \n",
    "  b: number, \n",
    "  c: number\n",
    ") => {\n",
    " return c*c == a*a + b*b;\n",
    "})\n"
   ]
  },
  {
   "cell_type": "code",
   "execution_count": 6,
   "id": "6dab390e-4296-4fc5-9633-bd493e30185a",
   "metadata": {},
   "outputs": [
    {
     "name": "stdout",
     "output_type": "stream",
     "text": [
      "true\n"
     ]
    }
   ],
   "source": [
    "isRightTriangle(3)(4)(5)"
   ]
  },
  {
   "cell_type": "code",
   "execution_count": 7,
   "id": "aa8f17a7-79b4-4e6a-9f7a-a4bf53e237f4",
   "metadata": {},
   "outputs": [
    {
     "name": "stdout",
     "output_type": "stream",
     "text": [
      "false\n"
     ]
    }
   ],
   "source": [
    "isRightTriangle(3, 4)(6)"
   ]
  },
  {
   "cell_type": "code",
   "execution_count": 8,
   "id": "b022b562-0b9f-42a6-9ac1-57cacfe63826",
   "metadata": {},
   "outputs": [
    {
     "name": "stdout",
     "output_type": "stream",
     "text": [
      "true\n"
     ]
    }
   ],
   "source": [
    "isRightTriangle(3)(4, 5)"
   ]
  },
  {
   "cell_type": "code",
   "execution_count": 9,
   "id": "ff7c7b7c-d834-4567-98e7-ed91f36245e6",
   "metadata": {},
   "outputs": [
    {
     "name": "stdout",
     "output_type": "stream",
     "text": [
      "true\n"
     ]
    }
   ],
   "source": [
    "isRightTriangle(3, 4, 5)"
   ]
  },
  {
   "cell_type": "markdown",
   "id": "bf210bf8-78cf-4626-b8f8-921fa46967f2",
   "metadata": {},
   "source": []
  },
  {
   "cell_type": "markdown",
   "id": "1289b813-1b06-4138-8c9a-a1767d5fa9eb",
   "metadata": {},
   "source": [
    "## __Lazy Evaluation__"
   ]
  },
  {
   "cell_type": "markdown",
   "id": "78722d87-3c4e-441d-b3a2-7ea3cb483ff5",
   "metadata": {},
   "source": [
    "### \"Lazy evaluation, or call-by-need, is an evaluation strategy which delays the evaluation of an expression until its value is needed” *(Wikipedia)*"
   ]
  },
  {
   "cell_type": "markdown",
   "id": "5652b383-df75-49dd-9d4d-667f8db0dca5",
   "metadata": {},
   "source": [
    "#### Alternativas\n",
    "\n",
    "- Eager\n",
    "- Short-Circuit\n",
    "..."
   ]
  },
  {
   "cell_type": "markdown",
   "id": "6c6f27b3-7b26-4141-9319-5f7b1498f111",
   "metadata": {
    "tags": []
   },
   "source": [
    "### __Alguns exemplos em Haskell:__"
   ]
  },
  {
   "cell_type": "markdown",
   "id": "c0393747-f2e8-4835-b8f0-29ce6f20ef1a",
   "metadata": {},
   "source": [
    "-- Estrutura de dados 'infinita'  \n",
    "`[1..]` => 1, 2, 3, 4, 5, ...\n",
    "\n",
    "-- Parâmetros da função take não serão avaliados imediatamente  \n",
    "`sum (take 3 [1..])`\n",
    "\n",
    "-- Erro não será identificado  \n",
    "`add x y = x + x`  \n",
    "`add 4 (error \"404\")`  \n",
    "`8`"
   ]
  },
  {
   "cell_type": "markdown",
   "id": "6ebf61c4-ad49-42ec-b6a3-ee2fcca565ea",
   "metadata": {},
   "source": [
    "### __Javascript / Typescript não é lazy por padrão!__"
   ]
  },
  {
   "cell_type": "code",
   "execution_count": 10,
   "id": "26c09ea4-ed9a-40a9-a3b3-b16db879cb52",
   "metadata": {},
   "outputs": [],
   "source": [
    "function doubleX(x: number, y: any) {\n",
    "    return x + x\n",
    "}"
   ]
  },
  {
   "cell_type": "code",
   "execution_count": 11,
   "id": "bc65be7f-7da2-4ed5-8e32-77d4f4adbbea",
   "metadata": {},
   "outputs": [
    {
     "name": "stdout",
     "output_type": "stream",
     "text": [
      "teste\n",
      "24\n"
     ]
    }
   ],
   "source": [
    "// Se o argumento fosse avaliado de forma lazy, teste não seria mostrado!\n",
    "doubleX(12, console.log('teste'))"
   ]
  },
  {
   "cell_type": "markdown",
   "id": "68c6ccc3-ff0a-421f-b110-8bc252ba4957",
   "metadata": {},
   "source": [
    "### __Como simular esse tipo de avaliação ?__\n",
    "\n",
    "- Toda expressão estando encapsulada em funções!\n",
    "- Generators!"
   ]
  },
  {
   "cell_type": "markdown",
   "id": "bfda5de8-fa7e-4409-a4be-134573978265",
   "metadata": {},
   "source": [
    "#### __Definindo um tipo *Lazy*__"
   ]
  },
  {
   "cell_type": "markdown",
   "id": "07056a30-bb38-49e7-9c21-0f0dee611d66",
   "metadata": {},
   "source": [
    "Toda expressão lazy agora precisará ser primeiro aplicada, para ser avaliada:"
   ]
  },
  {
   "cell_type": "code",
   "execution_count": 12,
   "id": "4fe9cb6d-4438-4bf5-8716-82fcd8f4ffd4",
   "metadata": {},
   "outputs": [],
   "source": [
    "type Lazy<T> = () => T"
   ]
  },
  {
   "cell_type": "markdown",
   "id": "7ac344f4-b03f-4236-a2b4-4869bea82cd2",
   "metadata": {},
   "source": [
    "#### __Resolvendo problemas da forma *lazy*__"
   ]
  },
  {
   "cell_type": "markdown",
   "id": "f5175036-2ff5-40d2-b4a7-cd0eae0fb97e",
   "metadata": {},
   "source": [
    "#### Adiando a avaliação de parâmetros"
   ]
  },
  {
   "cell_type": "code",
   "execution_count": 13,
   "id": "411e721b-e6ae-44d9-bebf-cdd630f6efaf",
   "metadata": {},
   "outputs": [],
   "source": [
    "function doubleX(x: Lazy<number>, y: Lazy<any>): Lazy<number> {\n",
    "    return () => {\n",
    "        console.log(\"Dobrei!\");\n",
    "        return x() + x();\n",
    "    }\n",
    "}"
   ]
  },
  {
   "cell_type": "code",
   "execution_count": 14,
   "id": "be23b1a0-f612-4c6f-9e61-2266aa5516ed",
   "metadata": {},
   "outputs": [
    {
     "name": "stdout",
     "output_type": "stream",
     "text": [
      "Dobrei!\n",
      "24\n"
     ]
    }
   ],
   "source": [
    "const double = doubleX(() => 12, () => console.log('teste'))\n",
    "\n",
    "console.log(double())"
   ]
  },
  {
   "cell_type": "markdown",
   "id": "6de4cdf6-934b-4fd1-9db8-6452be1f13a3",
   "metadata": {},
   "source": [
    "#### Lista infinita"
   ]
  },
  {
   "cell_type": "markdown",
   "id": "a171758a-edbc-4955-955f-86fa2d239ae1",
   "metadata": {},
   "source": [
    "Generators executam e avaliam código somente quando necessário, guardando e retornando estados intermediários."
   ]
  },
  {
   "cell_type": "code",
   "execution_count": 15,
   "id": "aa1e0323-1d1f-40ba-af8b-b9db01862ce8",
   "metadata": {},
   "outputs": [],
   "source": [
    "// Infinite fibonacci generator\n",
    "function* fibonacciNumbers() {\n",
    "    let memo = [1, -1];\n",
    "    while (true) {\n",
    "        memo = [memo[0] + memo[1], memo[0]];\n",
    "        yield memo[0];\n",
    "    }\n",
    "}"
   ]
  },
  {
   "cell_type": "code",
   "execution_count": 16,
   "id": "7b4f1295-e39b-4652-bcd4-23578655bb35",
   "metadata": {},
   "outputs": [],
   "source": [
    "function getSequence(n: number, g: Generator) {\n",
    "    if (n <= 0) {\n",
    "        console.log(\"END\");\n",
    "    } else {\n",
    "        console.log(`${g.next().value}, `);\n",
    "        getSequence(n - 1, g);\n",
    "    }\n",
    "}"
   ]
  },
  {
   "cell_type": "code",
   "execution_count": 17,
   "id": "5ba513aa-8fa5-40ce-9e28-2538ff26c6e1",
   "metadata": {},
   "outputs": [
    {
     "name": "stdout",
     "output_type": "stream",
     "text": [
      "0, \n",
      "1, \n",
      "1, \n",
      "2, \n",
      "3, \n",
      "5, \n",
      "8, \n",
      "13, \n",
      "21, \n",
      "34, \n",
      "END\n"
     ]
    }
   ],
   "source": [
    "const fibGenerator = fibonacciNumbers();\n",
    "\n",
    "getSequence(10, fibGenerator);"
   ]
  },
  {
   "cell_type": "markdown",
   "id": "5e50c84c-7fd3-42af-8ef0-125ae5936405",
   "metadata": {},
   "source": [
    "#### E é possível criar listas infinitas sem generators ? Sim!"
   ]
  },
  {
   "cell_type": "code",
   "execution_count": 18,
   "id": "e3181506-9017-46d8-86af-208e48564089",
   "metadata": {},
   "outputs": [],
   "source": [
    "type LazyList<T> = Lazy<{\n",
    "    head: Lazy<T>,\n",
    "    tail: LazyList<T>\n",
    "} | null>"
   ]
  },
  {
   "cell_type": "code",
   "execution_count": 19,
   "id": "f9feeca6-b502-46b3-815c-5db4b54b04df",
   "metadata": {},
   "outputs": [
    {
     "name": "stdout",
     "output_type": "stream",
     "text": [
      "[Function (anonymous)]\n",
      "{ head: [Function: head], tail: [Function (anonymous)] }\n",
      "3\n",
      "4\n",
      "5\n",
      "6\n",
      "7\n"
     ]
    }
   ],
   "source": [
    "function range(begin: Lazy<number>): LazyList<number> {\n",
    "    return () => {\n",
    "        let x = begin();\n",
    "        return {\n",
    "            head: () => x,\n",
    "            tail: range(() => x + 1)\n",
    "        };\n",
    "    }\n",
    "}\n",
    "\n",
    "console.log(range(() => 3));\n",
    "console.log(range(() => 3)());\n",
    "console.log(range(() => 3)()!.head());\n",
    "console.log(range(() => 3)()!.tail()!.head());\n",
    "console.log(range(() => 3)()!.tail()!.tail()!.head());\n",
    "console.log(range(() => 3)()!.tail()!.tail()!.tail()!.head());\n",
    "console.log(range(() => 3)()!.tail()!.tail()!.tail()!.tail()!.head());"
   ]
  },
  {
   "cell_type": "markdown",
   "id": "2726fbcb-5d16-4e4f-9fc4-a1c6ff9655bc",
   "metadata": {},
   "source": [
    "### Implementando Multiset "
   ]
  },
  {
   "cell_type": "markdown",
   "id": "53c8891c-fbd2-4dcd-9569-277d8ed4c0ac",
   "metadata": {},
   "source": [
    "Um multi-conjunto (ou bag) é uma estrutura que representa uma coleção de objetos que permite \n",
    "duplicatas. Entretanto, as duplicatas são armazenadas como a quantidade de ocorrências do mesmo \n",
    "elemento no multi-conjunto.\n",
    "\n",
    "Exemplo: \n",
    "\n",
    "{1, 1, 2, 2, 1, 2, 3} => {(1, 3), (2, 3), (3, 1)}"
   ]
  },
  {
   "cell_type": "markdown",
   "id": "e255f219",
   "metadata": {},
   "source": [
    "#### Quais são as principais operações ?\n",
    " - Insert\n",
    " - Remove\n",
    " - Search\n",
    " - Union\n",
    " - Intersection\n",
    " - Minus\n",
    " - Inclusion\n",
    " - Sum\n",
    " - Size"
   ]
  },
  {
   "cell_type": "code",
   "execution_count": 12,
   "id": "52273922",
   "metadata": {},
   "outputs": [],
   "source": [
    "/**\n",
    " * Tipo Bag genérico\n",
    "*/\n",
    "type Bag<T> = Map<T, number>;\n",
    "\n",
    "const testBag: Bag<string> = new Map<string, number>([['a', 3], ['b', 2]])"
   ]
  },
  {
   "cell_type": "code",
   "execution_count": 13,
   "id": "6ed4db7c",
   "metadata": {},
   "outputs": [
    {
     "name": "stdout",
     "output_type": "stream",
     "text": [
      "\u001b[33mtrue\u001b[39m\n"
     ]
    }
   ],
   "source": [
    "/**\n",
    " * [Auxiliar] Checa se o elemento está incluso na Bag.\n",
    "*/\n",
    "function hasElement<T>(elem: T, bag: Bag<T>): boolean {\n",
    "  return bag.has(elem);\n",
    "}\n",
    "\n",
    "hasElement('a', testBag)"
   ]
  },
  {
   "cell_type": "code",
   "execution_count": 14,
   "id": "ca8de3b4-207c-4df6-9009-9eb8e7152d6b",
   "metadata": {},
   "outputs": [
    {
     "name": "stdout",
     "output_type": "stream",
     "text": [
      "\u001b[33m3\u001b[39m\n"
     ]
    }
   ],
   "source": [
    "/**\n",
    "* Busca um elemento na estrutura, retornando sua quantidade. Caso o \n",
    "* elemento não exista, retorna 0 como a quantidade.\n",
    "*/\n",
    "function search<T>(elem: T, bag: Bag<T>): number {\n",
    "  return hasElement(elem, bag) ? bag.get(elem) as number : 0;\n",
    "}\n",
    "\n",
    "search('a', testBag)"
   ]
  },
  {
   "cell_type": "code",
   "execution_count": 15,
   "id": "7f586dd5",
   "metadata": {},
   "outputs": [
    {
     "name": "stdout",
     "output_type": "stream",
     "text": [
      "Map(2) { \u001b[32m'a'\u001b[39m => \u001b[33m4\u001b[39m, \u001b[32m'b'\u001b[39m => \u001b[33m2\u001b[39m }\n"
     ]
    }
   ],
   "source": [
    "/**\n",
    "* Insere um elemento na estrutura. Caso o elemento já existe, sua\n",
    "* quantidade na estrutura será incrementada.\n",
    "*/\n",
    "function insert<T>(elem: T, bag: Bag<T>): Bag<T> {\n",
    "  return bag.set(elem, search(elem, bag) + 1);\n",
    "}\n",
    "\n",
    "insert('a', testBag)"
   ]
  },
  {
   "cell_type": "code",
   "execution_count": 19,
   "id": "109bea64",
   "metadata": {},
   "outputs": [
    {
     "name": "stdout",
     "output_type": "stream",
     "text": [
      "Map(2) { \u001b[32m'a'\u001b[39m => \u001b[33m1\u001b[39m, \u001b[32m'b'\u001b[39m => \u001b[33m2\u001b[39m }\n"
     ]
    }
   ],
   "source": [
    "  \n",
    "/**\n",
    "* Remove um elemento da estrutura, levando em consideração a manipulação de sua\n",
    "* quantidade na estrutura. Caso a quantidade atinja 0 (ou menos), o elemento deve\n",
    "* realmente ser removido da estrutura.\n",
    "*/\n",
    "function remove<T>(elem: T, bag: Bag<T>): Bag<T> {\n",
    " const oldQuantity = search(elem, bag);\n",
    "  \n",
    "  if (oldQuantity <= 1) {\n",
    "    bag.delete(elem);\n",
    "  } else {\n",
    "    bag.set(elem, oldQuantity - 1);\n",
    "  }\n",
    "  \n",
    "  return bag;\n",
    "}\n",
    "\n",
    "remove('a', testBag)"
   ]
  },
  {
   "cell_type": "code",
   "execution_count": 20,
   "id": "1b036c1d",
   "metadata": {},
   "outputs": [],
   "source": [
    "/**\n",
    "* Faz a interseção deste Bag com otherBag. A interseção consiste em ter os elementos\n",
    "* que estão em ambos os bags combinados com a função passada como parâmetro.\n",
    "* \n",
    "* Por exemplo:\n",
    "* \n",
    "* A = {(a,3),(b,1)}\n",
    "* B = {(a,1)}\n",
    "* função: + (soma)\n",
    "* \n",
    "* A.intersection(B) == {(a,4)}\n",
    "*/\n",
    "function intersectionWith<T>(\n",
    "  bag: Bag<T>,\n",
    "  anotherBag: Bag<T>,\n",
    "  fn: (n1: number, n2: number) => number\n",
    "): Bag<T> {\n",
    "  return new Map<T, number>(\n",
    "    Array.from(anotherBag)\n",
    "      .filter(([key, _]) => hasElement(key, bag))\n",
    "      .map(([key, quantity]) => [key, fn(quantity, search(key, bag))])\n",
    "  );\n",
    "}"
   ]
  },
  {
   "cell_type": "code",
   "execution_count": 21,
   "id": "cb641741",
   "metadata": {},
   "outputs": [],
   "source": [
    "/**\n",
    "* Faz a união deste Bag com anotherBag combinando. A união consiste em ter os elementos \n",
    "* dos dois Bags combinados com a função passada como parâmetro.\n",
    "* \n",
    "* Por exemplo: \n",
    "* \n",
    "* A = {(a,3),(c,3)}, \n",
    "* B = {(a,4),(b,2),(c,2)}. \n",
    "* função: * (multiplicação)\n",
    "* \n",
    "* A.union(B) == {(a,12),(c,6),(b,2)}\n",
    "*/\n",
    "function unionWith<T>(\n",
    "  bag: Bag<T>,\n",
    "  anotherBag: Bag<T>, \n",
    "  fn: (n1: number, n2: number) => number\n",
    "): Bag<T> {\n",
    "  return new Map<T, number>([\n",
    "    ...anotherBag, \n",
    "    ...bag, \n",
    "    ...intersectionWith(bag, anotherBag, fn)\n",
    "  ]);\n",
    "}"
   ]
  },
  {
   "cell_type": "code",
   "execution_count": 22,
   "id": "d2f0bdc5",
   "metadata": {},
   "outputs": [
    {
     "name": "stdout",
     "output_type": "stream",
     "text": [
      "Map(3) { \u001b[32m'b'\u001b[39m => \u001b[33m2\u001b[39m, \u001b[32m'c'\u001b[39m => \u001b[33m3\u001b[39m, \u001b[32m'a'\u001b[39m => \u001b[33m1\u001b[39m }\n"
     ]
    }
   ],
   "source": [
    "/**\n",
    "* Faz a união deste Bag com anotherBag. A união consiste em ter os elementos \n",
    "* dos dois Bags com suas maiores quantidades. \n",
    "* \n",
    "* Por exemplo: \n",
    "* \n",
    "* A = {(a,1),(c,3)}, \n",
    "* B = {(b,2),(c,1)}. \n",
    "* \n",
    "* A.union(B) == {(a,1),(c,3),(b,2)}\n",
    "*/\n",
    "function union<T>(bag: Bag<T>, anotherBag: Bag<T>): Bag<T> {\n",
    "  return unionWith(bag, anotherBag, Math.max);\n",
    "}\n",
    "\n",
    "let a = new Map([['a', 1], ['c', 3]])\n",
    "let b = new Map([['b', 2], ['c', 1]])\n",
    "\n",
    "union(a, b)"
   ]
  },
  {
   "cell_type": "code",
   "execution_count": 23,
   "id": "2983f16d",
   "metadata": {},
   "outputs": [
    {
     "name": "stdout",
     "output_type": "stream",
     "text": [
      "Map(1) { \u001b[32m'a'\u001b[39m => \u001b[33m1\u001b[39m }\n"
     ]
    }
   ],
   "source": [
    "/**\n",
    "* Faz a interseção deste Bag com otherBag. A interseção consiste em ter os elementos\n",
    "* que estão em ambos os bags com suas menores quantidades. \n",
    "* \n",
    "* Por exemplo:\n",
    "* \n",
    "* A = {(a,3),(b,1)}\n",
    "* B = {(a,1)}\n",
    "* \n",
    "* A.intersection(B) == {(a,1)}\n",
    "* \n",
    "* Obs: Caso nenhum elemento de A esteja contido em B, então a interseção é vazia.\n",
    "*/\n",
    "function intersection<T>(bag: Bag<T>, anotherBag: Bag<T>): Bag<T> {\n",
    "  return intersectionWith(bag, anotherBag, Math.min);\n",
    "}\n",
    "\n",
    "let a = new Map([['a', 3], ['b', 1]])\n",
    "let b = new Map([['a', 1]])\n",
    "\n",
    "intersection(a, b)"
   ]
  },
  {
   "cell_type": "code",
   "execution_count": 24,
   "id": "9228842e",
   "metadata": {},
   "outputs": [
    {
     "name": "stdout",
     "output_type": "stream",
     "text": [
      "Map(1) { \u001b[32m'a'\u001b[39m => \u001b[33m2\u001b[39m }\n"
     ]
    }
   ],
   "source": [
    "/**\n",
    "* Faz a diferenca deste Bag com otherBag. A diferenca A \\ B entre bags é definida como:\n",
    "*   - Contem os elementos de A que nao estao em B;\n",
    "*   - Contem os elementos x de A que estao em B mas com sua quantidade subtraida (qtde em A - qtde em B). \n",
    "*     Caso essa quantidade seja negativa o elemento deve serremovido do Bag. \n",
    "* \n",
    "* Por exemplo: \n",
    "* \n",
    "* A = {(a,3),(b,1)}\n",
    "* B = {(b,2),(a,1)} \n",
    "* \n",
    "* A.minus(B) == {(a,2)}\n",
    "*/\n",
    "function minus<T>(bag: Bag<T>, anotherBag: Bag<T>): Bag<T> {\n",
    "  return new Map(\n",
    "    Array.from(bag)\n",
    "      .filter(([key, quantity]) => (quantity - search(key, anotherBag)) > 0)\n",
    "      .map(([key, quantity]) => [key, quantity - search(key, anotherBag)])\n",
    "  );\n",
    "}\n",
    "\n",
    "let a = new Map([['a', 3], ['b', 1]])\n",
    "let b = new Map([['b', 2], ['a', 1]])\n",
    "\n",
    "minus(a, b)"
   ]
  },
  {
   "cell_type": "code",
   "execution_count": 25,
   "id": "85c51b57",
   "metadata": {},
   "outputs": [
    {
     "name": "stdout",
     "output_type": "stream",
     "text": [
      "\u001b[33mtrue\u001b[39m\n"
     ]
    }
   ],
   "source": [
    "/**\n",
    "* Testa se este Bag está incluso em otherBag. Para todo elemento deste bag, sua quantidade\n",
    "* deve ser menor or igual a sua quantidade em otherBag.\n",
    "* \n",
    "* Por exemplo:\n",
    "* \n",
    "* A = {(a,7),(b,5)}\n",
    "* B = {(a,9),(b,6))}\n",
    "* \n",
    "* A.inclusion(B) == true\n",
    "* B.inclusion(A) == false\n",
    "* \n",
    "*/\n",
    "function inclusion<T>(bag: Bag<T>, anotherBag: Bag<T>): boolean {\n",
    "  return Array.from(bag).every(([key, quantity]) => {\n",
    "    return search(key, anotherBag) >= quantity;\n",
    "  });\n",
    "}\n",
    "\n",
    "let a = new Map([['a', 7], ['b', 5]])\n",
    "let b = new Map([['a', 9], ['b', 6]])\n",
    "\n",
    "inclusion(a, b)"
   ]
  },
  {
   "cell_type": "code",
   "execution_count": 26,
   "id": "2dcb148f",
   "metadata": {},
   "outputs": [
    {
     "name": "stdout",
     "output_type": "stream",
     "text": [
      "Map(2) { \u001b[32m'a'\u001b[39m => \u001b[33m4\u001b[39m, \u001b[32m'b'\u001b[39m => \u001b[33m3\u001b[39m }\n"
     ]
    }
   ],
   "source": [
    "/**\n",
    "* Realiza a soma deste Bag com otherBag. A soma de dois bags contem os elementos dos dois bags com suas quantidades somadas.\n",
    "* \n",
    "* Por exemplo:\n",
    "* \n",
    "* A = {(a,1),(b,3)}\n",
    "* B = {(a,3)}\n",
    "* \n",
    "* A.sum(B) == {(a,4),(b,3)}\n",
    "*/\n",
    "function sum<T>(bag: Bag<T>, anotherBag: Bag<T>): Bag<T> {\n",
    "  return unionWith(bag, anotherBag, (a, b) => a + b);\n",
    "}\n",
    "\n",
    "let a = new Map([['a', 1], ['b', 3]])\n",
    "let b = new Map([['a', 3]])\n",
    "\n",
    "sum(a, b)"
   ]
  },
  {
   "cell_type": "code",
   "execution_count": 27,
   "id": "13a49fb2",
   "metadata": {},
   "outputs": [
    {
     "name": "stdout",
     "output_type": "stream",
     "text": [
      "\u001b[33m4\u001b[39m\n"
     ]
    }
   ],
   "source": [
    "/**\n",
    "* Retorna a quantidade total de elementos no Bag\n",
    "*/\n",
    "function size<T>(bag: Bag<T>): number {\n",
    "  return Array.from(bag.values()).reduce((currentSum, number) => {\n",
    "    return currentSum + number\n",
    "  }, 0);\n",
    "}\n",
    "\n",
    "let a = new Map([['a', 1], ['b', 3]])\n",
    "\n",
    "size(a)"
   ]
  },
  {
   "cell_type": "code",
   "execution_count": null,
   "id": "66c3b30a-0137-4e06-a0ec-82189102e101",
   "metadata": {},
   "outputs": [],
   "source": []
  }
 ],
 "metadata": {
  "kernelspec": {
   "display_name": "TypeScript",
   "language": "typescript",
   "name": "tslab"
  },
  "language_info": {
   "codemirror_mode": {
    "mode": "typescript",
    "name": "javascript",
    "typescript": true
   },
   "file_extension": ".ts",
   "mimetype": "text/typescript",
   "name": "typescript",
   "version": "3.7.2"
  }
 },
 "nbformat": 4,
 "nbformat_minor": 5
}
