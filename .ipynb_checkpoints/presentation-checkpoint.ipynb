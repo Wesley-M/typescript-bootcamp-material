{
 "cells": [
  {
   "cell_type": "markdown",
   "id": "6d3a5807-fbf5-4e07-a99c-f4f1593f85a8",
   "metadata": {},
   "source": [
    "# __Currificação__"
   ]
  },
  {
   "cell_type": "markdown",
   "id": "c6af4388",
   "metadata": {},
   "source": [
    "### “Currying is the technique of converting a function that takes multiple arguments into a sequence of functions that each takes a single argument” *(Wikipedia)*"
   ]
  },
  {
   "cell_type": "markdown",
   "id": "6ca017a6-a07a-4184-9226-c1bfad12340e",
   "metadata": {
    "tags": []
   },
   "source": [
    "### __Como faríamos em *Haskell* ?__\n",
    "\n",
    " -- Soma dois números: a e b  \n",
    "`sum :: Num a => a -> a -> a`  \n",
    "`sum a b = a + b`\n",
    "\n",
    " -- Console  \n",
    "`> let sum5 = sum 5`  \n",
    "`> sum5 3`  \n",
    "`8`\n",
    "\n",
    "### __E em *Typescript*__ ?\n",
    " - Não existe suporte nativo na linguagem\n",
    " - Podemos simular esse comportamento através do uso de __*Closures*__"
   ]
  },
  {
   "cell_type": "code",
   "execution_count": 13,
   "id": "f6c6540b-4b54-4523-85a4-60c8b1a4ff21",
   "metadata": {},
   "outputs": [
    {
     "name": "stdout",
     "output_type": "stream",
     "text": [
      "\u001b[33m8\u001b[39m\n"
     ]
    }
   ],
   "source": [
    "const sum = (a: number) => {\n",
    " return (b: number) => { \n",
    "     return a + b;\n",
    " }\n",
    "} \n",
    "\n",
    "const sum5 = sum(5)\n",
    "\n",
    "console.log(sum5(3))"
   ]
  },
  {
   "cell_type": "markdown",
   "id": "c77c9321-3f77-4c61-a485-9770a2eb1432",
   "metadata": {},
   "source": [
    "### __Existe alguma limitação na nossa estratégia ?__\n",
    " - Somos obrigados a escrever __*n*__ funções dentro do corpo da função original (n = número de argumentos) \n",
    "   - Imagine a redundância em uma base de código razoável *(centenas de funções)*\n",
    " - Um grupo de parênteses para cada aplicação da função\n",
    "   - f(a)(b)(c)(d)(e)(f)\n",
    "   \n",
    "### __No mundo ideal:__ \n",
    " - Poderíamos chamar essa função como qualquer outra, se aproveitando de *currying* \n",
    " - Não precisaríamos mudar o corpo das funções."
   ]
  },
  {
   "cell_type": "markdown",
   "id": "504201fb-788c-4048-abb5-48aa200ad9ba",
   "metadata": {},
   "source": [
    "### __Currificação em *Typescript*__  - [Solução Genérica]"
   ]
  },
  {
   "cell_type": "code",
   "execution_count": 45,
   "id": "27a8f3b6-a6a6-45bc-bd8f-de4eb7cb22bd",
   "metadata": {},
   "outputs": [],
   "source": [
    "function curry(fn: Function) {\n",
    " return (...xs: any[]) => {\n",
    "   if (xs.length >= fn.length) {\n",
    "     return fn(...xs);\n",
    "   }\n",
    "   return curry(fn.bind(null, ...xs));\n",
    " };\n",
    "}\n"
   ]
  },
  {
   "cell_type": "code",
   "execution_count": 15,
   "id": "8fceb8f5-7fef-4d6f-8111-cf87f9e5c95f",
   "metadata": {},
   "outputs": [],
   "source": [
    "const isRightTriangle = curry((\n",
    "  a: number, \n",
    "  b: number, \n",
    "  c: number\n",
    ") => {\n",
    " return c*c == a*a + b*b;\n",
    "})\n"
   ]
  },
  {
   "cell_type": "code",
   "execution_count": 18,
   "id": "6dab390e-4296-4fc5-9633-bd493e30185a",
   "metadata": {},
   "outputs": [
    {
     "name": "stdout",
     "output_type": "stream",
     "text": [
      "\u001b[33mtrue\u001b[39m\n"
     ]
    }
   ],
   "source": [
    "isRightTriangle(3)(4)(5)"
   ]
  },
  {
   "cell_type": "code",
   "execution_count": 4,
   "id": "aa8f17a7-79b4-4e6a-9f7a-a4bf53e237f4",
   "metadata": {},
   "outputs": [
    {
     "name": "stdout",
     "output_type": "stream",
     "text": [
      "\u001b[33mfalse\u001b[39m\n"
     ]
    }
   ],
   "source": [
    "isRightTriangle(3, 4)(6)"
   ]
  },
  {
   "cell_type": "code",
   "execution_count": 19,
   "id": "b022b562-0b9f-42a6-9ac1-57cacfe63826",
   "metadata": {},
   "outputs": [
    {
     "name": "stdout",
     "output_type": "stream",
     "text": [
      "\u001b[33mtrue\u001b[39m\n"
     ]
    }
   ],
   "source": [
    "isRightTriangle(3)(4, 5)"
   ]
  },
  {
   "cell_type": "code",
   "execution_count": 17,
   "id": "ff7c7b7c-d834-4567-98e7-ed91f36245e6",
   "metadata": {},
   "outputs": [
    {
     "name": "stdout",
     "output_type": "stream",
     "text": [
      "\u001b[33mtrue\u001b[39m\n"
     ]
    }
   ],
   "source": [
    "isRightTriangle(3, 4, 5)"
   ]
  },
  {
   "cell_type": "markdown",
   "id": "bf210bf8-78cf-4626-b8f8-921fa46967f2",
   "metadata": {},
   "source": []
  },
  {
   "cell_type": "markdown",
   "id": "1289b813-1b06-4138-8c9a-a1767d5fa9eb",
   "metadata": {},
   "source": [
    "## __Lazy Evaluation__"
   ]
  },
  {
   "cell_type": "markdown",
   "id": "78722d87-3c4e-441d-b3a2-7ea3cb483ff5",
   "metadata": {},
   "source": [
    "### \"Lazy evaluation, or call-by-need, is an evaluation strategy which delays the evaluation of an expression until its value is needed” *(Wikipedia)*"
   ]
  },
  {
   "cell_type": "markdown",
   "id": "5652b383-df75-49dd-9d4d-667f8db0dca5",
   "metadata": {},
   "source": [
    "#### Alternativas\n",
    "\n",
    "- Eager\n",
    "- Short-Circuit\n",
    "..."
   ]
  },
  {
   "cell_type": "markdown",
   "id": "6c6f27b3-7b26-4141-9319-5f7b1498f111",
   "metadata": {
    "tags": []
   },
   "source": [
    "### __Alguns exemplos em Haskell:__"
   ]
  },
  {
   "cell_type": "markdown",
   "id": "c0393747-f2e8-4835-b8f0-29ce6f20ef1a",
   "metadata": {},
   "source": [
    "-- Estrutura de dados 'infinita'  \n",
    "`[1..]` => 1, 2, 3, 4, 5, ...\n",
    "\n",
    "-- Parâmetros da função take não serão avaliados imediatamente  \n",
    "`sum (take 3 [1..])`\n",
    "\n",
    "-- Erro não será identificado  \n",
    "`add x y = x + x`  \n",
    "`add 4 (error \"404\")`  \n",
    "`8`"
   ]
  },
  {
   "cell_type": "markdown",
   "id": "6ebf61c4-ad49-42ec-b6a3-ee2fcca565ea",
   "metadata": {},
   "source": [
    "### __Javascript / Typescript não é lazy por padrão!__"
   ]
  },
  {
   "cell_type": "code",
   "execution_count": 46,
   "id": "26c09ea4-ed9a-40a9-a3b3-b16db879cb52",
   "metadata": {},
   "outputs": [],
   "source": [
    "function doubleX(x: number, y: any) {\n",
    "    return x + x\n",
    "}"
   ]
  },
  {
   "cell_type": "code",
   "execution_count": 44,
   "id": "bc65be7f-7da2-4ed5-8e32-77d4f4adbbea",
   "metadata": {},
   "outputs": [
    {
     "name": "stdout",
     "output_type": "stream",
     "text": [
      "teste\n",
      "\u001b[33m24\u001b[39m\n"
     ]
    }
   ],
   "source": [
    "// Se o argumento fosse avaliado de forma lazy, teste não seria mostrado!\n",
    "doubleX(12, console.log('teste'))"
   ]
  },
  {
   "cell_type": "markdown",
   "id": "68c6ccc3-ff0a-421f-b110-8bc252ba4957",
   "metadata": {},
   "source": [
    "### __Como simular esse tipo de avaliação ?__\n",
    "\n",
    "- Toda expressão estando encapsulada em funções!\n",
    "- Generators!"
   ]
  },
  {
   "cell_type": "markdown",
   "id": "bfda5de8-fa7e-4409-a4be-134573978265",
   "metadata": {},
   "source": [
    "#### __Definindo um tipo *Lazy*__"
   ]
  },
  {
   "cell_type": "markdown",
   "id": "07056a30-bb38-49e7-9c21-0f0dee611d66",
   "metadata": {},
   "source": [
    "Toda expressão lazy agora precisará ser primeiro aplicada, para ser avaliada:"
   ]
  },
  {
   "cell_type": "code",
   "execution_count": 4,
   "id": "4fe9cb6d-4438-4bf5-8716-82fcd8f4ffd4",
   "metadata": {},
   "outputs": [],
   "source": [
    "type Lazy<T> = () => T"
   ]
  },
  {
   "cell_type": "markdown",
   "id": "7ac344f4-b03f-4236-a2b4-4869bea82cd2",
   "metadata": {},
   "source": [
    "#### __Resolvendo problemas da forma *lazy*__"
   ]
  },
  {
   "cell_type": "markdown",
   "id": "f5175036-2ff5-40d2-b4a7-cd0eae0fb97e",
   "metadata": {},
   "source": [
    "#### Adiando a avaliação de parâmetros"
   ]
  },
  {
   "cell_type": "code",
   "execution_count": 97,
   "id": "411e721b-e6ae-44d9-bebf-cdd630f6efaf",
   "metadata": {},
   "outputs": [],
   "source": [
    "function doubleX(x: Lazy<number>, y: Lazy<any>): Lazy<number> {\n",
    "    return () => {\n",
    "        console.log(\"Dobrei!\");\n",
    "        return x() + x();\n",
    "    }\n",
    "}"
   ]
  },
  {
   "cell_type": "code",
   "execution_count": 100,
   "id": "be23b1a0-f612-4c6f-9e61-2266aa5516ed",
   "metadata": {},
   "outputs": [
    {
     "name": "stdout",
     "output_type": "stream",
     "text": [
      "Dobrei!\n",
      "\u001b[33m24\u001b[39m\n"
     ]
    }
   ],
   "source": [
    "const double = doubleX(() => 12, () => console.log('teste'))\n",
    "\n",
    "console.log(double())"
   ]
  },
  {
   "cell_type": "markdown",
   "id": "6de4cdf6-934b-4fd1-9db8-6452be1f13a3",
   "metadata": {},
   "source": [
    "#### Lista infinita"
   ]
  },
  {
   "cell_type": "markdown",
   "id": "a171758a-edbc-4955-955f-86fa2d239ae1",
   "metadata": {},
   "source": [
    "Generators executam e avaliam código somente quando necessário, guardando e retornando estados intermediários."
   ]
  },
  {
   "cell_type": "code",
   "execution_count": 88,
   "id": "aa1e0323-1d1f-40ba-af8b-b9db01862ce8",
   "metadata": {},
   "outputs": [],
   "source": [
    "// Infinite fibonacci generator\n",
    "function* fibonacciNumbers() {\n",
    "    let memo = [1, -1];\n",
    "    while (true) {\n",
    "        memo = [memo[0] + memo[1], memo[0]];\n",
    "        yield memo[0];\n",
    "    }\n",
    "}"
   ]
  },
  {
   "cell_type": "code",
   "execution_count": 89,
   "id": "7b4f1295-e39b-4652-bcd4-23578655bb35",
   "metadata": {},
   "outputs": [],
   "source": [
    "function getSequence(n: number, g: Generator) {\n",
    "    if (n <= 0) {\n",
    "        console.log(\"END\");\n",
    "    } else {\n",
    "        console.log(`${g.next().value}, `);\n",
    "        getSequence(n - 1, g);\n",
    "    }\n",
    "}"
   ]
  },
  {
   "cell_type": "code",
   "execution_count": 90,
   "id": "5ba513aa-8fa5-40ce-9e28-2538ff26c6e1",
   "metadata": {},
   "outputs": [
    {
     "name": "stdout",
     "output_type": "stream",
     "text": [
      "0, \n",
      "1, \n",
      "1, \n",
      "2, \n",
      "3, \n",
      "5, \n",
      "8, \n",
      "13, \n",
      "21, \n",
      "34, \n",
      "END\n"
     ]
    }
   ],
   "source": [
    "const fibGenerator = fibonacciNumbers();\n",
    "\n",
    "getSequence(10, fibGenerator);"
   ]
  },
  {
   "cell_type": "markdown",
   "id": "5e50c84c-7fd3-42af-8ef0-125ae5936405",
   "metadata": {},
   "source": [
    "#### E é possível criar listas infinitas sem generators ? Sim!"
   ]
  },
  {
   "cell_type": "code",
   "execution_count": 11,
   "id": "e3181506-9017-46d8-86af-208e48564089",
   "metadata": {},
   "outputs": [],
   "source": [
    "type LazyList<T> = Lazy<{\n",
    "    head: Lazy<T>,\n",
    "    tail: LazyList<T>\n",
    "} | null>"
   ]
  },
  {
   "cell_type": "code",
   "execution_count": 14,
   "id": "f9feeca6-b502-46b3-815c-5db4b54b04df",
   "metadata": {},
   "outputs": [
    {
     "name": "stdout",
     "output_type": "stream",
     "text": [
      "\u001b[36m[Function (anonymous)]\u001b[39m\n",
      "{ head: \u001b[36m[Function: head]\u001b[39m, tail: \u001b[36m[Function (anonymous)]\u001b[39m }\n",
      "\u001b[33m3\u001b[39m\n",
      "\u001b[33m4\u001b[39m\n",
      "\u001b[33m5\u001b[39m\n",
      "\u001b[33m6\u001b[39m\n",
      "\u001b[33m7\u001b[39m\n"
     ]
    }
   ],
   "source": [
    "function range(begin: Lazy<number>): LazyList<number> {\n",
    "    return () => {\n",
    "        let x = begin();\n",
    "        return {\n",
    "            head: () => x,\n",
    "            tail: range(() => x + 1)\n",
    "        };\n",
    "    }\n",
    "}\n",
    "\n",
    "console.log(range(() => 3));\n",
    "console.log(range(() => 3)());\n",
    "console.log(range(() => 3)()!.head());\n",
    "console.log(range(() => 3)()!.tail()!.head());\n",
    "console.log(range(() => 3)()!.tail()!.tail()!.head());\n",
    "console.log(range(() => 3)()!.tail()!.tail()!.tail()!.head());\n",
    "console.log(range(() => 3)()!.tail()!.tail()!.tail()!.tail()!.head());"
   ]
  },
  {
   "cell_type": "code",
   "execution_count": null,
   "id": "2726fbcb-5d16-4e4f-9fc4-a1c6ff9655bc",
   "metadata": {},
   "outputs": [],
   "source": []
  },
  {
   "cell_type": "code",
   "execution_count": null,
   "id": "53c8891c-fbd2-4dcd-9569-277d8ed4c0ac",
   "metadata": {},
   "outputs": [],
   "source": []
  }
 ],
 "metadata": {
  "kernelspec": {
   "display_name": "TypeScript",
   "language": "typescript",
   "name": "tslab"
  },
  "language_info": {
   "codemirror_mode": {
    "mode": "typescript",
    "name": "javascript",
    "typescript": true
   },
   "file_extension": ".ts",
   "mimetype": "text/typescript",
   "name": "typescript",
   "version": "3.7.2"
  }
 },
 "nbformat": 4,
 "nbformat_minor": 5
}
