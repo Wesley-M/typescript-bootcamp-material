{
 "cells": [
  {
   "cell_type": "code",
   "execution_count": 11,
   "id": "6f4dd8a6-0362-43fe-bf8f-9725088e28bf",
   "metadata": {},
   "outputs": [],
   "source": [
    "function curry(fn: Function) {\n",
    " return (...xs: any[]) => {\n",
    "   if (xs.length >= fn.length) {\n",
    "     return fn(...xs);\n",
    "   }\n",
    "   return curry(fn.bind(null, ...xs));\n",
    " };\n",
    "}\n"
   ]
  },
  {
   "cell_type": "code",
   "execution_count": 12,
   "id": "8fceb8f5-7fef-4d6f-8111-cf87f9e5c95f",
   "metadata": {},
   "outputs": [],
   "source": [
    "const isRightTriangle = curry((\n",
    "  a: number, \n",
    "  b: number, \n",
    "  c: number\n",
    ") => {\n",
    " return c*c == a*a + b*b;\n",
    "})\n"
   ]
  },
  {
   "cell_type": "code",
   "execution_count": 13,
   "id": "aa8f17a7-79b4-4e6a-9f7a-a4bf53e237f4",
   "metadata": {},
   "outputs": [
    {
     "name": "stdout",
     "output_type": "stream",
     "text": [
      "\u001b[33mtrue\u001b[39m\n"
     ]
    }
   ],
   "source": [
    "isRightTriangle(3, 4)(5)"
   ]
  },
  {
   "cell_type": "code",
   "execution_count": null,
   "id": "4b72ede8-6262-4db0-ba92-e41729a99db5",
   "metadata": {},
   "outputs": [],
   "source": []
  }
 ],
 "metadata": {
  "kernelspec": {
   "display_name": "TypeScript",
   "language": "typescript",
   "name": "tslab"
  },
  "language_info": {
   "codemirror_mode": {
    "mode": "typescript",
    "name": "javascript",
    "typescript": true
   },
   "file_extension": ".ts",
   "mimetype": "text/typescript",
   "name": "typescript",
   "version": "3.7.2"
  }
 },
 "nbformat": 4,
 "nbformat_minor": 5
}
