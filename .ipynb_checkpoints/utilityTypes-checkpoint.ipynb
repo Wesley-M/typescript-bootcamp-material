{
 "cells": [
  {
   "cell_type": "markdown",
   "id": "4d51e96d-c7d4-465f-9eaa-105ab73e91dd",
   "metadata": {},
   "source": [
    "# Utility Types"
   ]
  },
  {
   "cell_type": "code",
   "execution_count": null,
   "id": "1e46ff3a-a6b1-43c9-ae73-6b3ee6c084bd",
   "metadata": {},
   "outputs": [],
   "source": []
  }
 ],
 "metadata": {
  "kernelspec": {
   "display_name": "TypeScript",
   "language": "typescript",
   "name": "tslab"
  },
  "language_info": {
   "codemirror_mode": {
    "mode": "typescript",
    "name": "javascript",
    "typescript": true
   },
   "file_extension": ".ts",
   "mimetype": "text/typescript",
   "name": "typescript",
   "version": "3.7.2"
  }
 },
 "nbformat": 4,
 "nbformat_minor": 5
}
