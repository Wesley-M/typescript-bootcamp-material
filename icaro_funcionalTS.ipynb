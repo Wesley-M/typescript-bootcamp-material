{
  "metadata": {
    "language_info": {
      "codemirror_mode": {
        "name": "python",
        "version": 3
      },
      "file_extension": ".py",
      "mimetype": "text/x-python",
      "name": "python",
      "nbconvert_exporter": "python",
      "pygments_lexer": "ipython3",
      "version": "3.8"
    },
    "kernelspec": {
      "name": "python",
      "display_name": "Python (Pyodide)",
      "language": "python"
    },
    "colab": {
      "name": "icaro-funcionalTS.ipynb",
      "provenance": []
    }
  },
  "nbformat_minor": 0,
  "nbformat": 4,
  "cells": [
    {
      "cell_type": "markdown",
      "source": [
        "# Propriedades opcionais"
      ],
      "metadata": {
        "id": "z2ChjDwy-uTh"
      }
    },
    {
      "cell_type": "markdown",
      "source": [
        "Em TypeScript, pode-se especificar que algumas, ou todas, as propriedades de um objeto são opcionais. Para tal, basta adicionar um ponto de interrogação (?) após o nome da propriedade. Veja exemplos a seguir:"
      ],
      "metadata": {
        "id": "txOvv8tS-uTl"
      }
    },
    {
      "cell_type": "code",
      "source": [
        "interface Client {\n",
        "    name: string;\n",
        "    cpf: number; \n",
        "    email?: string; \n",
        "    phone?: string; \n",
        "}\n",
        "\n",
        "\n",
        "const client1: Client = {\n",
        "    name: 'José',\n",
        "    cpf: 71232668036,\n",
        "}\n",
        "\n",
        "\n",
        "const client2: Client = {\n",
        "    name: 'Pedro',\n",
        "    cpf: 52811974016,\n",
        "    email: 'pedro@gmail.com',\n",
        "}\n",
        "\n",
        "\n",
        "const client3: Client = {\n",
        "    name: 'Thiago',\n",
        "    cpf: 96232489039,\n",
        "    email: 'thiago@gmail.com',\n",
        "    phone: '(83) 9 9421-4245'\n",
        "}\n",
        "\n",
        "\n",
        "function printDetails(client: Client) {\n",
        "    console.log('Name:', client.name);\n",
        "    console.log('CPF:', client.cpf);\n",
        "\n",
        "    //console.log('Email:', client.email); --> possivelmente undefined\n",
        "\n",
        "    if (client.email) {\n",
        "        console.log('Email:', client.email);\n",
        "    }\n",
        "\n",
        "    if (client.phone) {\n",
        "        console.log('Phone number:', client.phone);\n",
        "    }\n",
        "\n",
        "    console.log()\n",
        "}\n",
        "\n",
        "printDetails(client1);\n",
        "printDetails(client2);\n",
        "printDetails(client3);\n",
        "\n",
        "\n",
        "type Car = {\n",
        "    year: number,\n",
        "    type: string,\n",
        "    model?: string,\n",
        "}\n",
        "\n",
        "const car: Car = {\n",
        "    year: 2015,\n",
        "    type: 'Toyota',\n",
        "}"
      ],
      "metadata": {
        "id": "xqNBJimp-uTm"
      },
      "execution_count": null,
      "outputs": []
    },
    {
      "cell_type": "markdown",
      "source": [
        "# Classes"
      ],
      "metadata": {
        "id": "Ju4CF0fE-uTo"
      }
    },
    {
      "cell_type": "markdown",
      "source": [
        "Uma classe pode pode ser comporta por:\n",
        "\n",
        "- Propriedades    \n",
        "- Construtor\n",
        "- Métodos"
      ],
      "metadata": {
        "id": "ad7iEL8x-uTp"
      }
    },
    {
      "cell_type": "code",
      "source": [
        "class Employee {\n",
        "    code: number;\n",
        "    name: string;\n",
        "\n",
        "    constructor(code: number, name: string) {\n",
        "            this.code = code;\n",
        "            this.name = name;\n",
        "    }\n",
        "\n",
        "    getSalary() : number {\n",
        "        return 10000;\n",
        "    }\n",
        "}"
      ],
      "metadata": {
        "id": "UW-WbzAt-uTp"
      },
      "execution_count": null,
      "outputs": []
    },
    {
      "cell_type": "markdown",
      "source": [
        "## Modificadores de acesso"
      ],
      "metadata": {
        "id": "DwXSjyVo-uTq"
      }
    },
    {
      "cell_type": "markdown",
      "source": [
        "Existem três modificadores de visibilidade principais no TypeScript.\n",
        "\n",
        "- `public` - (padrão) permite acesso ao membro da classe de qualquer lugar;\n",
        "- `private` - permite acesso apenas ao membro da classe de dentro da classe;\n",
        " - `protected` - permite o acesso ao membro da classe a partir dentro da classe e em quaisquer classes que o herdem"
      ],
      "metadata": {
        "id": "IM87-LMb-uTq"
      }
    },
    {
      "cell_type": "code",
      "source": [
        "class Person {\n",
        "  private name: string;\n",
        "\n",
        "  public constructor(name: string) {\n",
        "    this.name = name;\n",
        "  }\n",
        "\n",
        "  public getName(): string {\n",
        "    return this.name;\n",
        "  }\n",
        "}\n",
        "\n",
        "const person = new Person(\"Pedro\");\n",
        "console.log(person.getName());"
      ],
      "metadata": {
        "tags": [],
        "id": "npJy3rxX-uTr"
      },
      "execution_count": null,
      "outputs": []
    },
    {
      "cell_type": "code",
      "source": [
        "class Person {\n",
        "  \n",
        "  public constructor(private name: string) {}\n",
        "\n",
        "  public getName(): string {\n",
        "    return this.name;\n",
        "  }\n",
        "}\n",
        "\n",
        "const person = new Person(\"Pedro\");\n",
        "console.log(person.getName());"
      ],
      "metadata": {
        "id": "YX0eHcLT-uTr"
      },
      "execution_count": null,
      "outputs": []
    },
    {
      "cell_type": "markdown",
      "source": [
        "## Readonly"
      ],
      "metadata": {
        "id": "IiRxpzxX-uTs"
      }
    },
    {
      "cell_type": "markdown",
      "source": [
        "- O TypeScript inclui a palavra-chave `readonly` que torna uma propriedade como somente leitura na classe, tipo ou interface.\n",
        "- Os membros `readonly` podem ser acessados fora da classe, mas seu valor não pode ser alterado."
      ],
      "metadata": {
        "id": "GZ1aUhLh-uTs"
      }
    },
    {
      "cell_type": "code",
      "source": [
        "class Person {\n",
        "  private readonly name: string; // name precisa ser inicializado na declaração, ou dentro do construtor da classe.\n",
        "    \n",
        "  public constructor(name: string) {\n",
        "    this.name = name;\n",
        "  }\n",
        "\n",
        "  public getName(): string {\n",
        "    return this.name;\n",
        "  }\n",
        "}\n",
        "\n",
        "const person = new Person(\"Pedro\");\n",
        "console.log(person.getName());"
      ],
      "metadata": {
        "id": "JpEf51QO-uTt"
      },
      "execution_count": null,
      "outputs": []
    },
    {
      "cell_type": "markdown",
      "source": [
        "## Herança e Classes Abstratas"
      ],
      "metadata": {
        "id": "ekrZ0lkJ-uTt"
      }
    },
    {
      "cell_type": "markdown",
      "source": [
        "- As classes podem estender umas às outras por meio da palavra-chave extends. \n",
        "- Uma classe só pode estender uma outra classe.\n",
        "###\n",
        "- As classes abstratas podem ser implementadas de modo que elas sejam usadas como uma classe base para outras classes."
      ],
      "metadata": {
        "id": "K0ejqfLX-uTt"
      }
    },
    {
      "cell_type": "code",
      "source": [
        "abstract class Polygon {\n",
        "  public abstract getArea(): number;\n",
        "\n",
        "  public toString(): string {\n",
        "    return `Polygon[area=${this.getArea()}]`;\n",
        "  }\n",
        "}\n",
        "\n",
        "class Rectangle extends Polygon {\n",
        "  public constructor(protected readonly width: number, protected readonly height: number) {\n",
        "    super();\n",
        "  }\n",
        "\n",
        "  public getArea(): number {\n",
        "    return this.width * this.height;\n",
        "  }\n",
        "}"
      ],
      "metadata": {
        "id": "qGxL3uUs-uTu"
      },
      "execution_count": null,
      "outputs": []
    },
    {
      "cell_type": "markdown",
      "source": [
        "## Sobrescrita de métodos"
      ],
      "metadata": {
        "id": "ZedL_xCb-uTu"
      }
    },
    {
      "cell_type": "markdown",
      "source": [
        "- Quando uma classe estende outra classe, ela pode substituir os membros da superclasse com o mesmo nome.\n",
        "\n",
        "- Versões mais recentes do TypeScript permitem definir explicitamente tal comportamento com a palavra-chave override."
      ],
      "metadata": {
        "id": "rw5vroZl-uTu"
      }
    },
    {
      "cell_type": "code",
      "source": [
        "class Rectangle {\n",
        "  \n",
        "  public constructor(protected readonly width: number, protected readonly height: number) {}\n",
        "\n",
        "  public getArea(): number {\n",
        "    return this.width * this.height;\n",
        "  }\n",
        "\n",
        "  public toString(): string {\n",
        "    return `Rectangle[width=${this.width}, height=${this.height}]`;\n",
        "  }\n",
        "}\n",
        "\n",
        "class Square extends Rectangle {\n",
        "  public constructor(width: number) {\n",
        "    super(width, width);\n",
        "  }\n",
        "\n",
        "  // Esse método substitui o método da classe Rectangle.\n",
        "  public override toString(): string {\n",
        "    return `Square[width=${this.width}]`;\n",
        "  }\n",
        "}"
      ],
      "metadata": {
        "id": "76-9-rsH-uTu"
      },
      "execution_count": null,
      "outputs": []
    },
    {
      "cell_type": "markdown",
      "source": [
        "# Interfaces"
      ],
      "metadata": {
        "id": "rMBxUPis-uTv"
      }
    },
    {
      "cell_type": "markdown",
      "source": [
        "- Uma interface representa um contrato sintático ao qual uma entidade deve estar em conformidade. \n",
        "- Interfaces definem propriedades, métodos e eventos, que são os membros da interface. As interfaces contêm apenas a declaração dos membros.\n",
        "- É responsabilidade da classe derivada definir os membros."
      ],
      "metadata": {
        "id": "wQBz2R8e-uTv"
      }
    },
    {
      "cell_type": "code",
      "source": [
        "interface Shape {\n",
        "  getArea: () => number;\n",
        "}\n",
        "\n",
        "class Rectangle implements Shape {\n",
        "  public constructor(protected readonly width: number, protected readonly height: number) {}\n",
        "\n",
        "  public getArea(): number {\n",
        "    return this.width * this.height;\n",
        "  }\n",
        "}"
      ],
      "metadata": {
        "id": "QEzjVDeS-uTv"
      },
      "execution_count": null,
      "outputs": []
    },
    {
      "cell_type": "markdown",
      "source": [
        "- Uma interface pode ser estendida por outras interfaces.\n",
        "- Typescript permite que uma interface herde de várias interfaces."
      ],
      "metadata": {
        "id": "LP2uKS_c-uTw"
      }
    },
    {
      "cell_type": "code",
      "source": [
        "interface Person {\n",
        "    name: string;\n",
        "}\n",
        "\n",
        "interface Job {\n",
        "    title: string;\n",
        "}\n",
        "\n",
        "interface Employee extends Person, Job {\n",
        "    employeeCode: string;\n",
        "}\n",
        "let employee: Employee = {\n",
        "    name: 'Joe',\n",
        "    employeeCode: '123',\n",
        "    title: 'laborer'\n",
        "}"
      ],
      "metadata": {
        "id": "Mo5sKgHJ-uTw"
      },
      "execution_count": null,
      "outputs": []
    },
    {
      "cell_type": "markdown",
      "source": [
        "# Operadores"
      ],
      "metadata": {
        "id": "xwV2HWEC-uTw"
      }
    },
    {
      "cell_type": "markdown",
      "source": [
        "## typeof"
      ],
      "metadata": {
        "id": "0w5AVt_E-uTy"
      }
    },
    {
      "cell_type": "markdown",
      "source": [
        "- Utiliza-se o operador typeof para determinar o tipo de dados de uma variável JavaScript."
      ],
      "metadata": {
        "id": "NhkHu2la-uTy"
      }
    },
    {
      "cell_type": "code",
      "source": [
        "console.log(typeof \"John\")                 // \"string\"\n",
        "console.log(typeof 3.14)                   // \"number\"\n",
        "console.log(typeof NaN)                    // \"number\"\n",
        "console.log(typeof false)                  // \"boolean\"\n",
        "console.log(typeof [1,2,3,4])              // \"object\"\n",
        "console.log(typeof {name:'John', age:34})  // \"object\"\n",
        "console.log(typeof new Date())             // \"object\"\n",
        "console.log(typeof function () {})         // \"function\"\n",
        "console.log(typeof null)                   // \"object\""
      ],
      "metadata": {
        "id": "4b-lxwfd-uTy"
      },
      "execution_count": null,
      "outputs": []
    },
    {
      "cell_type": "markdown",
      "source": [
        "- O TypeScript adiciona um operador typeof que você pode usar em um contexto de tipo para se referir ao tipo de uma variável ou propriedade:"
      ],
      "metadata": {
        "id": "EJbLy8vu-uTy"
      }
    },
    {
      "cell_type": "code",
      "source": [
        "let s = \"hello\";\n",
        "let n: typeof s;"
      ],
      "metadata": {
        "id": "ewICogrz-uTy"
      },
      "execution_count": null,
      "outputs": []
    },
    {
      "cell_type": "markdown",
      "source": [
        "- Isso não é muito útil para tipos básicos, mas combinado com outros operadores de tipo, você pode usar typeof para expressar convenientemente muitos padrões."
      ],
      "metadata": {
        "id": "wR5FH8Mo-uTz"
      }
    },
    {
      "cell_type": "markdown",
      "source": [
        "## as"
      ],
      "metadata": {
        "id": "RZzJwR-q-uTz"
      }
    },
    {
      "cell_type": "markdown",
      "source": [
        "A palavra-chave `as` é uma declaração de tipo no TypeScript que diz ao compilador para considerar o objeto como um tipo diferente do tipo que o compilador infere que o objeto seja."
      ],
      "metadata": {
        "id": "tDfaiqIS-uTz"
      }
    },
    {
      "cell_type": "code",
      "source": [
        "interface Foo {\n",
        "    prop1: number;\n",
        "    prop2: string;\n",
        "}\n",
        "\n",
        "let foo = {} as Foo;\n",
        "foo.prop1 = 123;\n",
        "foo.prop2 = 'hello';"
      ],
      "metadata": {
        "id": "-QDrDiAL-uTz"
      },
      "execution_count": null,
      "outputs": []
    },
    {
      "cell_type": "markdown",
      "source": [
        "## in"
      ],
      "metadata": {
        "id": "PRi1Dhv2-uTz"
      }
    },
    {
      "cell_type": "markdown",
      "source": [
        "- O operador in retorna true se a propriedade especificada estiver no objeto especificado ou em sua cadeia de protótipos.\n",
        "- O compilador TypeScript usa uma expressão in para restringir o tipo da variável na expressão."
      ],
      "metadata": {
        "id": "GxycrAZv-uTz"
      }
    },
    {
      "cell_type": "markdown",
      "source": [
        "A sintaxe é:\n",
        "\n",
        "`propertyName in objectVariable;`"
      ],
      "metadata": {
        "id": "HSwoU8n3-uT0"
      }
    },
    {
      "cell_type": "code",
      "source": [
        "type Person = {\n",
        "  firstName: string,\n",
        "  lastName: string,\n",
        "  phone?: number,\n",
        "}\n",
        "\n",
        "let person1: Person = {\n",
        "  firstName: \"Anna\",\n",
        "  lastName: \"Silva\",\n",
        "  phone: 83993231232,\n",
        "}\n",
        "\n",
        "let person2: Person = {\n",
        "  firstName: \"João\",\n",
        "  lastName: \"Andrade\",\n",
        "}\n",
        "\n",
        "function sayPhoneNumber(person: Person) {\n",
        "  if (\"phone\" in person) {\n",
        "    console.log(`${person.firstName}'s phone is ${person.phone}!`);\n",
        "  }\n",
        "  else {\n",
        "    console.log(\"phone property does not exist.\");\n",
        "  }\n",
        "}\n",
        "\n",
        "sayPhoneNumber(person1)\n",
        "sayPhoneNumber(person2)"
      ],
      "metadata": {
        "id": "4meDKWPf-uT0"
      },
      "execution_count": null,
      "outputs": []
    },
    {
      "cell_type": "markdown",
      "source": [
        "## instanceof"
      ],
      "metadata": {
        "id": "mNfsZXws-uT0"
      }
    },
    {
      "cell_type": "markdown",
      "source": [
        "- Usado para verificar o tipo de um objeto em tempo de execução.\n",
        "- Se o valor retornado for true, isso indica que o objeto é uma instância de uma determinada classe e se o valor retornado for false, não será.\n",
        "- O operador instanceof também leva em consideração a herança. Ele retorna true se o objeto herdar do protótipo das classes."
      ],
      "metadata": {
        "id": "GeGddPBU-uT0"
      }
    },
    {
      "cell_type": "code",
      "source": [
        "let fruits = [\"Apple\", \"Mango\", \"Banana\"];\n",
        "\n",
        "console.log(fruits instanceof Array); // true\n",
        "console.log(fruits instanceof Object); // true\n",
        "console.log(fruits instanceof Number); // false\n",
        "console.log(fruits instanceof String); // false\n",
        "\n",
        "class A {}\n",
        "class B extends A {}\n",
        "\n",
        "const o1 = new A(); \n",
        "o1 instanceof A // true, pois Object.getPrototypeOf(o1) === A.prototype\n",
        "o1 instanceof B // false, pois B.prototype não está em nenhum lugar na cadeia de protótipos do o1\n",
        "\n",
        "const o2 = new B();\n",
        "o2 instanceof A // true, pois Object.getPrototypeOf(Object.getPrototypeOf(o2)) === A.prototype\n",
        "o2 instanceof B // true, pois Object.getPrototypeOf(o2) === B.prototype"
      ],
      "metadata": {
        "id": "g-j_8CA--uT0"
      },
      "execution_count": null,
      "outputs": []
    },
    {
      "cell_type": "markdown",
      "source": [
        "## keyof"
      ],
      "metadata": {
        "id": "abiOgADt-uT1"
      }
    },
    {
      "cell_type": "markdown",
      "source": [
        "- O operador keyof pega um tipo de objeto e produz uma string ou união literal numérica de suas chaves. O seguinte tipo P é do mesmo tipo que \"x\" | \"s\":"
      ],
      "metadata": {
        "id": "H_wjSyQ7-uT1"
      }
    },
    {
      "cell_type": "code",
      "source": [
        "type Point = { x: number; y: number };\n",
        "type P = keyof Point;"
      ],
      "metadata": {
        "id": "ieV3c_zs-uT1"
      },
      "execution_count": null,
      "outputs": []
    },
    {
      "cell_type": "code",
      "source": [
        "interface Person {\n",
        "  name: string;\n",
        "  age: number;\n",
        "}\n",
        "\n",
        "// \"keyof Person\" aqui cria um tipo união de \"name\" e \"age\", outras strings não serão permitidas\n",
        "function printPersonProperty(person: Person, property: keyof Person) {\n",
        "  console.log(`Printing person property ${property}: \"${person[property]}\"`);\n",
        "}\n",
        "\n",
        "let person = {\n",
        "  name: \"Max\",\n",
        "  age: 27\n",
        "};\n",
        "\n",
        "printPersonProperty(person, \"name\");\n",
        "printPersonProperty(person, \"age\");"
      ],
      "metadata": {
        "id": "9SinHqwK-uT1"
      },
      "execution_count": null,
      "outputs": []
    },
    {
      "cell_type": "markdown",
      "source": [
        "- Se o tipo tiver uma assinatura de índice de string ou número, keyof retornará esses tipos:"
      ],
      "metadata": {
        "id": "MwQWCJIf-uT1"
      }
    },
    {
      "cell_type": "code",
      "source": [
        "type StringMap = { [key: string]: unknown };\n",
        "\n",
        "function createStringPair(property: keyof StringMap, value: string): StringMap {\n",
        "  return { [property]: value };\n",
        "}\n",
        "\n",
        "console.log(createStringPair(\"year\", \"1998\"))\n"
      ],
      "metadata": {
        "id": "U0D0Odd1-uT1"
      },
      "execution_count": null,
      "outputs": []
    }
  ]
}