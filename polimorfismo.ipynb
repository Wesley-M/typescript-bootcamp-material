{
 "cells": [
  {
   "cell_type": "markdown",
   "metadata": {},
   "source": [
    "# Polimorfismo"
   ]
  },
  {
   "cell_type": "markdown",
   "metadata": {},
   "source": [
    "## Subtipos\n",
    "\n",
    "Princípio que define em que classes derivadas de uma superclasse podem invocar métodos que têm a mesma assinatura, mas com comportamentos distintos."
   ]
  },
  {
   "cell_type": "markdown",
   "metadata": {},
   "source": [
    "### Definição de uma classe mãe"
   ]
  },
  {
   "cell_type": "code",
   "execution_count": 13,
   "metadata": {},
   "outputs": [],
   "source": [
    "class Shape {\n",
    "    area () {\n",
    "      return 0;\n",
    "    }\n",
    "  \n",
    "    perimeter () {\n",
    "      return 0;\n",
    "    }\n",
    "} "
   ]
  },
  {
   "cell_type": "markdown",
   "metadata": {},
   "source": [
    "### Definições de classes filhas"
   ]
  },
  {
   "cell_type": "code",
   "execution_count": 14,
   "metadata": {},
   "outputs": [],
   "source": [
    "class Circle extends Shape {\n",
    "  constructor (r) {\n",
    "    super();\n",
    "    this.radius = r;\n",
    "  }\n",
    "\n",
    "  area () {\n",
    "    return Math.PI * this.radius ** 2;\n",
    "  }\n",
    "\n",
    "  perimeter () {\n",
    "    return Math.PI * this.radius * 2;\n",
    "  }\n",
    "}"
   ]
  },
  {
   "cell_type": "code",
   "execution_count": 15,
   "metadata": {},
   "outputs": [],
   "source": [
    "class Square extends Shape {\n",
    "  constructor (w) {\n",
    "    super();\n",
    "    this.width = w;\n",
    "  }\n",
    "\n",
    "  area () {\n",
    "    return this.width * 2;\n",
    "  }\n",
    "\n",
    "  perimeter () {\n",
    "    return this.width * 4;\n",
    "  }\n",
    "}"
   ]
  },
  {
   "cell_type": "markdown",
   "metadata": {},
   "source": [
    "Definição das instâncias das classes herdadas"
   ]
  },
  {
   "cell_type": "code",
   "execution_count": 16,
   "metadata": {},
   "outputs": [],
   "source": [
    "const circle = new Circle(5);\n",
    "\n",
    "const square = new Square(5);"
   ]
  },
  {
   "cell_type": "markdown",
   "metadata": {},
   "source": [
    "Uso das funções com mesma assinatura"
   ]
  },
  {
   "cell_type": "code",
   "execution_count": 17,
   "metadata": {},
   "outputs": [],
   "source": [
    "const [circleArea, circlePerimeter] = [\n",
    "  circle.area(),\n",
    "  circle.perimeter(),\n",
    "];\n",
    "\n",
    "const [squareArea, squarePerimeter] = [\n",
    "  square.area(),\n",
    "  square.perimeter(),\n",
    "];"
   ]
  },
  {
   "cell_type": "code",
   "execution_count": 18,
   "metadata": {},
   "outputs": [
    {
     "name": "stdout",
     "output_type": "stream",
     "text": [
      "Circle { area: '78.54', perimeter: '31.42' }\n",
      "Square { area: '10.00', perimeter: '20.00' }\n"
     ]
    }
   ],
   "source": [
    "console.log('Circle', { \n",
    "  area: circleArea.toFixed(2), \n",
    "  perimeter: circlePerimeter.toFixed(2),\n",
    "})\n",
    "\n",
    "console.log('Square', { \n",
    "  area: squareArea.toFixed(2), \n",
    "  perimeter: squarePerimeter.toFixed(2),\n",
    "})"
   ]
  }
 ],
 "metadata": {
  "kernelspec": {
   "display_name": "JavaScript",
   "language": "javascript",
   "name": "jslab"
  },
  "language_info": {
   "file_extension": ".js",
   "mimetype": "text/javascript",
   "name": "javascript",
   "version": ""
  },
  "orig_nbformat": 4
 },
 "nbformat": 4,
 "nbformat_minor": 2
}
