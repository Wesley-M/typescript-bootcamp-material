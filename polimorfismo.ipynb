{
 "cells": [
  {
   "cell_type": "markdown",
   "metadata": {},
   "source": [
    "# Polimorfismo\n",
    "\n",
    "Princípio que define em que classes derivadas de uma superclasse podem invocar métodos que têm a mesma assinatura, mas com comportamentos distintos."
   ]
  },
  {
   "cell_type": "markdown",
   "metadata": {},
   "source": [
    "## Definição de uma classe mãe"
   ]
  },
  {
   "cell_type": "code",
   "execution_count": 11,
   "metadata": {},
   "outputs": [],
   "source": [
    "class Shape {\n",
    "    area() {\n",
    "      return 0;\n",
    "    }\n",
    "  \n",
    "    perimeter() {\n",
    "      return 0;\n",
    "    }\n",
    "}\n",
    "  "
   ]
  },
  {
   "cell_type": "markdown",
   "metadata": {},
   "source": [
    "## Definições de classes filhas"
   ]
  },
  {
   "cell_type": "code",
   "execution_count": 20,
   "metadata": {},
   "outputs": [],
   "source": [
    "class Circle extends Shape {\n",
    "  constructor(r) {\n",
    "    super();\n",
    "    this.radius = r;\n",
    "  }\n",
    "\n",
    "  area() {\n",
    "    return Math.PI * this.radius ** 2;\n",
    "  }\n",
    "\n",
    "  perimeter() {\n",
    "    return Math.PI * this.radius * 2;\n",
    "  }\n",
    "}"
   ]
  },
  {
   "cell_type": "code",
   "execution_count": 23,
   "metadata": {},
   "outputs": [],
   "source": [
    "class Rectangle extends Shape {\n",
    "  constructor(w, h) {\n",
    "    super();\n",
    "    this.width = w;\n",
    "    this.height = h;\n",
    "  }\n",
    "\n",
    "  area() {\n",
    "    return this.width * this.height;\n",
    "  }\n",
    "\n",
    "  perimeter() {\n",
    "    return 2 * (this.width + this.height);\n",
    "  }\n",
    "}"
   ]
  },
  {
   "cell_type": "markdown",
   "metadata": {},
   "source": [
    "Definição das instâncias das classes herdadas"
   ]
  },
  {
   "cell_type": "code",
   "execution_count": 24,
   "metadata": {},
   "outputs": [],
   "source": [
    "const circle = new Circle(5);\n",
    "\n",
    "const rectangle = new Rectangle(2, 4);"
   ]
  },
  {
   "cell_type": "markdown",
   "metadata": {},
   "source": [
    "Uso das funções com mesma assinatura"
   ]
  },
  {
   "cell_type": "code",
   "execution_count": 37,
   "metadata": {},
   "outputs": [],
   "source": [
    "const [circleArea, circlePerimeter] = [\n",
    "  circle.area(),\n",
    "  circle.perimeter(),\n",
    "];\n",
    "\n",
    "const [rectangleArea, rectanglePerimeter] = [\n",
    "  rectangle.area(),\n",
    "  rectangle.perimeter(),\n",
    "];"
   ]
  },
  {
   "cell_type": "code",
   "execution_count": 38,
   "metadata": {},
   "outputs": [
    {
     "name": "stdout",
     "output_type": "stream",
     "text": [
      "Circle { area: '78.54', perimeter: '31.42' }\n",
      "Rectangle { area: '8.00', perimeter: '12.00' }\n"
     ]
    }
   ],
   "source": [
    "console.log('Circle', { \n",
    "  area: circleArea.toFixed(2), \n",
    "  perimeter: circlePerimeter.toFixed(2),\n",
    "})\n",
    "\n",
    "console.log('Rectangle', { \n",
    "  area: rectangleArea.toFixed(2), \n",
    "  perimeter: rectanglePerimeter.toFixed(2),\n",
    "})"
   ]
  }
 ],
 "metadata": {
  "kernelspec": {
   "display_name": "JavaScript",
   "language": "javascript",
   "name": "jslab"
  },
  "language_info": {
   "file_extension": ".js",
   "mimetype": "text/javascript",
   "name": "javascript",
   "version": ""
  },
  "orig_nbformat": 4
 },
 "nbformat": 4,
 "nbformat_minor": 2
}
