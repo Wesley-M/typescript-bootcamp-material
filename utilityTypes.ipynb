{
 "cells": [
  {
   "cell_type": "markdown",
   "id": "4d51e96d-c7d4-465f-9eaa-105ab73e91dd",
   "metadata": {},
   "source": [
    "# Utility Types\n",
    "\n",
    "- A linguagem provê diferentes **tipos utilitários** para facilitar transformações de tipos usuais, que podem ser utilizadas por todo o código.\n",
    "\n",
    "- Aproximadamente 20 deles existem."
   ]
  },
  {
   "cell_type": "markdown",
   "id": "60aa3bd8-1f34-4b29-9d57-ec51e2436d02",
   "metadata": {},
   "source": [
    "## `Partial<Type>`\n",
    "\n",
    "Retorna um novo tipo com todas as propriedades de um `Type` como **opcionais**."
   ]
  },
  {
   "cell_type": "code",
   "execution_count": 5,
   "id": "9e456d28",
   "metadata": {},
   "outputs": [],
   "source": [
    "interface User {\n",
    "  age: number\n",
    "  name: string\n",
    "  email: string\n",
    "  address: {\n",
    "    street: string\n",
    "    city: string\n",
    "  }\n",
    "}\n",
    "\n",
    "type fieldsToUpdate = Partial<User>\n",
    "\n",
    "const updateUser = (user: User, fieldsToUpdate: fieldsToUpdate) => ({\n",
    "  ...user, ...fieldsToUpdate\n",
    "})\n",
    "\n",
    "const user: User = {\n",
    "  address: {\n",
    "    city: 'Campina Grande',\n",
    "    street: 'Dom Pedro II'\n",
    "  },\n",
    "  age: 36,\n",
    "  email: 'rafinha2005@gmail.com',\n",
    "  name: 'Rafa Lima',\n",
    "}\n",
    "\n",
    "const updatedInfo: fieldsToUpdate = {\n",
    "  name: 'Rafa Lima Pereira'\n",
    "}"
   ]
  },
  {
   "cell_type": "markdown",
   "id": "60aa3bd8-1f34-4b29-9d57-ec51e2436d02",
   "metadata": {},
   "source": [
    "## `Required<Type>`\n",
    "\n",
    "Retorna um novo tipo com todas as propriedades de um `Type` como **obrigatórias**.\n",
    "\n",
    "O oposto de _Partial_."
   ]
  },
  {
   "cell_type": "markdown",
   "id": "60aa3bd8-1f34-4b29-9d57-ec51e2436d02",
   "metadata": {},
   "source": [
    "## `Readonly<Type>`\n",
    "\n",
    "Retorna um novo tipo com todas as propriedades de um `Type` no modo **apenas leitura** (não permite novas atribuições).\n",
    "\n",
    "Útil com o padrão de congelar (_freezing_) objetos, para evitar edições."
   ]
  },
  {
   "cell_type": "code",
   "execution_count": 6,
   "id": "3657590d",
   "metadata": {},
   "outputs": [],
   "source": [
    "const makeReadonly = <T> (object: T): Readonly<T> => Object.freeze({...object});\n",
    "\n",
    "interface Point {\n",
    "  x: number;\n",
    "  y: number;\n",
    "}\n",
    "\n",
    "const editablePoint: Point = {\n",
    "  x: 5,\n",
    "  y: 10,\n",
    "}\n",
    "\n",
    "const readOnlyPoint = makeReadonly(editablePoint);"
   ]
  },
  {
   "cell_type": "code",
   "execution_count": 7,
   "id": "9e24c8f4",
   "metadata": {},
   "outputs": [
    {
     "name": "stdout",
     "output_type": "stream",
     "text": [
      "{ x: 25, y: 10 }\n"
     ]
    }
   ],
   "source": [
    "editablePoint.x = 25;\n",
    "editablePoint"
   ]
  },
  {
   "cell_type": "code",
   "execution_count": 14,
   "id": "b36d6e1a",
   "metadata": {},
   "outputs": [
    {
     "name": "stderr",
     "output_type": "stream",
     "text": [
      "1:15 - Cannot assign to 'x' because it is a read-only property.\n"
     ]
    }
   ],
   "source": [
    "readOnlyPoint.x = 25;\n",
    "readOnlyPoint"
   ]
  },
  {
   "cell_type": "markdown",
   "id": "2cb40c46",
   "metadata": {},
   "source": [
    "## `Pick<Keys, Type>`\n",
    "\n",
    "Cria um novo tipo **escolhendo** as propriedades pelas `Keys` de um `Type`."
   ]
  },
  {
   "cell_type": "code",
   "execution_count": null,
   "id": "10bb5628",
   "metadata": {},
   "outputs": [],
   "source": [
    "interface User {\n",
    "  age: number\n",
    "  name: string\n",
    "  email: string\n",
    "  address: {\n",
    "    street: string\n",
    "    city: string\n",
    "  }\n",
    "}"
   ]
  },
  {
   "cell_type": "code",
   "execution_count": null,
   "id": "ca43f759",
   "metadata": {},
   "outputs": [],
   "source": [
    "type simplifiedUser = Pick<User, 'name' | 'age'>\n",
    "\n",
    "const simpleUser: simplifiedUser = {\n",
    "  name: 'Joana',\n",
    "  age: 23,\n",
    "}"
   ]
  },
  {
   "cell_type": "markdown",
   "id": "2cb40c46",
   "metadata": {},
   "source": [
    "## `Omit<Keys, Type>`\n",
    "\n",
    "Cria um novo tipo **removendo** as propriedades pelas `Keys` de um `Type`."
   ]
  },
  {
   "cell_type": "code",
   "execution_count": null,
   "id": "66475eb9",
   "metadata": {},
   "outputs": [],
   "source": [
    "type omitUser = Omit<User, 'email' | 'address'>\n",
    "\n",
    "const omittedUser: omitUser = {\n",
    "  name: 'Joana',\n",
    "  age: 23,\n",
    "}"
   ]
  },
  {
   "cell_type": "markdown",
   "id": "2cb40c46",
   "metadata": {},
   "source": [
    "## `Record<Keys, Type>`\n",
    "\n",
    "Cria um novo tipo em que as chaves são do tipo de `Keys` e os valores dessas chaves são do tipo `Type`.\n",
    "\n",
    "Usado para **mapear** propriedades de um tipo para outro."
   ]
  },
  {
   "cell_type": "code",
   "execution_count": 9,
   "id": "19977ee0",
   "metadata": {},
   "outputs": [],
   "source": [
    "interface Cat {\n",
    "  age: number;\n",
    "  name: string;\n",
    "}\n",
    "\n",
    "type CatBreed = 'persa' | 'siames' | 'munchkin'\n",
    "\n",
    "const catsByBreed: Record<CatBreed, Cat[]> = {\n",
    "  persa: [\n",
    "    {\n",
    "      age: 2,\n",
    "      name: 'Alberto',\n",
    "    },\n",
    "    {\n",
    "      age: 3,\n",
    "      name: 'James',\n",
    "    },\n",
    "  ],\n",
    "  siames: [\n",
    "    {\n",
    "      age: 5,\n",
    "      name: 'Jarbas',\n",
    "    },\n",
    "  ],\n",
    "  munchkin: [\n",
    "    {\n",
    "      age: 1,\n",
    "      name: 'Francisca',\n",
    "    },\n",
    "    {\n",
    "      age: 1,\n",
    "      name: 'Robertinha',\n",
    "    },\n",
    "  ],\n",
    "}"
   ]
  },
  {
   "cell_type": "markdown",
   "id": "2cb40c46",
   "metadata": {},
   "source": [
    "## `Exclude<UnionType, ExcludedMembers>`\n",
    "\n",
    "Cria um novo tipo **excluindo** de uma **união de tipos** (`UnionType`) todos os membros que são assinaláveis ao `ExcludedMembers`."
   ]
  },
  {
   "cell_type": "code",
   "execution_count": 10,
   "id": "1ae113ad",
   "metadata": {},
   "outputs": [],
   "source": [
    "type Dimensions3D = 'x' | 'y' | 'z'\n",
    "type Point3D = Record<Dimensions3D, number>\n",
    "\n",
    "const coordinate3D: Point3D = {\n",
    "  x: 3,\n",
    "  y: 5,\n",
    "  z: 12,\n",
    "}"
   ]
  },
  {
   "cell_type": "code",
   "execution_count": 11,
   "id": "6566c4cd",
   "metadata": {},
   "outputs": [],
   "source": [
    "type Dimensions2D = Exclude<Dimensions3D, 'z'>\n",
    "type Point2D = Record<Dimensions2D, number>\n",
    "\n",
    "const coordinate2D: Point2D = {\n",
    "  x: 15,\n",
    "  y: 7,\n",
    "}"
   ]
  },
  {
   "cell_type": "markdown",
   "id": "2cb40c46",
   "metadata": {},
   "source": [
    "## `ReturnType<Type>`\n",
    "\n",
    "Cria um novo tipo com base no **tipo de retorno** de uma função."
   ]
  },
  {
   "cell_type": "code",
   "execution_count": 12,
   "id": "503db4c5",
   "metadata": {},
   "outputs": [],
   "source": [
    "const createUser = (name: string) => ({\n",
    "  id: Math.random(),\n",
    "  name\n",
    "})\n",
    "\n",
    "type UserInfo = ReturnType<typeof createUser>\n",
    "\n",
    "const newUser: UserInfo = {\n",
    "  id: 5,\n",
    "  name: 'Karla'\n",
    "}"
   ]
  }
 ],
 "metadata": {
  "kernelspec": {
   "display_name": "TypeScript",
   "language": "typescript",
   "name": "tslab"
  },
  "language_info": {
   "codemirror_mode": {
    "mode": "typescript",
    "name": "javascript",
    "typescript": true
   },
   "file_extension": ".ts",
   "mimetype": "text/typescript",
   "name": "typescript",
   "version": "3.7.2"
  }
 },
 "nbformat": 4,
 "nbformat_minor": 5
}
