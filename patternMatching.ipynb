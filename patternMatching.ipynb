{
 "cells": [
  {
   "cell_type": "markdown",
   "metadata": {},
   "source": [
    "# Pattern Matching\n",
    "\n",
    "Como Javascript/Typescript não possuem casamento de padrões para funções como vimos em Haskell, vamos falar um pouco de **Atribuição via desestruturação** (_destructuring assignment_)"
   ]
  },
  {
   "cell_type": "markdown",
   "metadata": {},
   "source": [
    "## Desestruturação de Arrays"
   ]
  },
  {
   "cell_type": "code",
   "execution_count": 8,
   "metadata": {},
   "outputs": [],
   "source": [
    "const positions = ['1st', '2nd', '3rd', '4th', '5th'];"
   ]
  },
  {
   "cell_type": "markdown",
   "metadata": {},
   "source": [
    "### Acesso por índice"
   ]
  },
  {
   "cell_type": "code",
   "execution_count": 9,
   "metadata": {},
   "outputs": [
    {
     "name": "stdout",
     "output_type": "stream",
     "text": [
      "┌───────────────┬────────┐\n",
      "│    (index)    │ Values │\n",
      "├───────────────┼────────┤\n",
      "│ firstByIndex  │ '1st'  │\n",
      "│ secondByIndex │ '2nd'  │\n",
      "│ thirdByIndex  │ '3rd'  │\n",
      "└───────────────┴────────┘\n"
     ]
    }
   ],
   "source": [
    "const firstByIndex = positions[0];\n",
    "const secondByIndex = positions[1];\n",
    "const thirdByIndex = positions[2];\n",
    "\n",
    "console.table({ firstByIndex, secondByIndex, thirdByIndex })"
   ]
  },
  {
   "cell_type": "markdown",
   "metadata": {},
   "source": [
    "### Utilizando desestruturação"
   ]
  },
  {
   "cell_type": "code",
   "execution_count": 10,
   "metadata": {},
   "outputs": [
    {
     "name": "stdout",
     "output_type": "stream",
     "text": [
      "┌─────────┬────────┐\n",
      "│ (index) │ Values │\n",
      "├─────────┼────────┤\n",
      "│  first  │ '1st'  │\n",
      "│ second  │ '2nd'  │\n",
      "│  third  │ '3rd'  │\n",
      "└─────────┴────────┘\n"
     ]
    }
   ],
   "source": [
    "const [first, second, third] = positions;\n",
    "\n",
    "console.table({ first, second, third })\n"
   ]
  },
  {
   "cell_type": "markdown",
   "metadata": {},
   "source": [
    "Ignorando elementos e testando elemento não definido"
   ]
  },
  {
   "cell_type": "code",
   "execution_count": 11,
   "metadata": {},
   "outputs": [
    {
     "name": "stdout",
     "output_type": "stream",
     "text": [
      "┌─────────┬───────────┐\n",
      "│ (index) │  Values   │\n",
      "├─────────┼───────────┤\n",
      "│ fourth  │   '4th'   │\n",
      "│  sixth  │ undefined │\n",
      "└─────────┴───────────┘\n"
     ]
    }
   ],
   "source": [
    "const [, , , fourth, , sixth ] = positions;\n",
    "\n",
    "console.table({ fourth, sixth })"
   ]
  },
  {
   "cell_type": "markdown",
   "metadata": {},
   "source": [
    "Ignorando elementos e usando o operador `...`"
   ]
  },
  {
   "cell_type": "code",
   "execution_count": 12,
   "metadata": {},
   "outputs": [
    {
     "name": "stdout",
     "output_type": "stream",
     "text": [
      "{ rest: [ '4th', '5th' ] }\n"
     ]
    }
   ],
   "source": [
    "const [ , , , ...rest] = positions;\n",
    "\n",
    "console.log({ rest })"
   ]
  },
  {
   "cell_type": "markdown",
   "metadata": {},
   "source": [
    "## Desestruturação de Tuplas (Typescript)"
   ]
  },
  {
   "cell_type": "code",
   "execution_count": 13,
   "metadata": {},
   "outputs": [],
   "source": [
    "const tuple: [number, string, boolean] = [7, \"hello\", true];"
   ]
  },
  {
   "cell_type": "code",
   "execution_count": 14,
   "metadata": {},
   "outputs": [
    {
     "name": "stdout",
     "output_type": "stream",
     "text": [
      "{ a1: 7, b1: 'hello', c1: true }\n"
     ]
    }
   ],
   "source": [
    "const [a1, b1, c1] = tuple;\n",
    "\n",
    "console.log({ a1, b1, c1 })"
   ]
  },
  {
   "cell_type": "markdown",
   "metadata": {},
   "source": [
    "Tentando acessar elemento não definido"
   ]
  },
  {
   "cell_type": "code",
   "execution_count": 15,
   "metadata": {},
   "outputs": [
    {
     "name": "stderr",
     "output_type": "stream",
     "text": [
      "1:20 - Tuple type '[number, string, boolean]' of length '3' has no element at index '3'.\n"
     ]
    }
   ],
   "source": [
    "const [a2, b2, c2, d2] = tuple;"
   ]
  },
  {
   "cell_type": "markdown",
   "metadata": {},
   "source": [
    "Ignorando elementos e usando o operador `...`"
   ]
  },
  {
   "cell_type": "code",
   "execution_count": 17,
   "metadata": {},
   "outputs": [
    {
     "name": "stdout",
     "output_type": "stream",
     "text": [
      "{ bc3: [ 'hello', true ] }\n"
     ]
    }
   ],
   "source": [
    "const [ , ...bc3] = tuple;\n",
    "\n",
    "console.log({ bc3 })"
   ]
  },
  {
   "cell_type": "markdown",
   "metadata": {},
   "source": [
    "## Desestruturação de Objetos"
   ]
  },
  {
   "cell_type": "code",
   "execution_count": null,
   "metadata": {},
   "outputs": [],
   "source": [
    "const dog = {\n",
    "  color: 'black',\n",
    "  age: 6,\n",
    "  breed: 'poodle'\n",
    "}"
   ]
  },
  {
   "cell_type": "markdown",
   "metadata": {},
   "source": [
    "### Acesso pelo operador `.`"
   ]
  },
  {
   "cell_type": "code",
   "execution_count": null,
   "metadata": {},
   "outputs": [],
   "source": [
    "const dogColor = dog.color;\n",
    "\n",
    "console.log({ color: dogColor })"
   ]
  },
  {
   "cell_type": "markdown",
   "metadata": {},
   "source": [
    "### Utilizando desestruturação"
   ]
  },
  {
   "cell_type": "code",
   "execution_count": 16,
   "metadata": {},
   "outputs": [
    {
     "name": "stderr",
     "output_type": "stream",
     "text": [
      "1:19 - Cannot find name 'dog'.\n"
     ]
    }
   ],
   "source": [
    "const { color } = dog;\n",
    "\n",
    "console.log({ color })"
   ]
  },
  {
   "cell_type": "markdown",
   "metadata": {},
   "source": [
    "Usando o operador `...`"
   ]
  },
  {
   "cell_type": "code",
   "execution_count": null,
   "metadata": {},
   "outputs": [],
   "source": [
    "const { age, ...dogInfo } = dog\n",
    "\n",
    "console.log({ dogInfo })"
   ]
  }
 ],
 "metadata": {
  "kernelspec": {
   "display_name": "TypeScript",
   "language": "typescript",
   "name": "tslab"
  },
  "language_info": {
   "codemirror_mode": {
    "mode": "typescript",
    "name": "javascript",
    "typescript": true
   },
   "file_extension": ".ts",
   "mimetype": "text/typescript",
   "name": "typescript",
   "version": "3.7.2"
  },
  "orig_nbformat": 4
 },
 "nbformat": 4,
 "nbformat_minor": 2
}
