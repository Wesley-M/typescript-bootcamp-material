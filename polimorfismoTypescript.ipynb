{
 "cells": [
  {
   "cell_type": "markdown",
   "metadata": {},
   "source": [
    "# Polimorfismo"
   ]
  },
  {
   "cell_type": "markdown",
   "metadata": {},
   "source": [
    "## Paramétrico\n",
    "\n",
    "Possibilita a definição do **tipo** apenas no momento do uso."
   ]
  },
  {
   "cell_type": "code",
   "execution_count": 12,
   "metadata": {},
   "outputs": [],
   "source": [
    "function getProperty<T, Key extends keyof T> (obj: T, key: Key): T[Key] {\n",
    "  return obj[key];\n",
    "}\n",
    "\n",
    "type Vocals = 'a' | 'e' | 'i' | 'o' | 'u';\n",
    "\n",
    "const alphabetPositions: Record<Vocals, number> = {\n",
    "  a: 1,\n",
    "  e: 5,\n",
    "  i: 9,\n",
    "  o: 15,\n",
    "  u: 21,\n",
    "}"
   ]
  },
  {
   "cell_type": "code",
   "execution_count": 13,
   "metadata": {},
   "outputs": [
    {
     "name": "stdout",
     "output_type": "stream",
     "text": [
      "9\n"
     ]
    }
   ],
   "source": [
    "getProperty(alphabetPositions, 'i');"
   ]
  },
  {
   "cell_type": "code",
   "execution_count": 11,
   "metadata": {},
   "outputs": [
    {
     "name": "stderr",
     "output_type": "stream",
     "text": [
      "1:32 - Argument of type '\"c\"' is not assignable to parameter of type 'Vocals'.\n"
     ]
    }
   ],
   "source": [
    "getProperty(alphabetPositions, 'c');"
   ]
  },
  {
   "cell_type": "markdown",
   "metadata": {},
   "source": [
    "## Sobrecarga de funções\n",
    "\n",
    "Declara-se as assinaturas possíveis da função e sua implementação de acordo com os parâmetros recebidos."
   ]
  },
  {
   "cell_type": "code",
   "execution_count": null,
   "metadata": {},
   "outputs": [],
   "source": [
    "function switchType (input: string): number \n",
    "function switchType (input: number): string \n",
    "function switchType (input: number | string): number | string {\n",
    "  if (typeof input === 'string') {\n",
    "    return Number(input);\n",
    "  }\n",
    "\n",
    "  return String(input);\n",
    "}"
   ]
  },
  {
   "cell_type": "code",
   "execution_count": 14,
   "metadata": {},
   "outputs": [
    {
     "name": "stdout",
     "output_type": "stream",
     "text": [
      "┌────────────┬────────┐\n",
      "│  (index)   │ Values │\n",
      "├────────────┼────────┤\n",
      "│ fromString │   5    │\n",
      "│ fromNumber │  '10'  │\n",
      "└────────────┴────────┘\n"
     ]
    }
   ],
   "source": [
    "const string = '5';\n",
    "const number = 10;\n",
    "\n",
    "console.table({\n",
    "  fromString: switchType(string),\n",
    "  fromNumber: switchType(number),\n",
    "});"
   ]
  }
 ],
 "metadata": {
  "kernelspec": {
   "display_name": "TypeScript",
   "language": "typescript",
   "name": "tslab"
  },
  "language_info": {
   "codemirror_mode": {
    "mode": "typescript",
    "name": "javascript",
    "typescript": true
   },
   "file_extension": ".ts",
   "mimetype": "text/typescript",
   "name": "typescript",
   "version": "3.7.2"
  },
  "orig_nbformat": 4
 },
 "nbformat": 4,
 "nbformat_minor": 2
}
