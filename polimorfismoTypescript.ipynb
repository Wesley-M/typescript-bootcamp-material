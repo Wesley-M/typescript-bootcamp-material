{
 "cells": [
  {
   "cell_type": "markdown",
   "metadata": {},
   "source": [
    "# Polimorfismo"
   ]
  },
  {
   "cell_type": "markdown",
   "metadata": {},
   "source": [
    "## Paramétrico\n",
    "\n",
    "Possibilita a definição do **tipo** apenas no momento do uso."
   ]
  },
  {
   "cell_type": "code",
   "execution_count": 12,
   "metadata": {},
   "outputs": [],
   "source": [
    "function getProperty<T, Key extends keyof T>(obj: T, key: Key) {\n",
    "  return obj[key];\n",
    "}\n",
    "\n",
    "type Vocals = 'a' | 'e' | 'i' | 'o' | 'u'\n",
    "\n",
    "const obj: Record<Vocals, number> = {\n",
    "  a: 1,\n",
    "  e: 5,\n",
    "  i: 7,\n",
    "  o: 2,\n",
    "  u: 3,\n",
    "}"
   ]
  },
  {
   "cell_type": "code",
   "execution_count": 14,
   "metadata": {},
   "outputs": [
    {
     "name": "stdout",
     "output_type": "stream",
     "text": [
      "7\n"
     ]
    }
   ],
   "source": [
    "getProperty(obj, 'i');"
   ]
  },
  {
   "cell_type": "code",
   "execution_count": 17,
   "metadata": {},
   "outputs": [
    {
     "name": "stderr",
     "output_type": "stream",
     "text": [
      "1:18 - Argument of type '\"c\"' is not assignable to parameter of type 'Vocals'.\n"
     ]
    }
   ],
   "source": [
    "getProperty(obj, 'c');"
   ]
  },
  {
   "cell_type": "markdown",
   "metadata": {},
   "source": [
    "## Sobrecarga de funções\n",
    "\n",
    "No Javascript também pode ser feito, uma vez que todo parâmetro é do tipo `any`, sendo problemático apenas saber todos os que precisam ser validados.\n",
    "\n",
    "Mais legível utilizando _union types_ no Typescript.\n"
   ]
  },
  {
   "cell_type": "code",
   "execution_count": 10,
   "metadata": {},
   "outputs": [
    {
     "name": "stderr",
     "output_type": "stream",
     "text": [
      "1:10 - Duplicate function implementation.\n",
      "5:10 - Duplicate function implementation.\n"
     ]
    }
   ],
   "source": [
    "function switchTypeOverload (input: string): number {\n",
    "  return Number(input);\n",
    "}\n",
    "\n",
    "function switchTypeOverload (input: number): string {\n",
    "  return String(input);\n",
    "}"
   ]
  },
  {
   "cell_type": "code",
   "execution_count": 11,
   "metadata": {},
   "outputs": [
    {
     "name": "stdout",
     "output_type": "stream",
     "text": [
      "┌────────────┬────────┐\n",
      "│  (index)   │ Values │\n",
      "├────────────┼────────┤\n",
      "│ fromString │   5    │\n",
      "│ fromNumber │  '10'  │\n",
      "└────────────┴────────┘\n"
     ]
    }
   ],
   "source": [
    "function switchType(input: number | string): number | string {\n",
    "  if (typeof input === 'string') {\n",
    "    return Number(input);\n",
    "  }\n",
    "\n",
    "  return String(input);\n",
    "}\n",
    "\n",
    "const string = '5';\n",
    "const number = 10;\n",
    "\n",
    "console.table({\n",
    "  fromString: switchType(string),\n",
    "  fromNumber: switchType(number),\n",
    "});"
   ]
  }
 ],
 "metadata": {
  "kernelspec": {
   "display_name": "TypeScript",
   "language": "typescript",
   "name": "tslab"
  },
  "language_info": {
   "codemirror_mode": {
    "mode": "typescript",
    "name": "javascript",
    "typescript": true
   },
   "file_extension": ".ts",
   "mimetype": "text/typescript",
   "name": "typescript",
   "version": "3.7.2"
  },
  "orig_nbformat": 4
 },
 "nbformat": 4,
 "nbformat_minor": 2
}
