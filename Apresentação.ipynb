{
 "cells": [
  {
   "cell_type": "markdown",
   "id": "ed11458e-03f1-4b2c-95fb-bee533440555",
   "metadata": {},
   "source": [
    "# Instalação\n",
    "\n",
    "Com o `pip` e `node` instalados:\n",
    "\n",
    "- Baixe o jupyter notebook, lab e voila \n",
    "    - pip install notebook\n",
    "    - pip install jupyterlab\n",
    "    - pip install voila\n",
    "- Instale o tslab\n",
    "    - npm install -g tslab\n",
    "    - tslab install\n",
    "- Dentro do repositório, no terminal:\n",
    "    - jupyter lab\n"
   ]
  },
  {
   "cell_type": "markdown",
   "id": "1b89b6fb-233d-45ff-a4ca-7305109cf835",
   "metadata": {
    "tags": []
   },
   "source": [
    "# Contextualização"
   ]
  },
  {
   "cell_type": "markdown",
   "id": "9d217c02-3b01-4db4-b761-27593617b84f",
   "metadata": {
    "tags": []
   },
   "source": [
    "##  JavaScript\n",
    "\n",
    "[A Brief History of JavaScript by the Creator of JavaScript](https://www.youtube.com/watch?v=3-9fnjzmXWA)\n",
    "\n",
    "*“Any application that can be written in JavaScript, will eventually be written in JavaScript.”* (Jeff Atwood, 2007)"
   ]
  },
  {
   "cell_type": "markdown",
   "id": "0a74c624-7ce2-4d74-8115-7223eaff576b",
   "metadata": {},
   "source": [
    "![](img1.png)"
   ]
  },
  {
   "cell_type": "markdown",
   "id": "0573721b-2212-442a-aed4-92f4b9dfdbe0",
   "metadata": {},
   "source": [
    "* Criado sob o nome de Mocka em 1995 produzido por apenas uma semana por Brendan Eich\n",
    "* Incorporar uma linguagem fácil de aprender ao browser de uma empresa de comunicações de computadores chamada [Netscape ](https://www.google.com/url?sa=t&rct=j&q=&esrc=s&source=web&cd=&cad=rja&uact=8&ved=2ahUKEwjBzu-71d34AhXKuJUCHRGjBSsQFnoECAMQAQ&url=https%3A%2F%2Fpt.wikipedia.org%2Fwiki%2FNetscape&usg=AOvVaw3DWrICYVrk14h8e3bajA79)\n",
    "* Nâo tipada ; Multiparadigma\n",
    "* Crescimento da internet + JScript da Microsoft -> Padronização do JavaScript (ECMA)\n",
    "* ES1, ES2, ..., ES6"
   ]
  },
  {
   "cell_type": "markdown",
   "id": "2dd250e5-ab69-460e-94c1-1c7ff8ba0efe",
   "metadata": {},
   "source": [
    "## TypeScript\n",
    "\n",
    "[Introducing TypeScript by Anders Hejlsberg](https://www.youtube.com/watch?v=g48K9LEhHWs)\n",
    "\n",
    "*“Any application that can be written in JavaScript, will first be written in TypeScript, and eventually compiled to JavaScript.”* (Autor Desconhecido, 2022)"
   ]
  },
  {
   "cell_type": "markdown",
   "id": "e05808be-b302-43ce-a23f-6da375589432",
   "metadata": {},
   "source": [
    "* Criada pela Microsoft\n",
    "* Tipagem estática ao JS\n",
    "* Fracamente tipada\n",
    "* Compilador + Lint\n",
    "* Compila para código JS em qualquer ES"
   ]
  },
  {
   "cell_type": "markdown",
   "id": "c435e6c7-782d-4e94-8c47-acc4db75dbb3",
   "metadata": {},
   "source": [
    "![](img2.png)"
   ]
  },
  {
   "cell_type": "markdown",
   "id": "a4adbcc8-5179-41d8-bd83-ffa90bc6222f",
   "metadata": {
    "tags": []
   },
   "source": [
    "# Tipos em TypeScript"
   ]
  },
  {
   "cell_type": "markdown",
   "id": "288c13f8-804e-4f7c-ac54-dc760dee14ca",
   "metadata": {},
   "source": [
    "![](img3.png)"
   ]
  },
  {
   "cell_type": "markdown",
   "id": "d77d6fc1-b1e0-438e-abb2-f46f7af7263e",
   "metadata": {
    "tags": []
   },
   "source": [
    "## Tipos Primitivos\n",
    "\n",
    "number, string, boolean, bigint, symbol, undefined, null"
   ]
  },
  {
   "cell_type": "markdown",
   "id": "2416b118-4cd7-450d-b42f-dcc803c34d93",
   "metadata": {
    "tags": []
   },
   "source": [
    "### Number"
   ]
  },
  {
   "cell_type": "markdown",
   "id": "f4a74797-2094-47e9-9dbb-23e94b6564b9",
   "metadata": {},
   "source": [
    "Ambos ponto flutuante e inteiros são representados como ```number```"
   ]
  },
  {
   "cell_type": "code",
   "execution_count": 1,
   "id": "374bf719-d99d-42ce-a7c7-74513ed089ba",
   "metadata": {},
   "outputs": [
    {
     "name": "stdout",
     "output_type": "stream",
     "text": [
      "number\n",
      "number\n"
     ]
    }
   ],
   "source": [
    "let n1 = 3\n",
    "let n2 = 4.4\n",
    "console.log(typeof(n1))\n",
    "console.log(typeof(n2))"
   ]
  },
  {
   "cell_type": "markdown",
   "id": "370a9d7c-dbce-442e-b07d-020038f78c82",
   "metadata": {},
   "source": [
    "As operações aritiméticas que todo mundo conhece"
   ]
  },
  {
   "cell_type": "code",
   "execution_count": null,
   "id": "e0ff1d3a-97b1-47e4-83c7-a6b6b3448399",
   "metadata": {},
   "outputs": [
    {
     "name": "stdout",
     "output_type": "stream",
     "text": [
      "+:  \u001b[33m7.4\u001b[39m\n",
      "-:  \u001b[33m-1.4000000000000004\u001b[39m\n",
      "*:  \u001b[33m13.200000000000001\u001b[39m\n",
      "/:  \u001b[33m0.6818181818181818\u001b[39m\n",
      "%:  \u001b[33m3\u001b[39m\n",
      "**:  \u001b[33m125.69949148714419\u001b[39m\n",
      "++:  \u001b[33m3\u001b[39m  |  \u001b[33m4\u001b[39m\n",
      "--:  \u001b[33m4.4\u001b[39m  |  \u001b[33m3.4000000000000004\u001b[39m\n"
     ]
    }
   ],
   "source": [
    "// adição\n",
    "console.log('+: ', n1 + n2)\n",
    "// subtração\n",
    "console.log('-: ', n1 - n2)\n",
    "// multiplicação\n",
    "console.log('*: ', n1 * n2)\n",
    "// divisão\n",
    "console.log('/: ', n1 / n2)\n",
    "// módulo\n",
    "console.log('%: ', n1 % n2)\n",
    "// Exponenciação\n",
    "console.log('**: ', n1 ** n2)\n",
    "// incromento\n",
    "console.log('++: ', n1++, ' | ', n1)\n",
    "// decremento\n",
    "console.log('--: ', n2--, ' | ', n2)\n"
   ]
  },
  {
   "cell_type": "markdown",
   "id": "c2c6651d-af58-4fac-bb40-64ada3490d80",
   "metadata": {
    "tags": []
   },
   "source": [
    "### String"
   ]
  },
  {
   "cell_type": "markdown",
   "id": "d937391b-be66-46cf-b94c-ce52b47711d6",
   "metadata": {},
   "source": [
    "Strings são imutáveis em JavaScript (assim como em TypeScript)"
   ]
  },
  {
   "cell_type": "code",
   "execution_count": null,
   "id": "979ff819-5e4b-4555-8430-d74e1dd57250",
   "metadata": {},
   "outputs": [
    {
     "name": "stdout",
     "output_type": "stream",
     "text": [
      "+:  String1String2\n"
     ]
    }
   ],
   "source": [
    "var s1 = \"String1\"\n",
    "var s2 = 'String2'\n",
    "\n",
    "console.log('+: ', s1+s2)"
   ]
  },
  {
   "cell_type": "code",
   "execution_count": null,
   "id": "296b1490-3876-4816-89f1-d232c8de393e",
   "metadata": {},
   "outputs": [
    {
     "name": "stdout",
     "output_type": "stream",
     "text": [
      "string\n"
     ]
    }
   ],
   "source": [
    "typeof(s1)"
   ]
  },
  {
   "cell_type": "markdown",
   "id": "40618aaa-19fe-43c6-b0bb-bccbc97a84df",
   "metadata": {
    "jp-MarkdownHeadingCollapsed": true,
    "tags": []
   },
   "source": [
    "#### Métodos"
   ]
  },
  {
   "cell_type": "markdown",
   "id": "ea65f439-00bf-45b2-943c-257457f8a907",
   "metadata": {},
   "source": [
    "| **Método** | **Descrição** |\n",
    "|---|---|\n",
    "| **charAt()** | Returns the character at the given index |\n",
    "| **concat()** | Returns a combination of the two or more specified strings |\n",
    "| **indexOf()** | Returns an index of first occurrence of the specified substring from a string (-1 if not found) |\n",
    "| **replace()** | Replaces the matched substring with a new substring |\n",
    "| **split()** | Splits the string into substrings and returns an array |\n",
    "| **toUpperCase()** | Converts all the characters of the string into upper case |\n",
    "| **toLowerCase()** | Converts all the characters of the string into lower case |\n",
    "| **charCodeAt()** | Returns a number that is the UTF-16 code unit value at the given index |\n",
    "| **codePointAt()** | Returns a nonnegative integer Number that is the code point value of the UTF-16 encoded code point starting at the specified index |\n",
    "| **includes()** | Checks whether a string includes another string |\n",
    "| **endsWith()** | Checks whether a string ends with another string |\n",
    "| **LastIndexOf()** | Returns the index of last occurrence of value in the string |\n",
    "| **localeCompare()** | Checks whether a string comes before, after or is the same as the given string |\n",
    "| **match()** | Matches a regular expression against the given string |\n",
    "| **normalize()** | Returns the Unicode Normalization Form of the given string. |\n",
    "| **padEnd()** | Pads the end of the current string with the given string |\n",
    "| **padStart()** | Pads the beginning of the current string with given string |\n",
    "| **repeat()** | Returns a string consisting of the elements of the object repeated in the given times. |\n",
    "| **search()** | Searches for a match between a regular expression and a string |\n",
    "| **slice()** | Returns a section of a string |\n",
    "| **startsWith()** | Checks whether a string starts with another string |\n",
    "| **substr()** | Returns a string beginning at the specified location and of the given characters |\n",
    "| **substring()** | Returns a string between the two given indexes |\n",
    "| **toLocaleLowerCase()** | Returns a lower case string while respecting current locale |\n",
    "| **toLocaleUpperCase()** | Returns an upper case string while respecting current locale |\n",
    "| **trim()** | Trims the white space from beginning and end of string |\n",
    "| **trimLeft()** | Trims the white space from left side of the string |\n",
    "| **trimRight()** | Trims the white space from right side of the string |"
   ]
  },
  {
   "cell_type": "markdown",
   "id": "9e312926-16e5-489d-9094-1c89abcc2617",
   "metadata": {
    "tags": []
   },
   "source": [
    "### Boolean"
   ]
  },
  {
   "cell_type": "markdown",
   "id": "24c33c57-dc74-44d5-8185-fa54dfecfe88",
   "metadata": {},
   "source": [
    "Os operadores lógicos seguem a sintaxe de Java"
   ]
  },
  {
   "cell_type": "code",
   "execution_count": null,
   "id": "fc29a2cb-1a29-46ca-ac1f-5013a06daf07",
   "metadata": {},
   "outputs": [
    {
     "name": "stdout",
     "output_type": "stream",
     "text": [
      "&&:  \u001b[33mfalse\u001b[39m\n",
      "||:  \u001b[33mtrue\u001b[39m\n",
      "!:   \u001b[33mfalse\u001b[39m\n"
     ]
    }
   ],
   "source": [
    "//logic and\n",
    "console.log('&&: ', true && false)\n",
    "//Logic or\n",
    "console.log('||: ', true || false)\n",
    "//Logic not\n",
    "console.log('!:  ', !true)"
   ]
  },
  {
   "cell_type": "markdown",
   "id": "ff70fc45-2778-44cc-9223-aaacf578a627",
   "metadata": {
    "tags": []
   },
   "source": [
    "### BigInt"
   ]
  },
  {
   "cell_type": "markdown",
   "id": "25cc26c3-2853-4c9a-9af8-509657a23349",
   "metadata": {},
   "source": [
    "Os mesmos operadores aritiméticos de ```number``` se aplicam"
   ]
  },
  {
   "cell_type": "code",
   "execution_count": 2,
   "id": "42217e02-bf45-4758-9d51-bac412475067",
   "metadata": {},
   "outputs": [
    {
     "name": "stdout",
     "output_type": "stream",
     "text": [
      "\u001b[33m5n\u001b[39m\n"
     ]
    }
   ],
   "source": [
    "var big1 = BigInt(5)\n",
    "var big2 = BigInt(2)\n",
    "big1"
   ]
  },
  {
   "cell_type": "markdown",
   "id": "6b97c3b3-5d39-474a-adc9-c661bf04bc94",
   "metadata": {},
   "source": [
    "Não dá pra interagir aritimeticamente cos tipos ```number```"
   ]
  },
  {
   "cell_type": "code",
   "execution_count": 3,
   "id": "77115d62-6a49-41b9-8fdb-12e470cd7081",
   "metadata": {},
   "outputs": [
    {
     "name": "stderr",
     "output_type": "stream",
     "text": [
      "1:1 - Operator '+' cannot be applied to types 'bigint' and 'number'.\n"
     ]
    }
   ],
   "source": [
    "big1 + n1"
   ]
  },
  {
   "cell_type": "markdown",
   "id": "56afdaca-5938-4878-a517-decc09cc8f44",
   "metadata": {},
   "source": [
    "O ```0``` do ```BigInt``` não é o mesmo ```0``` de ```number```"
   ]
  },
  {
   "cell_type": "code",
   "execution_count": 4,
   "id": "7a81c389-baf9-4d51-befc-e61f66ef6bee",
   "metadata": {},
   "outputs": [
    {
     "name": "stdout",
     "output_type": "stream",
     "text": [
      "\u001b[33m0n\u001b[39m\n"
     ]
    }
   ],
   "source": [
    "var bigZero = BigInt(0)\n",
    "bigZero"
   ]
  },
  {
   "cell_type": "code",
   "execution_count": 5,
   "id": "15b7d57e-d745-4830-9f62-bcb4ba7d3bdd",
   "metadata": {},
   "outputs": [
    {
     "name": "stderr",
     "output_type": "stream",
     "text": [
      "1:1 - This condition will always return 'false' since the types 'bigint' and 'number' have no overlap.\n"
     ]
    }
   ],
   "source": [
    "bigZero == 0"
   ]
  },
  {
   "cell_type": "markdown",
   "id": "2204d13f-1165-403b-8aab-fd6f703c4d5f",
   "metadata": {},
   "source": [
    "Como não existe ponto flutuante no ```BigInt``` deve-se ter bastante cuidado ao realizar alguns cálculos"
   ]
  },
  {
   "cell_type": "code",
   "execution_count": 6,
   "id": "aceb3660-3ed0-4dfc-b4e2-0152fe1ac326",
   "metadata": {},
   "outputs": [
    {
     "name": "stdout",
     "output_type": "stream",
     "text": [
      "\u001b[33m2n\u001b[39m\n"
     ]
    }
   ],
   "source": [
    "// 5n/2n\n",
    "big1 / big2"
   ]
  },
  {
   "cell_type": "markdown",
   "id": "e5e720c6-0eab-4126-80c9-32fdfbf53599",
   "metadata": {
    "tags": []
   },
   "source": [
    "### Symbol"
   ]
  },
  {
   "cell_type": "markdown",
   "id": "c4cca399-7cb8-4e32-9057-fe12c9700e3f",
   "metadata": {},
   "source": [
    "Objetos que possuem uma unicidade bastante particular"
   ]
  },
  {
   "cell_type": "code",
   "execution_count": 10,
   "id": "f04799be-d503-481f-bb84-4b068be12b89",
   "metadata": {},
   "outputs": [],
   "source": [
    "let s1 = Symbol('s')\n",
    "let s2 = Symbol('s')"
   ]
  },
  {
   "cell_type": "code",
   "execution_count": 11,
   "id": "c03dede9-4627-48d1-af44-36471b96cc1b",
   "metadata": {},
   "outputs": [
    {
     "name": "stdout",
     "output_type": "stream",
     "text": [
      "symbol\n"
     ]
    }
   ],
   "source": [
    "typeof(s1)"
   ]
  },
  {
   "cell_type": "code",
   "execution_count": 12,
   "id": "aec607d9-60f6-4073-b0be-b7a5ff2ff4b3",
   "metadata": {},
   "outputs": [
    {
     "name": "stdout",
     "output_type": "stream",
     "text": [
      "\u001b[33mfalse\u001b[39m\n"
     ]
    }
   ],
   "source": [
    "s1 == s2"
   ]
  },
  {
   "cell_type": "code",
   "execution_count": 13,
   "id": "951f5fc5-4d1c-4422-953c-41a8125281d2",
   "metadata": {},
   "outputs": [
    {
     "name": "stdout",
     "output_type": "stream",
     "text": [
      "\u001b[33mfalse\u001b[39m\n"
     ]
    }
   ],
   "source": [
    "s1 === s2"
   ]
  },
  {
   "cell_type": "markdown",
   "id": "efc669af-1256-4a38-bc83-bfa3a8cf5be1",
   "metadata": {
    "tags": []
   },
   "source": [
    "### Object"
   ]
  },
  {
   "cell_type": "markdown",
   "id": "60179612-d1c6-494a-b9c8-d6e60f7d5f9b",
   "metadata": {},
   "source": [
    "O bom e velho **JSON** (Java Script Object Notation)"
   ]
  },
  {
   "cell_type": "code",
   "execution_count": 14,
   "id": "68ac7d8b-1b2a-45e6-93a1-cf621efbbf77",
   "metadata": {},
   "outputs": [
    {
     "name": "stdout",
     "output_type": "stream",
     "text": [
      "{ nome: \u001b[32m'Fulano'\u001b[39m, idade: \u001b[33m45\u001b[39m }\n"
     ]
    }
   ],
   "source": [
    "var pessoa = {nome: \"Fulano\",\n",
    "              idade: 45};\n",
    "pessoa"
   ]
  },
  {
   "cell_type": "code",
   "execution_count": 15,
   "id": "3934cf31-d16b-4e84-874d-03803bbdc6a9",
   "metadata": {},
   "outputs": [
    {
     "name": "stdout",
     "output_type": "stream",
     "text": [
      "object\n"
     ]
    }
   ],
   "source": [
    "typeof(pessoa)"
   ]
  },
  {
   "cell_type": "code",
   "execution_count": 16,
   "id": "5a4e8848-2e3b-4dff-b36d-adb9a3a997ac",
   "metadata": {},
   "outputs": [
    {
     "name": "stdout",
     "output_type": "stream",
     "text": [
      "Meu nome é Fulano e eu tenho  \u001b[33m45\u001b[39m anos\n"
     ]
    }
   ],
   "source": [
    "console.log('Meu nome é', pessoa.nome, 'e eu tenho ', pessoa.idade, 'anos')"
   ]
  },
  {
   "cell_type": "raw",
   "id": "b7ba1f69-6fd9-45fc-8177-87618552529a",
   "metadata": {},
   "source": [
    "pessoa.cpf\n",
    "\n",
    "ERROR: Property 'cpf' does not exist on type '{ nome: string; idade: number; }'."
   ]
  },
  {
   "cell_type": "markdown",
   "id": "1dcf0a82-e92d-48c8-8c09-14fb1af803c5",
   "metadata": {
    "tags": []
   },
   "source": [
    "### Undefined e Null"
   ]
  },
  {
   "cell_type": "markdown",
   "id": "8a7e5425-9ed3-4bad-ae6f-23fedd91eda4",
   "metadata": {},
   "source": [
    "![](img4.png)"
   ]
  },
  {
   "cell_type": "code",
   "execution_count": 17,
   "id": "fac30e4c-cb85-4d66-88db-dca9e104f7b1",
   "metadata": {},
   "outputs": [],
   "source": [
    "var und = undefined\n",
    "var nul = null"
   ]
  },
  {
   "cell_type": "code",
   "execution_count": 18,
   "id": "f68e5d26-3d1f-49da-8de7-afe90e01aa2a",
   "metadata": {},
   "outputs": [
    {
     "name": "stdout",
     "output_type": "stream",
     "text": [
      "undefined\n"
     ]
    }
   ],
   "source": [
    "typeof(und)"
   ]
  },
  {
   "cell_type": "code",
   "execution_count": 19,
   "id": "e6bf1ef9-00ff-4c90-b0f7-ee2e8308f938",
   "metadata": {},
   "outputs": [
    {
     "name": "stdout",
     "output_type": "stream",
     "text": [
      "object\n"
     ]
    }
   ],
   "source": [
    "typeof(nul)"
   ]
  },
  {
   "cell_type": "code",
   "execution_count": 20,
   "id": "cc3520ab-ba3b-467b-aecb-83624bbe1d15",
   "metadata": {},
   "outputs": [
    {
     "name": "stdout",
     "output_type": "stream",
     "text": [
      "\u001b[33mtrue\u001b[39m\n"
     ]
    }
   ],
   "source": [
    "undefined == null"
   ]
  },
  {
   "cell_type": "code",
   "execution_count": 21,
   "id": "26749c0f-7ec9-4ef5-87c8-f87e3971ebe2",
   "metadata": {},
   "outputs": [
    {
     "name": "stdout",
     "output_type": "stream",
     "text": [
      "\u001b[33mfalse\u001b[39m\n"
     ]
    }
   ],
   "source": [
    "undefined === null"
   ]
  },
  {
   "cell_type": "code",
   "execution_count": 22,
   "id": "e70a8ca6-62b4-49d3-9e05-ae4f1d696750",
   "metadata": {},
   "outputs": [
    {
     "name": "stdout",
     "output_type": "stream",
     "text": [
      "\u001b[33mtrue\u001b[39m\n"
     ]
    }
   ],
   "source": [
    "!null"
   ]
  },
  {
   "cell_type": "code",
   "execution_count": 23,
   "id": "62dab3aa-4438-4678-b3ca-0c80036d5a5e",
   "metadata": {},
   "outputs": [
    {
     "name": "stdout",
     "output_type": "stream",
     "text": [
      "\u001b[33mtrue\u001b[39m\n"
     ]
    }
   ],
   "source": [
    "!undefined"
   ]
  },
  {
   "cell_type": "markdown",
   "id": "b06fdd9b-3cba-4ae1-b002-d3d74b0233dc",
   "metadata": {
    "tags": []
   },
   "source": [
    "## Arrays"
   ]
  },
  {
   "cell_type": "code",
   "execution_count": 24,
   "id": "c5a87459-3212-4e4a-b79d-d7ec2a9c41d9",
   "metadata": {},
   "outputs": [],
   "source": [
    "var a = [1,2,3,4,5]\n",
    "var b: number[] = [1,2,3,4,5]\n",
    "var c:Array<number> = [1,2,3,4,5]"
   ]
  },
  {
   "cell_type": "code",
   "execution_count": 25,
   "id": "c2dc464c-d2e9-493a-98b4-0679985910c3",
   "metadata": {},
   "outputs": [
    {
     "name": "stdout",
     "output_type": "stream",
     "text": [
      "\u001b[33m1\u001b[39m\n"
     ]
    }
   ],
   "source": [
    "console.log(a[0])"
   ]
  },
  {
   "cell_type": "markdown",
   "id": "3d950c47-1f18-4d3d-ba90-9cac3d86e204",
   "metadata": {},
   "source": [
    "Index OutOfBounds?"
   ]
  },
  {
   "cell_type": "code",
   "execution_count": 26,
   "id": "307f6ee8-d129-496b-82ad-4b6505005bfa",
   "metadata": {},
   "outputs": [
    {
     "name": "stdout",
     "output_type": "stream",
     "text": [
      "\u001b[90mundefined\u001b[39m\n"
     ]
    }
   ],
   "source": [
    "console.log(a[10])"
   ]
  },
  {
   "cell_type": "code",
   "execution_count": 27,
   "id": "aca89e46-2ad9-40ed-9e99-b97f8a65f955",
   "metadata": {},
   "outputs": [
    {
     "name": "stdout",
     "output_type": "stream",
     "text": [
      "object\n"
     ]
    }
   ],
   "source": [
    "typeof(a)"
   ]
  },
  {
   "cell_type": "code",
   "execution_count": 28,
   "id": "75eeb9a0-4265-4379-bd7c-494341bc80f1",
   "metadata": {},
   "outputs": [
    {
     "name": "stdout",
     "output_type": "stream",
     "text": [
      "[ \u001b[32m'string'\u001b[39m, \u001b[33mtrue\u001b[39m, \u001b[33m1\u001b[39m ]\n"
     ]
    }
   ],
   "source": [
    "var array = [\"string\", true, 1]\n",
    "array"
   ]
  },
  {
   "cell_type": "markdown",
   "id": "78011404-397f-4afb-bdec-db81fda43576",
   "metadata": {
    "jp-MarkdownHeadingCollapsed": true,
    "tags": []
   },
   "source": [
    "### Métodos"
   ]
  },
  {
   "cell_type": "markdown",
   "id": "13760f63-a284-4076-b0d6-129976569b7c",
   "metadata": {},
   "source": [
    "| **Métodos** | **Descrição** |\n",
    "|---|---|\n",
    "| **pop()** | Removes the last element of the array and return that element |\n",
    "| **push()** | Adds new elements to the array and returns the new array length |\n",
    "| **sort()** | Sorts all the elements of the array |\n",
    "| **concat()** | Joins two arrays and returns the combined result |\n",
    "| **indexOf()** | Returns the index of the first match of a value in the array (-1 if not found) |\n",
    "| **copyWithin()** | Copies a sequence of elements within the array |\n",
    "| **fill()** | Fills the array with a static value from the provided start index to the end index |\n",
    "| **shift()** | Removes and returns the first element of the array |\n",
    "| **splice()** | Adds or removes elements from the array |\n",
    "| **unshift()** | Adds one or more elements to the beginning of the array |\n",
    "| **includes()** | Checks whether the array contains a certain element |\n",
    "| **join()** | Joins all elements of the array into a string |\n",
    "| **lastIndexOf()** | Returns the last index of an element in the array |\n",
    "| **slice()** | Extracts a section of the array and returns the new array |\n",
    "| **toString()** | Returns a string representation of the array |\n",
    "| **toLocaleString()** | Returns a localized string representing the array |"
   ]
  },
  {
   "cell_type": "markdown",
   "id": "99f44c62-9eb4-4ff3-8dd1-ca73a759bd3a",
   "metadata": {
    "tags": []
   },
   "source": [
    "## Any"
   ]
  },
  {
   "cell_type": "code",
   "execution_count": 29,
   "id": "c920048c-0d0b-40e3-a46d-d5abc1e33897",
   "metadata": {},
   "outputs": [],
   "source": [
    "var t: string"
   ]
  },
  {
   "cell_type": "code",
   "execution_count": 30,
   "id": "59799ecd-6ba2-44f4-8edd-e4488afcc711",
   "metadata": {},
   "outputs": [
    {
     "name": "stdout",
     "output_type": "stream",
     "text": [
      "undefined\n"
     ]
    }
   ],
   "source": [
    "typeof(t)"
   ]
  },
  {
   "cell_type": "code",
   "execution_count": 31,
   "id": "be1e52e9-ee72-42b3-914d-cbd04773bc91",
   "metadata": {},
   "outputs": [
    {
     "name": "stderr",
     "output_type": "stream",
     "text": [
      "1:1 - Type 'number' is not assignable to type 'string'.\n"
     ]
    }
   ],
   "source": [
    "t = 3"
   ]
  },
  {
   "cell_type": "code",
   "execution_count": 32,
   "id": "aa6756ab-7d06-47fb-8674-27654240c56b",
   "metadata": {},
   "outputs": [],
   "source": [
    "var t: any"
   ]
  },
  {
   "cell_type": "code",
   "execution_count": 33,
   "id": "584ec353-45b2-4d42-bf9c-517d204e76ac",
   "metadata": {},
   "outputs": [
    {
     "name": "stdout",
     "output_type": "stream",
     "text": [
      "undefined\n"
     ]
    }
   ],
   "source": [
    "typeof(t)"
   ]
  },
  {
   "cell_type": "code",
   "execution_count": 34,
   "id": "11d3e8db-c8dc-4dc0-aaf2-11b34d141520",
   "metadata": {},
   "outputs": [
    {
     "name": "stdout",
     "output_type": "stream",
     "text": [
      "number\n",
      "boolean\n",
      "object\n"
     ]
    }
   ],
   "source": [
    "t = 3\n",
    "console.log(typeof(t))\n",
    "t = true\n",
    "console.log(typeof(t))\n",
    "t = [\"s\", 123, false]\n",
    "console.log(typeof(t))"
   ]
  },
  {
   "cell_type": "markdown",
   "id": "5f755adb-0fa6-4e12-b927-0524f1937732",
   "metadata": {
    "tags": []
   },
   "source": [
    "## Spread"
   ]
  },
  {
   "cell_type": "code",
   "execution_count": 35,
   "id": "b7af3e35-2729-4665-b23d-28437505bee6",
   "metadata": {},
   "outputs": [
    {
     "name": "stdout",
     "output_type": "stream",
     "text": [
      "[ \u001b[33m-1\u001b[39m, \u001b[33m2\u001b[39m, \u001b[33m-3\u001b[39m ]\n",
      "[ \u001b[33m-1\u001b[39m, \u001b[33m2\u001b[39m, \u001b[33m-3\u001b[39m ]\n"
     ]
    }
   ],
   "source": [
    "var x = [1,2,3]\n",
    "var y = x\n",
    "x[0] = -1\n",
    "y[2] = -3\n",
    "console.log(x)\n",
    "console.log(y)"
   ]
  },
  {
   "cell_type": "code",
   "execution_count": null,
   "id": "b763f37b-2b7e-49eb-ab0a-710e8429fc51",
   "metadata": {},
   "outputs": [
    {
     "name": "stdout",
     "output_type": "stream",
     "text": [
      "[ \u001b[33m-1\u001b[39m, \u001b[33m2\u001b[39m, \u001b[33m3\u001b[39m ]\n",
      "[ \u001b[33m1\u001b[39m, \u001b[33m2\u001b[39m, \u001b[33m-3\u001b[39m ]\n"
     ]
    }
   ],
   "source": [
    "var x = [1,2,3]\n",
    "var y = [...x]\n",
    "x[0] = -1\n",
    "y[2] = -3\n",
    "console.log(x)\n",
    "console.log(y)"
   ]
  },
  {
   "cell_type": "code",
   "execution_count": null,
   "id": "5d6be646-f2ec-4914-8c7a-2b183593023a",
   "metadata": {},
   "outputs": [
    {
     "name": "stdout",
     "output_type": "stream",
     "text": [
      "[ \u001b[33m-1\u001b[39m, \u001b[33m2\u001b[39m, \u001b[33m3\u001b[39m, \u001b[33m4\u001b[39m, \u001b[33m5\u001b[39m ]\n"
     ]
    }
   ],
   "source": [
    "[...x, 4, 5]"
   ]
  },
  {
   "cell_type": "code",
   "execution_count": null,
   "id": "f628d172-6cf6-4606-a028-79a0674e7b55",
   "metadata": {},
   "outputs": [
    {
     "name": "stdout",
     "output_type": "stream",
     "text": [
      "Meu nome é João tenho \u001b[33m45\u001b[39m anos e estudo na UFCG\n"
     ]
    }
   ],
   "source": [
    "let t = [\"João\", 23, \"UFCG\"] as const //tupla\n",
    "\n",
    "function apresentacao(nome: string, idade: number, uni: string) {\n",
    "  console.log('Meu nome é', nome, 'tenho', pessoa.idade, 'anos', 'e estudo na', uni);\n",
    "}\n",
    "\n",
    "apresentacao(...t);"
   ]
  },
  {
   "cell_type": "markdown",
   "id": "4bfe0b2e-6280-4b5c-9cd5-7d71dda905ef",
   "metadata": {},
   "source": [
    "## Never"
   ]
  },
  {
   "cell_type": "code",
   "execution_count": null,
   "id": "3f712603-8d74-4bcd-aef1-4c30d0179e9b",
   "metadata": {
    "tags": []
   },
   "outputs": [
    {
     "name": "stderr",
     "output_type": "stream",
     "text": [
      "1:17 - A function returning 'never' cannot have a reachable end point.\n"
     ]
    }
   ],
   "source": [
    "function foo(): never {\n",
    "    console.log('end');\n",
    "}"
   ]
  },
  {
   "cell_type": "code",
   "execution_count": 1,
   "id": "c403d58e-6a08-4ac5-b3ec-67512bed4aa6",
   "metadata": {
    "tags": []
   },
   "outputs": [],
   "source": [
    "function throwError(msg: string): never { \n",
    "    throw new Error(msg); \n",
    "}"
   ]
  },
  {
   "cell_type": "code",
   "execution_count": null,
   "id": "151608b4-d88c-48a8-af33-90e6bce97b5b",
   "metadata": {},
   "outputs": [],
   "source": [
    "function loopInfinito(): never { \n",
    "    while (true) { \n",
    "         console.log('dá Ctrl C rápido...')\n",
    "    }\n",
    "}"
   ]
  },
  {
   "cell_type": "markdown",
   "id": "faf4257b-b72d-4d04-ad99-deb70fcf3ec5",
   "metadata": {
    "jp-MarkdownHeadingCollapsed": true,
    "tags": []
   },
   "source": [
    " # Const, let e var"
   ]
  },
  {
   "cell_type": "markdown",
   "id": "93030a4a-db9f-4dc6-a96c-5f6f5244234e",
   "metadata": {},
   "source": [
    "### Em JS/TS existem 3 formas de declarar variáveis, cada uma com suas peculiaridades"
   ]
  },
  {
   "cell_type": "markdown",
   "id": "b89a92a7-2fea-414f-b90e-fd51e04696b5",
   "metadata": {},
   "source": [
    "## Var\n",
    "  - Mais antigo dos três;\n",
    "  - Escopo funcional;\n",
    "  - Pode ser declarada sem ser inicializada;\n",
    "  - Pode ser atualizada e redeclarada no seu escopo;\n",
    "  - Seu valor default é undefined;"
   ]
  },
  {
   "cell_type": "code",
   "execution_count": 37,
   "id": "ceebe480-5d9f-4cc0-a01a-8f047cd15a40",
   "metadata": {},
   "outputs": [
    {
     "name": "stdout",
     "output_type": "stream",
     "text": [
      "Inside\n",
      "outside\n",
      "Inside\n"
     ]
    }
   ],
   "source": [
    "const showMessage = function(): void {\n",
    "  var messageOutsideIfBlock: string; \n",
    "    \n",
    "  messageOutsideIfBlock = 'Outside';\n",
    "    \n",
    "  if(true) {\n",
    "    var messageInsideIfBlock = 'Inside';\n",
    "    console.log(messageInsideIfBlock) // Inside\n",
    "  }\n",
    "  \n",
    "  var messageOutsideIfBlock = 'outside'; \n",
    "    \n",
    "  console.log(messageOutsideIfBlock); // Outside\n",
    "  console.log(messageInsideIfBlock); // Inside\n",
    "}\n",
    "\n",
    "showMessage()\n"
   ]
  },
  {
   "cell_type": "markdown",
   "id": "1bce80c5-57e7-4cfe-b964-463eb0bb4303",
   "metadata": {},
   "source": [
    "## Let\n",
    "  - Introduzido em EcmaScript 6;\n",
    "  - Escopo de bloco;\n",
    "  - Pode ser declarada sem ser inicializada;\n",
    "  - Pode ser atualizada, mas não redeclarada no seu escopo;\n",
    "  - Seu valor default é undefined;"
   ]
  },
  {
   "cell_type": "code",
   "execution_count": 19,
   "id": "59e2d917-5fdd-4244-92e5-82d781cc8ca1",
   "metadata": {},
   "outputs": [
    {
     "name": "stderr",
     "output_type": "stream",
     "text": [
      "2:7 - Cannot redeclare block-scoped variable 'messageOutsideIfBlock'.\n",
      "12:7 - Cannot redeclare block-scoped variable 'messageOutsideIfBlock'.\n",
      "14:15 - Cannot find name 'messageInsideIfBlock'. Did you mean 'messageOutsideIfBlock'?\n"
     ]
    }
   ],
   "source": [
    "const showMessage = function() {\n",
    "  let messageOutsideIfBlock;\n",
    "    \n",
    "  if(true) {\n",
    "    let messageInsideIfBlock: string;\n",
    "    messageInsideIfBlock = 'Inside'  \n",
    "    console.log(messageInsideIfBlock) // Inside\n",
    "  }\n",
    "    \n",
    "  let messageOutsideIfBlock = 'outside'; // Error\n",
    "    \n",
    "  console.log(messageInsideIfBlock); // Error\n",
    "}\n",
    "\n",
    "showMessage()"
   ]
  },
  {
   "cell_type": "markdown",
   "id": "f6cfe3c4-5254-4f4e-a5ae-0bab80a3f3c0",
   "metadata": {},
   "source": [
    "## Const\n",
    "  - Introduzido em EcmaScript 6;\n",
    "  - Escopo de bloco;\n",
    "  - Não pode ser declarada sem ser inicializada;\n",
    "  - Não pode ser atualizada, nem redeclarada no seu escopo;\n",
    "  - Não tem valor default, devido a necessidade de inicializar essas variáveis."
   ]
  },
  {
   "cell_type": "code",
   "execution_count": 25,
   "id": "efdd72e5-b7c1-4546-b7db-5f40e3f16b7f",
   "metadata": {},
   "outputs": [
    {
     "name": "stderr",
     "output_type": "stream",
     "text": [
      "8:15 - Cannot find name 'messageInsideIfBlock'.\n"
     ]
    }
   ],
   "source": [
    "const showMessage = function() {\n",
    "    \n",
    "  if (true) {\n",
    "    const messageInsideIfBlock: string = 'Inside'  \n",
    "    console.log(messageInsideIfBlock) // Inside\n",
    "  }\n",
    "  \n",
    "  console.log(messageInsideIfBlock); // Error\n",
    "}\n",
    "\n",
    "showMessage()"
   ]
  },
  {
   "cell_type": "code",
   "execution_count": 26,
   "id": "ae65cc94-c990-47d9-a625-be1f4341cd47",
   "metadata": {},
   "outputs": [
    {
     "name": "stderr",
     "output_type": "stream",
     "text": [
      "4:1 - Cannot assign to 'msg' because it is a constant.\n",
      "10:1 - Cannot assign to 'object' because it is a constant.\n"
     ]
    }
   ],
   "source": [
    "// No caso de objetos, não podemos mudar referências. Mas valores podem ser editados.\n",
    "\n",
    "const msg = \"Hello world\";\n",
    "msg = \"New Message\"; // Error\n",
    " \n",
    "const object = {\n",
    " msg: \"Hello world\"\n",
    "};\n",
    "\n",
    "object = {} // Error\n",
    "object.msg = \"New message\"; // OK"
   ]
  },
  {
   "cell_type": "markdown",
   "id": "1a85b1aa-354d-4b48-b34f-f86ee02c98c3",
   "metadata": {
    "tags": []
   },
   "source": [
    "# Funções"
   ]
  },
  {
   "cell_type": "markdown",
   "id": "39e2e8dd-7d5d-43a5-a2b1-17a35a7a90dc",
   "metadata": {},
   "source": [
    "Em JS/TS temos diversas formas de declarar funções (tanto anônimas quanto nomeadas):"
   ]
  },
  {
   "cell_type": "code",
   "execution_count": 27,
   "id": "3f78c075-05e9-4f5e-a14d-110de50645d9",
   "metadata": {},
   "outputs": [],
   "source": [
    "function sum(x: number, y: number) {\n",
    " return x + y;\n",
    "}\n",
    " \n",
    "const add = function (x: number, y: number): number {\n",
    " return x + y;\n",
    "}"
   ]
  },
  {
   "cell_type": "markdown",
   "id": "952ddbc4-8d27-466a-a6ff-e537bf26861f",
   "metadata": {},
   "source": [
    "Existem também formas mais simples e enxutas, chamadas de Arrow Functions:"
   ]
  },
  {
   "cell_type": "code",
   "execution_count": 28,
   "id": "588557a5-e7cc-404a-893b-ae1ab5e422c2",
   "metadata": {},
   "outputs": [],
   "source": [
    "const arrowAdd = (x: number, y: number) => { \n",
    "    return x + y; \n",
    "}\n",
    "\n",
    "// Sem a palavra-chave 'return'\n",
    "const arrowSum = (x: number, y: number) => x + y;"
   ]
  },
  {
   "cell_type": "markdown",
   "id": "2e9caa2d-cbdd-4360-af90-857759a33abe",
   "metadata": {},
   "source": [
    "##  Parâmetros\n",
    " - Parâmetros são obrigatórios por padrão\n",
    " - Parâmetros opcionais são possíveis com o uso de '?:'\n",
    " - É possível receber número indefinido de parâmetros com o operador '...'\n",
    " - É possível desestruturar argumentos na assinatura da função"
   ]
  },
  {
   "cell_type": "code",
   "execution_count": 26,
   "id": "f664db06-dae2-424c-bfbc-b417a0859e22",
   "metadata": {},
   "outputs": [
    {
     "name": "stdout",
     "output_type": "stream",
     "text": [
      "Max Mayfield \n",
      "[ 2, 4, 6 ]\n",
      "18\n"
     ]
    }
   ],
   "source": [
    "function buildName(firstName: string, middleName=\"Mayfield\", lastName?: string) {\n",
    " return firstName + \" \" + middleName + \" \" + (lastName ?? '');\n",
    "}\n",
    "\n",
    "console.log(buildName(\"Max\"))\n",
    "\n",
    "function multiplyByN(n: number, ...nums: number[]) {\n",
    " return nums.map((x) => n * x);\n",
    "}\n",
    "\n",
    "console.log(multiplyByN(2, 1, 2, 3))\n",
    "\n",
    "function sum({ a, b, c }: { a: number; b: number; c: number }) {\n",
    " return a + b + c;\n",
    "}\n",
    "\n",
    "console.log(sum({a: 4, b: 5, c: 9}))\n"
   ]
  },
  {
   "cell_type": "markdown",
   "id": "8e2d8a28-4770-488b-97ae-514fe05e1abf",
   "metadata": {},
   "source": [
    "## Generics"
   ]
  },
  {
   "cell_type": "markdown",
   "id": "df6a47f1-655a-41a7-becf-2e8d43bf22c0",
   "metadata": {},
   "source": [
    "Permite referenciar tipos quaisqueres de forma consistente nas nossas funções, \n",
    "sem limitar necessariamente a só um tipo específico. Por exemplo, criando correspondêncas entre \n",
    "tipos de parâmetros e retornos."
   ]
  },
  {
   "cell_type": "code",
   "execution_count": 42,
   "id": "51a686e8-5a23-4f97-ae5e-91c9a655c991",
   "metadata": {},
   "outputs": [
    {
     "name": "stderr",
     "output_type": "stream",
     "text": [
      "7:40 - Type 'number' is not assignable to type 'string'.\n"
     ]
    }
   ],
   "source": [
    "// Único generic\n",
    "\n",
    "function firstElement<T>(arr: T[]): T | undefined {\n",
    "  return arr[0];\n",
    "}\n",
    "\n",
    "console.log(firstElement<number>([1, 2, 3])) // Definição explícita (Ajuda TS a sugerir melhor)\n",
    "console.log(firstElement<string>(['1', 2, '3'])) // Erro"
   ]
  },
  {
   "cell_type": "code",
   "execution_count": 49,
   "id": "fc4ca642-e64a-425b-bda8-2dede89149fb",
   "metadata": {},
   "outputs": [
    {
     "name": "stdout",
     "output_type": "stream",
     "text": [
      "[ \u001b[33m1\u001b[39m, \u001b[33m2\u001b[39m, \u001b[33m3\u001b[39m ]\n"
     ]
    }
   ],
   "source": [
    "// Múltiplos generics\n",
    "\n",
    "function map<I, O>(arr: I[], func: (arg: I) => O): O[] {\n",
    "  return arr.map(func);\n",
    "}\n",
    "\n",
    "map<string, number>([\"1\", \"2\", \"3\"], (n) => parseInt(n)); "
   ]
  },
  {
   "cell_type": "code",
   "execution_count": 53,
   "id": "27becbb5-3030-4ba3-8470-3d3747e0d913",
   "metadata": {},
   "outputs": [
    {
     "name": "stderr",
     "output_type": "stream",
     "text": [
      "10:23 - Type 'number' does not satisfy the constraint '{ length: number; }'.\n"
     ]
    }
   ],
   "source": [
    "// Restringindo o domínio do generics\n",
    "\n",
    "function longest<Type extends { length: number }>(a: Type, b: Type) {\n",
    " return Math.max(a.length, b.length);\n",
    "}\n",
    "\n",
    "// longerString is of type 'alice' | 'bob'\n",
    "const longerString = longest<'alice' | 'bob'>(\"alice\", \"bob\");\n",
    "\n",
    "// Error! Numbers don't have a 'length' property\n",
    "const notOK = longest<number>(10, 100);"
   ]
  },
  {
   "cell_type": "markdown",
   "id": "ab83a680-90a4-485b-9ba0-8ba17d4fc167",
   "metadata": {},
   "source": [
    "## Funções são cidadãs de primeira classe\n",
    " - São dados, como o resto dos tipos da linguagem\n",
    "    - Podem ser passadas para funções e serem retornadas "
   ]
  },
  {
   "cell_type": "markdown",
   "id": "21002ff4-a147-4242-861d-ad2127ceb7bc",
   "metadata": {},
   "source": [
    "### Como argumento"
   ]
  },
  {
   "cell_type": "code",
   "execution_count": 64,
   "id": "6d7c152c-152e-4833-9eae-224e6204ce99",
   "metadata": {},
   "outputs": [
    {
     "name": "stdout",
     "output_type": "stream",
     "text": [
      "[ \u001b[32m'Emily'\u001b[39m, \u001b[32m'Kevin'\u001b[39m, \u001b[32m'Michelle'\u001b[39m ]\n"
     ]
    }
   ],
   "source": [
    "const arr: string[] = ['Anna', 'Emily', 'John', 'Kevin', 'Michelle', 'Ryan', 'Yvonne'];\n",
    " \n",
    "arr.filter((name: string) => {\n",
    " return name.includes('i');\n",
    "});"
   ]
  },
  {
   "cell_type": "markdown",
   "id": "d5b88e31-a606-4c6a-bcec-a4b1f7ec4643",
   "metadata": {},
   "source": [
    "### Como retorno"
   ]
  },
  {
   "cell_type": "code",
   "execution_count": 66,
   "id": "9938293f-3b14-4858-a574-d7190b755da5",
   "metadata": {},
   "outputs": [
    {
     "name": "stdout",
     "output_type": "stream",
     "text": [
      "\u001b[33mfalse\u001b[39m\n",
      "\u001b[33mtrue\u001b[39m\n",
      "\u001b[33mfalse\u001b[39m\n",
      "\u001b[33mtrue\u001b[39m\n"
     ]
    }
   ],
   "source": [
    "function requiredAge(minimum: number): Function {\n",
    " return (age: number): boolean => {\n",
    "   return age >= minimum;\n",
    " };\n",
    "}\n",
    " \n",
    "const canDrinkBeer: Function = requiredAge(16);\n",
    "const canDriveCar: Function = requiredAge(18);\n",
    " \n",
    "console.log(canDrinkBeer(10)); // -> returns false\n",
    "console.log(canDrinkBeer(20)); // -> returns true\n",
    " \n",
    "console.log(canDriveCar(17)); // -> returns false\n",
    "console.log(canDriveCar(25)); // -> returns true"
   ]
  },
  {
   "cell_type": "markdown",
   "id": "2b8767d3-fe5b-4c14-8fca-284eb3d8ae92",
   "metadata": {
    "tags": []
   },
   "source": [
    "# Object Type"
   ]
  },
  {
   "cell_type": "markdown",
   "id": "a54a2010-2c32-45c5-ad4f-ba046bab7a58",
   "metadata": {},
   "source": [
    "Em JS/TS, a forma fundamental de agrupar dados e transitá-los é através de objetos.\n",
    " - Podem ser nomeados (interfaces, tipos, classes, ...) ou anônimos "
   ]
  },
  {
   "cell_type": "code",
   "execution_count": 69,
   "id": "7f12e714-af65-4ced-80d1-a3f7bb402889",
   "metadata": {},
   "outputs": [
    {
     "name": "stdout",
     "output_type": "stream",
     "text": [
      "Hello Jack\n"
     ]
    }
   ],
   "source": [
    "// Anônimos\n",
    "function greet(person: { name: string; age: number }) {\n",
    "  return \"Hello \" + person.name;\n",
    "}\n",
    "\n",
    "greet({name: 'Jack', age: 49})"
   ]
  },
  {
   "cell_type": "markdown",
   "id": "f8ecd310-724a-436e-a094-58aee22f6b0c",
   "metadata": {
    "id": "z2ChjDwy-uTh",
    "tags": []
   },
   "source": [
    "# Propriedades opcionais"
   ]
  },
  {
   "cell_type": "markdown",
   "id": "027e75e8-5119-462e-ac4c-a3ce2c8d7924",
   "metadata": {
    "id": "txOvv8tS-uTl"
   },
   "source": [
    "Em TypeScript, pode-se especificar que algumas, ou todas, as propriedades de um objeto são opcionais. Para tal, basta adicionar um ponto de interrogação `?` após o nome da propriedade. Veja exemplos a seguir:"
   ]
  },
  {
   "cell_type": "code",
   "execution_count": 38,
   "id": "ab69a4c4-699f-4fde-b79e-2556992745c6",
   "metadata": {
    "id": "xqNBJimp-uTm"
   },
   "outputs": [
    {
     "name": "stdout",
     "output_type": "stream",
     "text": [
      "Name: José\n",
      "CPF: \u001b[33m71232668036\u001b[39m\n",
      "\n",
      "Name: Pedro\n",
      "CPF: \u001b[33m52811974016\u001b[39m\n",
      "Email: pedro@gmail.com\n",
      "\n",
      "Name: Thiago\n",
      "CPF: \u001b[33m96232489039\u001b[39m\n",
      "Email: thiago@gmail.com\n",
      "Phone number: (83) 9 9421-4245\n",
      "\n"
     ]
    }
   ],
   "source": [
    "interface Client {\n",
    "    name: string;\n",
    "    cpf: number; \n",
    "    email?: string; \n",
    "    phone?: string; \n",
    "}\n",
    "\n",
    "\n",
    "const client1: Client = {\n",
    "    name: 'José',\n",
    "    cpf: 71232668036,\n",
    "}\n",
    "\n",
    "\n",
    "const client2: Client = {\n",
    "    name: 'Pedro',\n",
    "    cpf: 52811974016,\n",
    "    email: 'pedro@gmail.com',\n",
    "}\n",
    "\n",
    "\n",
    "const client3: Client = {\n",
    "    name: 'Thiago',\n",
    "    cpf: 96232489039,\n",
    "    email: 'thiago@gmail.com',\n",
    "    phone: '(83) 9 9421-4245'\n",
    "}\n",
    "\n",
    "\n",
    "function printDetails(client: Client) {\n",
    "    console.log('Name:', client.name);\n",
    "    console.log('CPF:', client.cpf);\n",
    "\n",
    "    //console.log('Email:', client.email); --> possivelmente undefined\n",
    "\n",
    "    if (client.email) {\n",
    "        console.log('Email:', client.email);\n",
    "    }\n",
    "\n",
    "    if (client.phone) {\n",
    "        console.log('Phone number:', client.phone);\n",
    "    }\n",
    "\n",
    "    console.log()\n",
    "}\n",
    "\n",
    "printDetails(client1);\n",
    "printDetails(client2);\n",
    "printDetails(client3);\n",
    "\n",
    "\n",
    "type Car = {\n",
    "    year: number,\n",
    "    type: string,\n",
    "    model?: string,\n",
    "}\n",
    "\n",
    "const car: Car = {\n",
    "    year: 2015,\n",
    "    type: 'Toyota',\n",
    "}"
   ]
  },
  {
   "cell_type": "markdown",
   "id": "cf2febc0-08c4-48de-9614-7c81cd33fb0c",
   "metadata": {
    "id": "Ju4CF0fE-uTo",
    "tags": []
   },
   "source": [
    "# Classes"
   ]
  },
  {
   "cell_type": "markdown",
   "id": "00b229a4-c7a0-4c70-91aa-e3f49483c41d",
   "metadata": {
    "id": "ad7iEL8x-uTp"
   },
   "source": [
    "Uma classe pode pode ser comporta por:\n",
    "\n",
    "- Propriedades    \n",
    "- Construtor\n",
    "- Métodos"
   ]
  },
  {
   "cell_type": "code",
   "execution_count": 12,
   "id": "3a211ee9-889b-4dde-ba96-81141ce9ef4d",
   "metadata": {
    "id": "UW-WbzAt-uTp"
   },
   "outputs": [],
   "source": [
    "class Employee {\n",
    "    code: number;\n",
    "    name: string;\n",
    "\n",
    "    constructor(code: number, name: string) {\n",
    "            this.code = code;\n",
    "            this.name = name;\n",
    "    }\n",
    "\n",
    "    getSalary(): number {\n",
    "        return 10000;\n",
    "    }\n",
    "}"
   ]
  },
  {
   "cell_type": "markdown",
   "id": "1da1e502-c36a-4a5e-8b06-6f1b78ea9928",
   "metadata": {
    "id": "DwXSjyVo-uTq"
   },
   "source": [
    "## Modificadores de acesso"
   ]
  },
  {
   "cell_type": "markdown",
   "id": "ecb68330-9aeb-49a5-9569-2fbe1cfacac8",
   "metadata": {
    "id": "IM87-LMb-uTq"
   },
   "source": [
    "Existem três modificadores de visibilidade principais no TypeScript.\n",
    "\n",
    "- `public` - (padrão) permite acesso ao membro da classe de qualquer lugar;\n",
    "- `private` - permite acesso apenas ao membro da classe de dentro da classe;\n",
    " - `protected` - permite o acesso ao membro da classe a partir dentro da classe e em quaisquer classes que o herdem"
   ]
  },
  {
   "cell_type": "code",
   "execution_count": null,
   "id": "67f241fc-c1b1-42fb-8171-c8527b0da4ee",
   "metadata": {
    "id": "npJy3rxX-uTr",
    "tags": []
   },
   "outputs": [],
   "source": [
    "class Person {\n",
    "  private name: string;\n",
    "\n",
    "  public constructor(name: string) {\n",
    "    this.name = name;\n",
    "  }\n",
    "\n",
    "  public getName(): string {\n",
    "    return this.name;\n",
    "  }\n",
    "}\n",
    "\n",
    "const person = new Person(\"Pedro\");\n",
    "console.log(person.getName());"
   ]
  },
  {
   "cell_type": "code",
   "execution_count": 39,
   "id": "6ad13a6e-f870-426b-9c90-91176d22c112",
   "metadata": {
    "id": "YX0eHcLT-uTr"
   },
   "outputs": [
    {
     "name": "stdout",
     "output_type": "stream",
     "text": [
      "Pedro\n"
     ]
    }
   ],
   "source": [
    "class Person {\n",
    "  \n",
    "  public constructor(private name?: string) {}\n",
    "\n",
    "  public getName(): string {\n",
    "    return this.name;\n",
    "  }\n",
    "}\n",
    "\n",
    "const person = new Person(\"Pedro\");\n",
    "console.log(person.getName());"
   ]
  },
  {
   "cell_type": "markdown",
   "id": "eacba51d-d094-42e1-9c03-839353350c58",
   "metadata": {
    "id": "IiRxpzxX-uTs"
   },
   "source": [
    "## Readonly"
   ]
  },
  {
   "cell_type": "markdown",
   "id": "99bbc822-8d92-4bd2-aafe-3867163c2539",
   "metadata": {
    "id": "GZ1aUhLh-uTs"
   },
   "source": [
    "- O TypeScript inclui a palavra-chave `readonly` que torna uma propriedade como somente leitura na classe, tipo ou interface.\n",
    "- Os membros `readonly` podem ser acessados fora da classe, mas seu valor não pode ser alterado."
   ]
  },
  {
   "cell_type": "code",
   "execution_count": 42,
   "id": "57c5cb62-0add-4919-88d2-42d24798c041",
   "metadata": {
    "id": "JpEf51QO-uTt"
   },
   "outputs": [
    {
     "name": "stdout",
     "output_type": "stream",
     "text": [
      "Pedro\n"
     ]
    }
   ],
   "source": [
    "class Person {\n",
    "  private readonly name: string; // name precisa ser inicializado na declaração, ou dentro do construtor da classe.\n",
    "    \n",
    "  public constructor(name: string) {\n",
    "    this.name = name;\n",
    "  }\n",
    "\n",
    "  public getName(): string {\n",
    "    return this.name;\n",
    "  }\n",
    "}\n",
    "\n",
    "const person = new Person(\"Pedro\");\n",
    "console.log(person.getName());"
   ]
  },
  {
   "cell_type": "markdown",
   "id": "f4d7dda7-80a2-4da4-93be-bc341c22838e",
   "metadata": {
    "id": "ekrZ0lkJ-uTt"
   },
   "source": [
    "## Herança e Classes Abstratas"
   ]
  },
  {
   "cell_type": "markdown",
   "id": "cd50ccc2-795e-47dd-9e2b-313a45bf378b",
   "metadata": {
    "id": "K0ejqfLX-uTt"
   },
   "source": [
    "- As classes podem estender umas às outras por meio da palavra-chave `extends`. \n",
    "- Uma classe só pode estender uma outra classe."
   ]
  },
  {
   "cell_type": "markdown",
   "id": "d6492ed7-a7f3-4da3-953d-fbc95ac5e515",
   "metadata": {
    "id": "K0ejqfLX-uTt"
   },
   "source": [
    "- As classes abstratas podem ser implementadas de modo que elas sejam usadas como uma classe base para outras classes."
   ]
  },
  {
   "cell_type": "code",
   "execution_count": 44,
   "id": "91ce9caa-9206-4d3e-b88b-0c8c245e69c8",
   "metadata": {
    "id": "qGxL3uUs-uTu"
   },
   "outputs": [],
   "source": [
    "abstract class Polygon {\n",
    "  public abstract getArea(): number;\n",
    "\n",
    "  public toString(): string {\n",
    "    return `Polygon[area=${this.getArea()}]`;\n",
    "  }\n",
    "}\n",
    "\n",
    "class Rectangle extends Polygon {\n",
    "  public constructor(protected readonly width: number, protected readonly height: number) {\n",
    "    super();\n",
    "  }\n",
    "\n",
    "  public getArea(): number {\n",
    "    return this.width * this.height;\n",
    "  }\n",
    "}"
   ]
  },
  {
   "cell_type": "markdown",
   "id": "5837ccd0-a34c-4304-a0bd-54d54a57cdf2",
   "metadata": {
    "id": "rMBxUPis-uTv",
    "tags": []
   },
   "source": [
    "# Interfaces"
   ]
  },
  {
   "cell_type": "markdown",
   "id": "230e106d-3848-4fba-b070-e237f0ddb085",
   "metadata": {
    "id": "wQBz2R8e-uTv"
   },
   "source": [
    "- Uma interface representa um contrato sintático ao qual uma entidade deve estar em conformidade. \n",
    "- Interfaces definem propriedades, métodos e eventos, que são os membros da interface. As interfaces contêm apenas a declaração dos membros.\n",
    "- É responsabilidade da classe derivada definir os membros."
   ]
  },
  {
   "cell_type": "code",
   "execution_count": 46,
   "id": "4d852188-a669-48dd-8440-37003531ffa7",
   "metadata": {
    "id": "QEzjVDeS-uTv"
   },
   "outputs": [],
   "source": [
    "interface Shape {\n",
    "  getArea: () => number;\n",
    "}\n",
    "\n",
    "class Rectangle implements Shape {\n",
    "  public constructor (\n",
    "    protected readonly width: number,\n",
    "    protected readonly height: number\n",
    "    ) {}\n",
    "\n",
    "  public getArea(): number {\n",
    "    return this.width * this.height;\n",
    "  }\n",
    "}"
   ]
  },
  {
   "cell_type": "markdown",
   "id": "07529e6f-0369-4219-b683-2ad1e4a8e5f9",
   "metadata": {
    "id": "LP2uKS_c-uTw"
   },
   "source": [
    "- Uma interface pode ser estendida por outras interfaces.\n",
    "- Typescript permite que uma interface herde de várias interfaces."
   ]
  },
  {
   "cell_type": "code",
   "execution_count": 47,
   "id": "dd6a6bd8-f866-4632-ae6b-c57acced0169",
   "metadata": {
    "id": "Mo5sKgHJ-uTw"
   },
   "outputs": [],
   "source": [
    "interface Person {\n",
    "    name: string;\n",
    "}\n",
    "\n",
    "interface Job {\n",
    "    title: string;\n",
    "}\n",
    "\n",
    "interface Employee extends Person, Job {\n",
    "    employeeCode: string;\n",
    "}\n",
    "\n",
    "let employee: Employee = {\n",
    "    name: 'Joe',\n",
    "    employeeCode: '123',\n",
    "    title: 'laborer'\n",
    "}"
   ]
  },
  {
   "cell_type": "markdown",
   "id": "3dab16d9-518e-4e6a-b92d-97d866673233",
   "metadata": {
    "id": "xwV2HWEC-uTw",
    "tags": []
   },
   "source": [
    "# Operadores"
   ]
  },
  {
   "cell_type": "markdown",
   "id": "dd61e2e8-c94f-4d98-9e20-d548cc62f32c",
   "metadata": {
    "id": "0w5AVt_E-uTy"
   },
   "source": [
    "## typeof"
   ]
  },
  {
   "cell_type": "markdown",
   "id": "1c9e3bc4-023b-44f9-ae9b-9fd240e49431",
   "metadata": {
    "id": "NhkHu2la-uTy"
   },
   "source": [
    "- Utiliza-se o operador `typeof` para determinar o tipo de dados de uma variável JavaScript."
   ]
  },
  {
   "cell_type": "code",
   "execution_count": null,
   "id": "fdf2af12-6d17-4ade-9445-53de4a8c5e5c",
   "metadata": {
    "id": "4b-lxwfd-uTy"
   },
   "outputs": [],
   "source": [
    "console.log(typeof \"John\")                 // \"string\"\n",
    "console.log(typeof 3.14)                   // \"number\"\n",
    "console.log(typeof NaN)                    // \"number\"\n",
    "console.log(typeof false)                  // \"boolean\"\n",
    "console.log(typeof [1,2,3,4])              // \"object\"\n",
    "console.log(typeof {name:'John', age:34})  // \"object\"\n",
    "console.log(typeof new Date())             // \"object\"\n",
    "console.log(typeof function () {})         // \"function\"\n",
    "console.log(typeof null)                   // \"object\""
   ]
  },
  {
   "cell_type": "markdown",
   "id": "37cf5d51-331c-415f-a6f5-71bd72c12c99",
   "metadata": {
    "id": "EJbLy8vu-uTy"
   },
   "source": [
    "- O TypeScript adiciona um operador `typeof` que você pode usar em um contexto de tipo para se referir ao tipo de uma variável ou propriedade:"
   ]
  },
  {
   "cell_type": "code",
   "execution_count": null,
   "id": "9955ebdc-38ac-4098-9a19-c35f824cd556",
   "metadata": {
    "id": "ewICogrz-uTy"
   },
   "outputs": [],
   "source": [
    "let s = \"hello\";\n",
    "let n: typeof s;"
   ]
  },
  {
   "cell_type": "markdown",
   "id": "626ba13e-a68b-4617-bcb4-2b350639e59e",
   "metadata": {
    "id": "wR5FH8Mo-uTz"
   },
   "source": [
    "- Isso não é muito útil para tipos básicos, mas combinado com outros operadores de tipo, você pode usar `typeof` para expressar convenientemente muitos padrões."
   ]
  },
  {
   "cell_type": "markdown",
   "id": "80fcabc6-fd73-4315-bdc6-eec7edb7437e",
   "metadata": {
    "id": "RZzJwR-q-uTz"
   },
   "source": [
    "## as"
   ]
  },
  {
   "cell_type": "markdown",
   "id": "fca9b5ba-34dd-4048-9e20-9696f9deeee8",
   "metadata": {
    "id": "tDfaiqIS-uTz"
   },
   "source": [
    "A palavra-chave `as` é uma declaração de tipo no TypeScript que diz ao compilador para considerar o objeto como um tipo diferente do tipo que o compilador infere que o objeto seja."
   ]
  },
  {
   "cell_type": "code",
   "execution_count": null,
   "id": "35df05e5-e77d-4f55-a6c9-ad98f074e2aa",
   "metadata": {
    "id": "-QDrDiAL-uTz"
   },
   "outputs": [],
   "source": [
    "interface Foo {\n",
    "    prop1: number;\n",
    "    prop2: string;\n",
    "}\n",
    "\n",
    "let foo = {} as Foo;\n",
    "foo.prop1 = 123;\n",
    "foo.prop2 = 'hello';"
   ]
  },
  {
   "cell_type": "markdown",
   "id": "e8710e1c-710b-4920-a44e-01206eeeca4d",
   "metadata": {
    "id": "PRi1Dhv2-uTz"
   },
   "source": [
    "## in"
   ]
  },
  {
   "cell_type": "markdown",
   "id": "e9dfe9ed-f024-4cb1-a31e-3e5b56c67f72",
   "metadata": {
    "id": "GxycrAZv-uTz"
   },
   "source": [
    "- O operador `in` retorna true se a propriedade especificada estiver no objeto especificado ou em sua cadeia de protótipos.\n",
    "- O compilador TypeScript usa uma expressão `in` para restringir o tipo da variável na expressão."
   ]
  },
  {
   "cell_type": "markdown",
   "id": "dab487bb-de17-4c35-99e4-0f74aa626ed4",
   "metadata": {
    "id": "HSwoU8n3-uT0"
   },
   "source": [
    "A sintaxe é:\n",
    "\n",
    "`propertyName in objectVariable;`"
   ]
  },
  {
   "cell_type": "code",
   "execution_count": 10,
   "id": "88555797-e73d-4b4e-a23c-08ee375033a5",
   "metadata": {
    "id": "4meDKWPf-uT0"
   },
   "outputs": [
    {
     "name": "stdout",
     "output_type": "stream",
     "text": [
      "Anna's phone is 83993231232!\n",
      "phone property does not exist.\n"
     ]
    }
   ],
   "source": [
    "type Person = {\n",
    "  firstName: string,\n",
    "  lastName: string,\n",
    "  phone?: number,\n",
    "}\n",
    "\n",
    "let person1: Person = {\n",
    "  firstName: \"Anna\",\n",
    "  lastName: \"Silva\",\n",
    "  phone: 83993231232,\n",
    "}\n",
    "\n",
    "let person2: Person = {\n",
    "  firstName: \"João\",\n",
    "  lastName: \"Andrade\",\n",
    "}\n",
    "\n",
    "function sayPhoneNumber(person: Person) {\n",
    "  if (\"phone\" in person) {\n",
    "    console.log(`${person.firstName}'s phone is ${person.phone}!`);\n",
    "  }\n",
    "  else {\n",
    "    console.log(\"phone property does not exist.\");\n",
    "  }\n",
    "}\n",
    "\n",
    "sayPhoneNumber(person1)\n",
    "sayPhoneNumber(person2)"
   ]
  },
  {
   "cell_type": "markdown",
   "id": "c7a0abba-78bb-4c73-a7e0-cdffb8e436fc",
   "metadata": {
    "id": "mNfsZXws-uT0"
   },
   "source": [
    "## instanceof"
   ]
  },
  {
   "cell_type": "markdown",
   "id": "6dccad00-aed9-4735-be4e-a7c788d80d30",
   "metadata": {
    "id": "GeGddPBU-uT0"
   },
   "source": [
    "- Usado para verificar o tipo de um objeto em tempo de execução.\n",
    "- Se o valor retornado for `true`, isso indica que o objeto é uma instância de uma determinada classe e se o valor retornado for false, não será.\n",
    "- O operador `instanceof` também leva em consideração a herança. Ele retorna `true` se o objeto herdar do protótipo das classes."
   ]
  },
  {
   "cell_type": "code",
   "execution_count": null,
   "id": "6764c15d-1024-4d1a-98c4-1959e0c1fa07",
   "metadata": {
    "id": "g-j_8CA--uT0"
   },
   "outputs": [],
   "source": [
    "let fruits = [\"Apple\", \"Mango\", \"Banana\"];\n",
    "\n",
    "console.log(fruits instanceof Array); // true\n",
    "console.log(fruits instanceof Object); // true\n",
    "console.log(fruits instanceof Number); // false\n",
    "console.log(fruits instanceof String); // false\n",
    "\n",
    "class A {}\n",
    "class B extends A {}\n",
    "\n",
    "const o1 = new A(); \n",
    "o1 instanceof A // true, pois Object.getPrototypeOf(o1) === A.prototype\n",
    "o1 instanceof B // false, pois B.prototype não está em nenhum lugar na cadeia de protótipos do o1\n",
    "\n",
    "const o2 = new B();\n",
    "o2 instanceof A // true, pois Object.getPrototypeOf(Object.getPrototypeOf(o2)) === A.prototype\n",
    "o2 instanceof B // true, pois Object.getPrototypeOf(o2) === B.prototype"
   ]
  },
  {
   "cell_type": "markdown",
   "id": "6dce8cb8-e4a6-4a8f-b16a-d7e00d25cc08",
   "metadata": {
    "id": "abiOgADt-uT1"
   },
   "source": [
    "## keyof"
   ]
  },
  {
   "cell_type": "markdown",
   "id": "0a2dc7a8-4c56-428a-9972-6676fe33f5c6",
   "metadata": {
    "id": "H_wjSyQ7-uT1"
   },
   "source": [
    "O operador `keyof` pega um tipo de objeto e produz uma string ou união literal numérica de suas chaves. O seguinte tipo P é do mesmo tipo que \"x\" | \"s\":"
   ]
  },
  {
   "cell_type": "code",
   "execution_count": null,
   "id": "f4e2eaa3-da85-458a-ad97-55add231b67a",
   "metadata": {
    "id": "ieV3c_zs-uT1"
   },
   "outputs": [],
   "source": [
    "type Point = { x: number; y: number };\n",
    "type P = keyof Point;"
   ]
  },
  {
   "cell_type": "code",
   "execution_count": 49,
   "id": "de2b90d1-2f45-4fdc-80c9-18fc26b7a11f",
   "metadata": {
    "id": "9SinHqwK-uT1"
   },
   "outputs": [
    {
     "name": "stderr",
     "output_type": "stream",
     "text": [
      "17:29 - Argument of type '\"outracoisa\"' is not assignable to parameter of type '\"name\" | \"age\"'.\n"
     ]
    }
   ],
   "source": [
    "interface Person {\n",
    "  name: string;\n",
    "  age: number;\n",
    "}\n",
    "\n",
    "// \"keyof Person\" aqui cria um tipo união de \"name\" e \"age\", outras strings não serão permitidas\n",
    "function printPersonProperty(person: Person, property: keyof Person) {\n",
    "  console.log(`Printing person property ${property}: \"${person[property]}\"`);\n",
    "}\n",
    "\n",
    "let person = {\n",
    "  name: \"Max\",\n",
    "  age: 27\n",
    "};\n",
    "\n",
    "printPersonProperty(person, \"name\");\n",
    "printPersonProperty(person, \"outracoisa\");"
   ]
  },
  {
   "cell_type": "markdown",
   "id": "7cdc5dbb-914a-4d4f-86ff-5c76e2bfaa45",
   "metadata": {
    "id": "MwQWCJIf-uT1"
   },
   "source": [
    "- Se o tipo tiver uma assinatura de índice de string ou número, `keyof` retornará esses tipos:"
   ]
  },
  {
   "cell_type": "code",
   "execution_count": 11,
   "id": "733b304c-d38d-4e32-9445-923ac973c7a9",
   "metadata": {
    "id": "U0D0Odd1-uT1"
   },
   "outputs": [
    {
     "name": "stdout",
     "output_type": "stream",
     "text": [
      "{ year: \u001b[32m'1998'\u001b[39m }\n"
     ]
    }
   ],
   "source": [
    "type StringMap = { [key: string]: unknown };\n",
    "\n",
    "function createStringPair(property: keyof StringMap, value: string): StringMap {\n",
    "  return { [property]: value };\n",
    "}\n",
    "\n",
    "console.log(createStringPair(\"year\", \"1998\"))\n"
   ]
  },
  {
   "cell_type": "markdown",
   "id": "a7bc6616-b331-4b78-8616-7c418bb5c309",
   "metadata": {
    "tags": []
   },
   "source": [
    "# Types Aliases"
   ]
  },
  {
   "cell_type": "markdown",
   "id": "8119788e-2256-4810-8ddf-747f643ea4aa",
   "metadata": {},
   "source": [
    "- Um type alias é basicamente a definição de um novo nome para um tipo. \n",
    "  - Podem ser usados para representar:\n",
    "    - Primitivos;\n",
    "    - Object types; \n",
    "    - Tuples;\n",
    "    - Union types;\n",
    "    - Intersections."
   ]
  },
  {
   "cell_type": "code",
   "execution_count": 3,
   "id": "13f840a6-254c-4e22-923d-c095350b4527",
   "metadata": {},
   "outputs": [],
   "source": [
    "type Alias = number;\n",
    "\n",
    "type binary = 0 | 1;\n",
    "\n",
    "type bool = true | false;\n",
    "\n",
    "type obj = {a: 1} | {b: 2};\n",
    "\n",
    "type func = (() => string) | (() => void);\n"
   ]
  },
  {
   "cell_type": "markdown",
   "id": "1eda947e-63ca-4678-acd9-c561be23ecab",
   "metadata": {},
   "source": [
    "## Exemplos de uso"
   ]
  },
  {
   "cell_type": "code",
   "execution_count": 5,
   "id": "8d556bd8-60ed-4402-819f-772b86898cd8",
   "metadata": {},
   "outputs": [
    {
     "name": "stderr",
     "output_type": "stream",
     "text": [
      "6:7 - Type '\"horse\"' is not assignable to type 'pet'.\n"
     ]
    }
   ],
   "source": [
    "type pet = 'cat' | 'dog';\n",
    " \n",
    "const cat: pet = 'cat';\n",
    "const dog: pet = 'dog';\n",
    " \n",
    "const horse: pet = 'horse'; // error"
   ]
  },
  {
   "cell_type": "markdown",
   "id": "dae9f333-f1ca-496c-97d6-0e22b04a025e",
   "metadata": {},
   "source": [
    "## Generics"
   ]
  },
  {
   "cell_type": "code",
   "execution_count": null,
   "id": "d9d0afac-c641-4ca7-b381-55a5bbd45d83",
   "metadata": {},
   "outputs": [],
   "source": [
    "type Bag<T> = Map<T, number>;\n",
    "\n",
    "const bag: Bag<string> = new Map<string, number>();"
   ]
  },
  {
   "cell_type": "markdown",
   "id": "66e7d404-f4d1-423c-8224-228900c900eb",
   "metadata": {},
   "source": [
    "## Recursividade"
   ]
  },
  {
   "cell_type": "code",
   "execution_count": 6,
   "id": "0a8d7d4e-479c-498f-8ccd-b135db4e62b2",
   "metadata": {},
   "outputs": [],
   "source": [
    "type Tree<T> = {\n",
    " value: T;\n",
    " left?: Tree<T>;\n",
    " right?: Tree<T>;\n",
    "};\n",
    " \n",
    "const leaf: Tree<number> = {\n",
    "  value: 1\n",
    "}\n",
    " \n",
    "const tree: Tree<string> = {\n",
    "  value: 'a',\n",
    "  left: { value: 'b' },\n",
    "  right: {\n",
    "    value: 'c',\n",
    "    left: { value: 'e' },\n",
    "    right: { value: 'd' }\n",
    "  }\n",
    "}\n",
    " \n",
    "function order<T>(tree: Tree<T>): void {\n",
    "  process.stdout.write(tree.value + \" \")\n",
    "  \n",
    "  if(tree.left) {\n",
    "    order(tree.left);\n",
    "  }\n",
    "    \n",
    "  if(tree.right) {\n",
    "    order(tree.right);\n",
    "  }\n",
    "}"
   ]
  },
  {
   "cell_type": "code",
   "execution_count": 7,
   "id": "6c37d7a8-873f-4a77-8081-a7f8e6a4336f",
   "metadata": {},
   "outputs": [
    {
     "name": "stdout",
     "output_type": "stream",
     "text": [
      "1 "
     ]
    }
   ],
   "source": [
    "order(leaf); // 1"
   ]
  },
  {
   "cell_type": "code",
   "execution_count": 8,
   "id": "d3c1eb3d-b50b-434e-a3e8-7c5383f691ad",
   "metadata": {},
   "outputs": [
    {
     "name": "stdout",
     "output_type": "stream",
     "text": [
      "a b c e d "
     ]
    }
   ],
   "source": [
    "//       a\n",
    "//     /   \\ \n",
    "//    b     c\n",
    "//         / \\\n",
    "//        e   d\n",
    "\n",
    "order(tree); // a b c e d"
   ]
  },
  {
   "cell_type": "markdown",
   "id": "3140c8af-0476-4327-9be5-672db16058be",
   "metadata": {
    "tags": []
   },
   "source": [
    "# Union / Intersection Types"
   ]
  },
  {
   "cell_type": "code",
   "execution_count": 10,
   "id": "096b902f-e754-4cbf-bbd1-565c9f1ad6d0",
   "metadata": {},
   "outputs": [
    {
     "name": "stderr",
     "output_type": "stream",
     "text": [
      "7:7 - Type '-1' is not assignable to type '0 | 7 | 6 | 5 | 4 | 3 | 2 | 1'.\n"
     ]
    }
   ],
   "source": [
    "type Char = -7 | -6 | -5 | -4 | -3 | -2 | -1 | 0 | 1 | 2 | 3 | 4 | 5 | 6 | 7;\n",
    "type UnsignedChar = 0 | 1 | 2 | 3 | 4 | 5 | 6 | 7 | 8 | 9 | 10 | 11 | 12 | 13 | 14;\n",
    "type PositiveChar = Char & UnsignedChar; // Char ∩ UnsignedChar <=> { 0, ..., 7 }\n",
    "\n",
    "const c1: PositiveChar = 0;\n",
    "const c2: PositiveChar = 1;\n",
    "const c3: PositiveChar = -1; // Error"
   ]
  },
  {
   "cell_type": "markdown",
   "id": "8c556efb-371e-4d4d-9f65-f2b33171698d",
   "metadata": {},
   "source": [
    "## Interfaces vs Type Aliases"
   ]
  },
  {
   "cell_type": "code",
   "execution_count": 1,
   "id": "895b20d4-769e-470e-97d0-3dd0615e62a5",
   "metadata": {},
   "outputs": [
    {
     "name": "stderr",
     "output_type": "stream",
     "text": [
      "5:23 - Type '{ payByCheck: boolean; }' is not assignable to type 'Payment'.\n",
      "5:23 - Object literal may only specify known properties, and 'payByCheck' does not exist in type 'Payment'.\n",
      "6:7 - Type '{ payByCredit: true; payByDebit: true; }' is not assignable to type 'Payment'.\n",
      "6:7 - Type '{ payByCredit: true; payByDebit: true; }' is not assignable to type '{ payByCredit?: never; payByDebit: true; }'.\n",
      "6:7 - Types of property 'payByCredit' are incompatible.\n",
      "6:7 - Type 'boolean' is not assignable to type 'never'.\n"
     ]
    }
   ],
   "source": [
    "type Payment = { payByCredit: true; payByDebit?: never } | { payByCredit?: never; payByDebit: true };\n",
    " \n",
    "const p0: Payment = { payByCredit: true }; // OK\n",
    "const p1: Payment = { payByDebit: true }; // OK\n",
    "const p2: Payment = { payByCheck: true }; // Error\n",
    "const p3: Payment = { payByCredit: true, payByDebit: true }; // Error"
   ]
  },
  {
   "cell_type": "markdown",
   "id": "0ef72f41-374a-439a-ac5f-a48c046286c8",
   "metadata": {},
   "source": [
    "## Como o never pode ser implementado?"
   ]
  },
  {
   "cell_type": "code",
   "execution_count": 13,
   "id": "67a4a7d3-e069-4a4d-a232-75cdfa1580e2",
   "metadata": {},
   "outputs": [
    {
     "name": "stderr",
     "output_type": "stream",
     "text": [
      "3:7 - Type 'number' is not assignable to type 'never'.\n",
      "4:7 - Type 'string' is not assignable to type 'never'.\n"
     ]
    }
   ],
   "source": [
    "type Never = string & number;\n",
    "\n",
    "const n1 : Never = 0\n",
    "const n2 : Never = \"never\""
   ]
  },
  {
   "cell_type": "markdown",
   "id": "f6d3a8f6-9b8f-48fb-bd14-59863c5d18c1",
   "metadata": {},
   "source": [
    "## Exemplo mais prático"
   ]
  },
  {
   "cell_type": "code",
   "execution_count": 2,
   "id": "457eac66-40ef-46e3-ba77-f3ab4bbc3a05",
   "metadata": {},
   "outputs": [],
   "source": [
    "interface ErrorHandling {\n",
    " success: boolean;\n",
    " error?: { message: string };\n",
    "}\n",
    " \n",
    "interface File {\n",
    " content: { lines: string }[];\n",
    "}\n",
    " \n",
    "type FileReader = File & ErrorHandling;\n",
    " \n",
    "const writeToAFile = (response: FileReader) => {\n",
    " if (response.error) {\n",
    "   console.error(response.error.message);\n",
    "   return;\n",
    " }\n",
    " \n",
    " console.log(response.content);\n",
    "};"
   ]
  },
  {
   "cell_type": "markdown",
   "id": "7b7871c1-cba2-40c9-8f21-4998272bd589",
   "metadata": {
    "tags": []
   },
   "source": [
    "# Utility Types\n",
    "\n",
    "- A linguagem provê diferentes **tipos utilitários** para facilitar transformações de tipos usuais, que podem ser utilizadas por todo o código.\n",
    "\n",
    "- Aproximadamente 20 deles existem."
   ]
  },
  {
   "cell_type": "markdown",
   "id": "f8541bf9-9858-49ae-9505-d24c3215acf3",
   "metadata": {},
   "source": [
    "## `Partial<Type>`\n",
    "\n",
    "Retorna um novo tipo com todas as propriedades de um `Type` como **opcionais**."
   ]
  },
  {
   "cell_type": "code",
   "execution_count": 5,
   "id": "87fdd9a7-1db2-4182-8d06-aea30bf9e947",
   "metadata": {},
   "outputs": [],
   "source": [
    "interface User {\n",
    "  age: number\n",
    "  name: string\n",
    "  email: string\n",
    "  address: {\n",
    "    street: string\n",
    "    city: string\n",
    "  }\n",
    "}\n",
    "\n",
    "type fieldsToUpdate = Partial<User>\n",
    "\n",
    "const updateUser = (user: User, fieldsToUpdate: fieldsToUpdate) => ({\n",
    "  ...user, ...fieldsToUpdate\n",
    "})\n",
    "\n",
    "const user: User = {\n",
    "  address: {\n",
    "    city: 'Campina Grande',\n",
    "    street: 'Dom Pedro II'\n",
    "  },\n",
    "  age: 36,\n",
    "  email: 'rafinha2005@gmail.com',\n",
    "  name: 'Rafa Lima',\n",
    "}\n",
    "\n",
    "const updatedInfo: fieldsToUpdate = {\n",
    "  name: 'Rafa Lima Pereira'\n",
    "}"
   ]
  },
  {
   "cell_type": "markdown",
   "id": "4fc6012d-1eb4-40da-839d-8e82eb8a0122",
   "metadata": {},
   "source": [
    "## `Required<Type>`\n",
    "\n",
    "Retorna um novo tipo com todas as propriedades de um `Type` como **obrigatórias**.\n",
    "\n",
    "O oposto de _Partial_."
   ]
  },
  {
   "cell_type": "markdown",
   "id": "e2cfc009-b3ea-4c22-acae-1a12b9b669d2",
   "metadata": {},
   "source": [
    "## `Readonly<Type>`\n",
    "\n",
    "Retorna um novo tipo com todas as propriedades de um `Type` no modo **apenas leitura** (não permite novas atribuições).\n",
    "\n",
    "Útil com o padrão de congelar (_freezing_) objetos, para evitar edições."
   ]
  },
  {
   "cell_type": "code",
   "execution_count": 53,
   "id": "7bea82c1-741b-4603-910e-afbfe46b0b3a",
   "metadata": {},
   "outputs": [],
   "source": [
    "const makeReadonly = <T> (object: T): Readonly<T> => Object.freeze({...object});\n",
    "\n",
    "interface Point {\n",
    "  x: number;\n",
    "  y: number;\n",
    "}\n",
    "\n",
    "const editablePoint: Point = {\n",
    "  x: 5,\n",
    "  y: 10,\n",
    "}\n",
    "\n",
    "const readOnlyPoint = makeReadonly(editablePoint);"
   ]
  },
  {
   "cell_type": "code",
   "execution_count": 2,
   "id": "023c6a2e-77e1-4ae6-b5a3-eb7d53286fb2",
   "metadata": {},
   "outputs": [
    {
     "name": "stdout",
     "output_type": "stream",
     "text": [
      "{ x: \u001b[33m25\u001b[39m, y: \u001b[33m10\u001b[39m }\n"
     ]
    }
   ],
   "source": [
    "editablePoint.x = 25;\n",
    "editablePoint"
   ]
  },
  {
   "cell_type": "code",
   "execution_count": 54,
   "id": "9ce4322e-19b7-4125-bcb4-35b83962130d",
   "metadata": {},
   "outputs": [
    {
     "name": "stdout",
     "output_type": "stream",
     "text": [
      "{ x: \u001b[33m5\u001b[39m, y: \u001b[33m10\u001b[39m }\n"
     ]
    }
   ],
   "source": [
    "// readOnlyPoint.x = 25;\n",
    "readOnlyPoint"
   ]
  },
  {
   "cell_type": "markdown",
   "id": "825c54f0-840b-46a5-befe-899bd3e74d57",
   "metadata": {},
   "source": [
    "## `Pick<Keys, Type>`\n",
    "\n",
    "Cria um novo tipo **escolhendo** as propriedades pelas `Keys` de um `Type`."
   ]
  },
  {
   "cell_type": "code",
   "execution_count": 55,
   "id": "15b4acf6-7f3c-403d-b584-baa4c475c44f",
   "metadata": {},
   "outputs": [],
   "source": [
    "interface User {\n",
    "  age: number\n",
    "  name: string\n",
    "  email: string\n",
    "  address: {\n",
    "    street: string\n",
    "    city: string\n",
    "  }\n",
    "}"
   ]
  },
  {
   "cell_type": "code",
   "execution_count": 56,
   "id": "747ed97b-ce6f-45e8-8ec6-38bf106e552c",
   "metadata": {},
   "outputs": [],
   "source": [
    "type simplifiedUser = Pick<User, 'name' | 'age'>\n",
    "\n",
    "const simpleUser: simplifiedUser = {\n",
    "  name: 'Joana',\n",
    "  age: 23,\n",
    "}"
   ]
  },
  {
   "cell_type": "markdown",
   "id": "def29e10-65d1-4792-a46f-87ed37ec9d79",
   "metadata": {},
   "source": [
    "## `Omit<Keys, Type>`\n",
    "\n",
    "Cria um novo tipo **removendo** as propriedades pelas `Keys` de um `Type`."
   ]
  },
  {
   "cell_type": "code",
   "execution_count": null,
   "id": "34d24a62-e017-4147-86ca-bb75af51727e",
   "metadata": {},
   "outputs": [],
   "source": [
    "type omitUser = Omit<User, 'email' | 'address'>\n",
    "\n",
    "const omittedUser: omitUser = {\n",
    "  name: 'Joana',\n",
    "  age: 23,\n",
    "}"
   ]
  },
  {
   "cell_type": "markdown",
   "id": "10767920-b37b-44ef-a2de-9fd1c4bd8a2d",
   "metadata": {},
   "source": [
    "## `Record<Keys, Type>`\n",
    "\n",
    "Cria um novo tipo em que as chaves são do tipo de `Keys` e os valores dessas chaves são do tipo `Type`.\n",
    "\n",
    "Usado para **mapear** propriedades de um tipo para outro."
   ]
  },
  {
   "cell_type": "code",
   "execution_count": 9,
   "id": "62962b21-bb5d-4a43-a335-f620d9f577e6",
   "metadata": {},
   "outputs": [],
   "source": [
    "interface Cat {\n",
    "  age: number;\n",
    "  name: string;\n",
    "}\n",
    "\n",
    "type CatBreed = 'persa' | 'siames' | 'munchkin'\n",
    "\n",
    "const catsByBreed: Record<CatBreed, Cat[]> = {\n",
    "  persa: [\n",
    "    {\n",
    "      age: 2,\n",
    "      name: 'Alberto',\n",
    "    },\n",
    "    {\n",
    "      age: 3,\n",
    "      name: 'James',\n",
    "    },\n",
    "  ],\n",
    "  siames: [\n",
    "    {\n",
    "      age: 5,\n",
    "      name: 'Jarbas',\n",
    "    },\n",
    "  ],\n",
    "  munchkin: [\n",
    "    {\n",
    "      age: 1,\n",
    "      name: 'Francisca',\n",
    "    },\n",
    "    {\n",
    "      age: 1,\n",
    "      name: 'Robertinha',\n",
    "    },\n",
    "  ],\n",
    "}"
   ]
  },
  {
   "cell_type": "markdown",
   "id": "7cb9e196-89db-4d30-8dc2-0a6743bc78ea",
   "metadata": {},
   "source": [
    "## `Exclude<UnionType, ExcludedMembers>`\n",
    "\n",
    "Cria um novo tipo **excluindo** de uma **união de tipos** (`UnionType`) todos os membros que são assinaláveis ao `ExcludedMembers`."
   ]
  },
  {
   "cell_type": "code",
   "execution_count": 10,
   "id": "fbe2640e-0303-46cf-8e05-a42266599da2",
   "metadata": {},
   "outputs": [],
   "source": [
    "type Dimensions3D = 'x' | 'y' | 'z'\n",
    "type Point3D = Record<Dimensions3D, number>\n",
    "\n",
    "const coordinate3D: Point3D = {\n",
    "  x: 3,\n",
    "  y: 5,\n",
    "  z: 12,\n",
    "}"
   ]
  },
  {
   "cell_type": "code",
   "execution_count": 11,
   "id": "9db84b00-5af0-424a-b58a-53cecd1e1701",
   "metadata": {},
   "outputs": [],
   "source": [
    "type Dimensions2D = Exclude<Dimensions3D, 'z'>\n",
    "type Point2D = Record<Dimensions2D, number>\n",
    "\n",
    "const coordinate2D: Point2D = {\n",
    "  x: 15,\n",
    "  y: 7,\n",
    "}"
   ]
  },
  {
   "cell_type": "markdown",
   "id": "064fa229-2444-49de-a575-34d9f1dd8cf7",
   "metadata": {},
   "source": [
    "## `ReturnType<Type>`\n",
    "\n",
    "Cria um novo tipo com base no **tipo de retorno** de uma função."
   ]
  },
  {
   "cell_type": "code",
   "execution_count": 12,
   "id": "72e13e52-a9fa-48f9-9cd7-a2498c4ebfde",
   "metadata": {},
   "outputs": [],
   "source": [
    "const createUser = (name: string) => ({\n",
    "  id: Math.random(),\n",
    "  name\n",
    "})\n",
    "\n",
    "type UserInfo = ReturnType<typeof createUser>\n",
    "\n",
    "const newUser: UserInfo = {\n",
    "  id: 5,\n",
    "  name: 'Karla'\n",
    "}"
   ]
  },
  {
   "cell_type": "markdown",
   "id": "a4738d35-592a-4d37-b699-07ca13e2a377",
   "metadata": {
    "tags": []
   },
   "source": [
    "# Pattern Matching\n",
    "\n",
    "Como Javascript/Typescript não possuem casamento de padrões para funções como vimos em Haskell, vamos falar um pouco de **Atribuição via desestruturação** (_destructuring assignment_)"
   ]
  },
  {
   "cell_type": "markdown",
   "id": "7b0158be-a74c-4103-bc5d-a4e09ec5a03e",
   "metadata": {},
   "source": [
    "## Desestruturação de Arrays"
   ]
  },
  {
   "cell_type": "code",
   "execution_count": 8,
   "id": "ec3f1e17-9531-4a76-8224-25ef226417be",
   "metadata": {},
   "outputs": [],
   "source": [
    "const positions = ['1st', '2nd', '3rd', '4th', '5th'];"
   ]
  },
  {
   "cell_type": "markdown",
   "id": "521b71c5-4bf8-4a09-90bc-c9e0fba74ca0",
   "metadata": {},
   "source": [
    "### Acesso por índice"
   ]
  },
  {
   "cell_type": "code",
   "execution_count": 9,
   "id": "b1d37280-dda8-4182-bd5a-94415bdf26b8",
   "metadata": {},
   "outputs": [
    {
     "name": "stdout",
     "output_type": "stream",
     "text": [
      "┌───────────────┬────────┐\n",
      "│    (index)    │ Values │\n",
      "├───────────────┼────────┤\n",
      "│ firstByIndex  │ '1st'  │\n",
      "│ secondByIndex │ '2nd'  │\n",
      "│ thirdByIndex  │ '3rd'  │\n",
      "└───────────────┴────────┘\n"
     ]
    }
   ],
   "source": [
    "const firstByIndex = positions[0];\n",
    "const secondByIndex = positions[1];\n",
    "const thirdByIndex = positions[2];\n",
    "\n",
    "console.table({ firstByIndex, secondByIndex, thirdByIndex })"
   ]
  },
  {
   "cell_type": "markdown",
   "id": "9c3ca9fb-cbe0-4164-8282-6841841a9ad2",
   "metadata": {},
   "source": [
    "### Utilizando desestruturação"
   ]
  },
  {
   "cell_type": "code",
   "execution_count": 10,
   "id": "7f045bb4-a7f5-48a4-883f-528346f7df40",
   "metadata": {},
   "outputs": [
    {
     "name": "stdout",
     "output_type": "stream",
     "text": [
      "┌─────────┬────────┐\n",
      "│ (index) │ Values │\n",
      "├─────────┼────────┤\n",
      "│  first  │ '1st'  │\n",
      "│ second  │ '2nd'  │\n",
      "│  third  │ '3rd'  │\n",
      "└─────────┴────────┘\n"
     ]
    }
   ],
   "source": [
    "const [first, second, third] = positions;\n",
    "\n",
    "console.table({ first, second, third })\n"
   ]
  },
  {
   "cell_type": "markdown",
   "id": "f093f818-71a0-4603-b60f-d421c49abb29",
   "metadata": {},
   "source": [
    "Ignorando elementos e testando elemento não definido"
   ]
  },
  {
   "cell_type": "code",
   "execution_count": 11,
   "id": "889f3de5-2be7-4994-933d-69ed6a78819b",
   "metadata": {},
   "outputs": [
    {
     "name": "stdout",
     "output_type": "stream",
     "text": [
      "┌─────────┬───────────┐\n",
      "│ (index) │  Values   │\n",
      "├─────────┼───────────┤\n",
      "│ fourth  │   '4th'   │\n",
      "│  sixth  │ undefined │\n",
      "└─────────┴───────────┘\n"
     ]
    }
   ],
   "source": [
    "const [ , , , fourth, , sixth ] = positions;\n",
    "\n",
    "console.table({ fourth, sixth })"
   ]
  },
  {
   "cell_type": "markdown",
   "id": "cdf94881-2782-4bac-a64a-852d5f51e3d6",
   "metadata": {},
   "source": [
    "Ignorando elementos e usando o operador `...`"
   ]
  },
  {
   "cell_type": "code",
   "execution_count": 12,
   "id": "1f4983de-85db-4a76-8aec-dc364f47214b",
   "metadata": {},
   "outputs": [
    {
     "name": "stdout",
     "output_type": "stream",
     "text": [
      "{ rest: [ '4th', '5th' ] }\n"
     ]
    }
   ],
   "source": [
    "const [ , , , ...rest] = positions;\n",
    "\n",
    "console.log({ rest })"
   ]
  },
  {
   "cell_type": "markdown",
   "id": "92402954-c425-4622-98cf-c34ec46c52f2",
   "metadata": {},
   "source": [
    "## Desestruturação de Tuplas (Typescript)"
   ]
  },
  {
   "cell_type": "code",
   "execution_count": 13,
   "id": "2f99f39b-fd1f-424c-9d0c-724fea95fca6",
   "metadata": {},
   "outputs": [],
   "source": [
    "const tuple: [number, string, boolean] = [7, \"hello\", true];"
   ]
  },
  {
   "cell_type": "code",
   "execution_count": 14,
   "id": "b2fc454b-5145-4119-8ddb-9738eb2bf064",
   "metadata": {},
   "outputs": [
    {
     "name": "stdout",
     "output_type": "stream",
     "text": [
      "{ a1: 7, b1: 'hello', c1: true }\n"
     ]
    }
   ],
   "source": [
    "const [a1, b1, c1] = tuple;\n",
    "\n",
    "console.log({ a1, b1, c1 })"
   ]
  },
  {
   "cell_type": "markdown",
   "id": "722b2b04-417f-410b-b15f-dd1dcc50d589",
   "metadata": {},
   "source": [
    "Tentando acessar elemento não definido"
   ]
  },
  {
   "cell_type": "code",
   "execution_count": 15,
   "id": "e067d50e-4df8-4c2a-8e96-33f29555007f",
   "metadata": {},
   "outputs": [
    {
     "name": "stderr",
     "output_type": "stream",
     "text": [
      "1:20 - Tuple type '[number, string, boolean]' of length '3' has no element at index '3'.\n"
     ]
    }
   ],
   "source": [
    "const [a2, b2, c2, d2] = tuple;"
   ]
  },
  {
   "cell_type": "markdown",
   "id": "52e3b844-ca87-44a1-9569-6dafedbd41eb",
   "metadata": {},
   "source": [
    "Ignorando elementos e usando o operador `...`"
   ]
  },
  {
   "cell_type": "code",
   "execution_count": 17,
   "id": "4fa2549c-14cd-4864-89d5-7aaede583891",
   "metadata": {},
   "outputs": [
    {
     "name": "stdout",
     "output_type": "stream",
     "text": [
      "{ bc3: [ 'hello', true ] }\n"
     ]
    }
   ],
   "source": [
    "const [ , ...bc3] = tuple;\n",
    "\n",
    "console.log({ bc3 })"
   ]
  },
  {
   "cell_type": "markdown",
   "id": "2753386f-bb1d-4330-86ed-f450e7435fb1",
   "metadata": {},
   "source": [
    "## Desestruturação de Objetos"
   ]
  },
  {
   "cell_type": "code",
   "execution_count": 58,
   "id": "b31a299d-1feb-4aa9-bda3-4130aa44762a",
   "metadata": {},
   "outputs": [],
   "source": [
    "const dog = {\n",
    "  color: 'black',\n",
    "  age: 6,\n",
    "  breed: 'poodle'\n",
    "}"
   ]
  },
  {
   "cell_type": "markdown",
   "id": "a8afe024-bed6-4b06-9c77-c157e7df5039",
   "metadata": {},
   "source": [
    "### Acesso pelo operador `.`"
   ]
  },
  {
   "cell_type": "code",
   "execution_count": null,
   "id": "2dcff555-92a4-46c3-af11-03728a336a4e",
   "metadata": {},
   "outputs": [],
   "source": [
    "const dogColor = dog.color;\n",
    "\n",
    "console.log({ color: dogColor })"
   ]
  },
  {
   "cell_type": "markdown",
   "id": "07730875-2292-4720-9f70-8cc653c5c707",
   "metadata": {},
   "source": [
    "### Utilizando desestruturação"
   ]
  },
  {
   "cell_type": "code",
   "execution_count": 59,
   "id": "b33e79ca-3b13-425b-a702-61c54c2dff02",
   "metadata": {},
   "outputs": [
    {
     "name": "stdout",
     "output_type": "stream",
     "text": [
      "{ color: \u001b[32m'black'\u001b[39m, age: \u001b[33m6\u001b[39m }\n"
     ]
    }
   ],
   "source": [
    "const { color, age } = dog;\n",
    "\n",
    "console.log({ color, age })"
   ]
  },
  {
   "cell_type": "markdown",
   "id": "637bc336-c1d2-4477-a77a-ca928b7204df",
   "metadata": {},
   "source": [
    "Usando o operador `...`"
   ]
  },
  {
   "cell_type": "code",
   "execution_count": 60,
   "id": "f7f16fd7-b5f4-4e68-a492-e2ad863a6292",
   "metadata": {},
   "outputs": [
    {
     "name": "stdout",
     "output_type": "stream",
     "text": [
      "{ dogInfo: { color: \u001b[32m'black'\u001b[39m, breed: \u001b[32m'poodle'\u001b[39m } }\n"
     ]
    }
   ],
   "source": [
    "const { age, ...dogInfo } = dog\n",
    "\n",
    "console.log({ dogInfo })"
   ]
  },
  {
   "cell_type": "markdown",
   "id": "2821e817-16f5-4cca-b9d9-c5bf61359b94",
   "metadata": {
    "tags": []
   },
   "source": [
    "# Polimorfismo"
   ]
  },
  {
   "cell_type": "markdown",
   "id": "91e353b2-67d8-4f0f-9755-1665f8bc4ee7",
   "metadata": {
    "id": "ZedL_xCb-uTu"
   },
   "source": [
    "## Sobrescrita de métodos"
   ]
  },
  {
   "cell_type": "markdown",
   "id": "6f40196e-5f5a-4a2e-8b47-52f5c2bbedac",
   "metadata": {},
   "source": [
    "## Subtipos\n",
    "\n",
    "Princípio que define em que classes derivadas de uma superclasse podem invocar métodos que têm a mesma assinatura, mas com comportamentos distintos."
   ]
  },
  {
   "cell_type": "markdown",
   "id": "8f94c2ea-0637-4829-bb2a-97377daefd25",
   "metadata": {},
   "source": [
    "### Definição de uma classe mãe"
   ]
  },
  {
   "cell_type": "code",
   "execution_count": 61,
   "id": "fe7ccb33-2ee1-4c46-94b0-af317834c092",
   "metadata": {},
   "outputs": [],
   "source": [
    "abstract class Shape {\n",
    "    area () {\n",
    "      return 0;\n",
    "    }\n",
    "  \n",
    "    perimeter () {\n",
    "      return 0;\n",
    "    }\n",
    "} "
   ]
  },
  {
   "cell_type": "markdown",
   "id": "07f2c0ee-e548-476d-8ad2-6eaa92517090",
   "metadata": {},
   "source": [
    "### Definições de classes filhas"
   ]
  },
  {
   "cell_type": "code",
   "execution_count": 63,
   "id": "70336b10-6971-4374-928b-17fb86b2069b",
   "metadata": {},
   "outputs": [],
   "source": [
    "class Circle extends Shape {\n",
    "    radius: number;\n",
    "\n",
    "    constructor (r) {\n",
    "        super();\n",
    "        this.radius = r;\n",
    "    }\n",
    "\n",
    "    area () {\n",
    "        return Math.PI * this.radius ** 2;\n",
    "    }\n",
    "\n",
    "    perimeter () {\n",
    "        return Math.PI * this.radius * 2;\n",
    "    }\n",
    "}"
   ]
  },
  {
   "cell_type": "code",
   "execution_count": 64,
   "id": "a4c606ef-a535-4381-9bb5-d74781b67685",
   "metadata": {},
   "outputs": [],
   "source": [
    "class Square extends Shape {\n",
    "    width: number;\n",
    "    \n",
    "    constructor (w) {\n",
    "        super();\n",
    "        this.width = w;\n",
    "    }\n",
    "\n",
    "    area () {\n",
    "        return this.width * 2;\n",
    "    }\n",
    "\n",
    "    perimeter () {\n",
    "        return this.width * 4;\n",
    "    }\n",
    "}"
   ]
  },
  {
   "cell_type": "markdown",
   "id": "fd5ccef4-94c5-4f53-80b8-d1820e9e13a0",
   "metadata": {},
   "source": [
    "Definição das instâncias das classes herdadas"
   ]
  },
  {
   "cell_type": "code",
   "execution_count": 65,
   "id": "c6a201c1-36e0-43f6-8df2-b478df026d93",
   "metadata": {},
   "outputs": [],
   "source": [
    "const circle = new Circle(5);\n",
    "\n",
    "const square = new Square(5);"
   ]
  },
  {
   "cell_type": "markdown",
   "id": "d21da2c7-68b1-4dcc-9b4c-1e17dfb10560",
   "metadata": {},
   "source": [
    "Uso das funções com mesma assinatura"
   ]
  },
  {
   "cell_type": "code",
   "execution_count": 66,
   "id": "f7c000e2-8fa0-448f-a4aa-0df299eb91f1",
   "metadata": {},
   "outputs": [],
   "source": [
    "const [circleArea, circlePerimeter] = [\n",
    "  circle.area(),\n",
    "  circle.perimeter(),\n",
    "];\n",
    "\n",
    "const [squareArea, squarePerimeter] = [\n",
    "  square.area(),\n",
    "  square.perimeter(),\n",
    "];"
   ]
  },
  {
   "cell_type": "code",
   "execution_count": 67,
   "id": "6b96a3cd-56ff-439c-a935-c7ad148fd26f",
   "metadata": {},
   "outputs": [
    {
     "name": "stdout",
     "output_type": "stream",
     "text": [
      "Circle { area: \u001b[32m'78.54'\u001b[39m, perimeter: \u001b[32m'31.42'\u001b[39m }\n",
      "Square { area: \u001b[32m'10.00'\u001b[39m, perimeter: \u001b[32m'20.00'\u001b[39m }\n"
     ]
    }
   ],
   "source": [
    "console.log('Circle', { \n",
    "  area: circleArea.toFixed(2), \n",
    "  perimeter: circlePerimeter.toFixed(2),\n",
    "})\n",
    "\n",
    "console.log('Square', { \n",
    "  area: squareArea.toFixed(2), \n",
    "  perimeter: squarePerimeter.toFixed(2),\n",
    "})"
   ]
  },
  {
   "cell_type": "markdown",
   "id": "608ed852-fe0e-444a-9328-11c2793e0951",
   "metadata": {},
   "source": [
    "## Paramétrico\n",
    "\n",
    "Possibilita a definição do **tipo** apenas no momento do uso."
   ]
  },
  {
   "cell_type": "code",
   "execution_count": 68,
   "id": "beba2360-bd89-4b10-b79f-91daf74af05c",
   "metadata": {},
   "outputs": [],
   "source": [
    "function getProperty<T, Key extends keyof T> (obj: T, key: Key): T[Key] {\n",
    "  return obj[key];\n",
    "}\n",
    "\n",
    "type Vowels = 'a' | 'e' | 'i' | 'o' | 'u';\n",
    "\n",
    "const alphabetPositions: Record<Vowels, number> = {\n",
    "  a: 1,\n",
    "  e: 5,\n",
    "  i: 9,\n",
    "  o: 15,\n",
    "  u: 21,\n",
    "}"
   ]
  },
  {
   "cell_type": "code",
   "execution_count": 69,
   "id": "b83b3576-f2ae-4cec-9824-413dd07f569f",
   "metadata": {},
   "outputs": [
    {
     "name": "stdout",
     "output_type": "stream",
     "text": [
      "\u001b[33m9\u001b[39m\n"
     ]
    }
   ],
   "source": [
    "getProperty(alphabetPositions, 'i');"
   ]
  },
  {
   "cell_type": "code",
   "execution_count": 70,
   "id": "c95d7626-0ec7-4715-9d6f-3882c74160f1",
   "metadata": {},
   "outputs": [
    {
     "name": "stderr",
     "output_type": "stream",
     "text": [
      "1:32 - Argument of type '\"c\"' is not assignable to parameter of type 'Vowels'.\n"
     ]
    }
   ],
   "source": [
    "getProperty(alphabetPositions, 'c');"
   ]
  },
  {
   "cell_type": "markdown",
   "id": "d93b6595-5ed0-4eb8-9840-81d45711ddd6",
   "metadata": {},
   "source": [
    "## Sobrecarga de funções\n",
    "\n",
    "Declara-se as assinaturas possíveis da função e sua implementação de acordo com os parâmetros recebidos."
   ]
  },
  {
   "cell_type": "code",
   "execution_count": 71,
   "id": "e580f8f2-9ac8-40be-8668-fff067d57034",
   "metadata": {},
   "outputs": [],
   "source": [
    "function switchType (input: string): number \n",
    "function switchType (input: number): string \n",
    "function switchType (input: number | string): number | string {\n",
    "  if (typeof input === 'string') {\n",
    "    return Number(input);\n",
    "  }\n",
    "\n",
    "  return String(input);\n",
    "}"
   ]
  },
  {
   "cell_type": "code",
   "execution_count": 72,
   "id": "139eb5c9-7c50-4b52-903a-075de23c5bed",
   "metadata": {},
   "outputs": [
    {
     "name": "stdout",
     "output_type": "stream",
     "text": [
      "┌────────────┬────────┐\n",
      "│  (index)   │ Values │\n",
      "├────────────┼────────┤\n",
      "│ fromString │   \u001b[33m5\u001b[39m    │\n",
      "│ fromNumber │  \u001b[32m'10'\u001b[39m  │\n",
      "└────────────┴────────┘\n"
     ]
    }
   ],
   "source": [
    "const string = '5';\n",
    "const number = 10;\n",
    "\n",
    "console.table({\n",
    "  fromString: switchType(string),\n",
    "  fromNumber: switchType(number),\n",
    "});"
   ]
  },
  {
   "cell_type": "markdown",
   "id": "e30e8a44-7612-4490-bc80-9835338616ac",
   "metadata": {
    "tags": []
   },
   "source": [
    "# Currificação"
   ]
  },
  {
   "cell_type": "markdown",
   "id": "60931dbd-444c-473d-a2ab-43a86d2d4714",
   "metadata": {},
   "source": [
    "## “Currying is the technique of converting a function that takes multiple arguments into a sequence of functions that each takes a single argument” *(Wikipedia)*"
   ]
  },
  {
   "cell_type": "markdown",
   "id": "f7cefcb5-6467-4e65-9381-7b02c1e87402",
   "metadata": {
    "tags": []
   },
   "source": [
    "## Como faríamos em *Haskell*?\n",
    "\n",
    "Soma dois números: a e b  \n",
    "`sum :: Num a => a -> a -> a`  \n",
    "`sum a b = a + b`\n",
    "\n",
    "Console  \n",
    "`> let sum5 = sum 5`  \n",
    "`> sum5 3`  \n",
    "`8`\n",
    "\n",
    "## E em *Typescript*?\n",
    " - Não existe suporte nativo na linguagem\n",
    " - Podemos simular esse comportamento através do uso de __*Closures*__"
   ]
  },
  {
   "cell_type": "code",
   "execution_count": 13,
   "id": "90dfc3e5-c999-4834-80bc-43e10449c019",
   "metadata": {},
   "outputs": [
    {
     "name": "stdout",
     "output_type": "stream",
     "text": [
      "\u001b[36m[Function (anonymous)]\u001b[39m\n",
      "\u001b[33m8\u001b[39m\n"
     ]
    }
   ],
   "source": [
    "const sum = (a: number) => {\n",
    " return (b: number) => { \n",
    "     return a + b;\n",
    " }\n",
    "} \n",
    "\n",
    "const sum5 = sum(5)\n",
    "\n",
    "console.log(sum5)\n",
    "console.log(sum5(3))"
   ]
  },
  {
   "cell_type": "markdown",
   "id": "904d0138-63b4-47b8-9948-8a923d207fd0",
   "metadata": {},
   "source": [
    "## Existe alguma limitação na nossa estratégia?\n",
    " - Somos obrigados a escrever __*n*__ funções dentro do corpo da função original (n = número de argumentos) \n",
    "   - Imagine a redundância em uma base de código razoável *(centenas de funções)*\n",
    " - Um grupo de parênteses para cada aplicação da função\n",
    "   - f(a)(b)(c)(d)(e)(f)\n",
    "   \n",
    "## No mundo ideal \n",
    " - Poderíamos chamar essa função como qualquer outra, se aproveitando de *currying* \n",
    " - Não precisaríamos mudar o corpo das funções."
   ]
  },
  {
   "cell_type": "markdown",
   "id": "d4dedb79-bb75-4f2d-9fdb-cf7fa62140d3",
   "metadata": {},
   "source": [
    "## Currificação em *Typescript* - [Solução Genérica]"
   ]
  },
  {
   "cell_type": "code",
   "execution_count": 14,
   "id": "3eb12c79-9240-4bfb-a56d-aa8e710ce5f0",
   "metadata": {},
   "outputs": [],
   "source": [
    "function curry (fn: Function) {\n",
    " return (...xs: any[]) => {\n",
    "   if (xs.length >= fn.length) {\n",
    "     return fn(...xs);\n",
    "   }\n",
    "   return curry(fn.bind(null, ...xs));\n",
    " };\n",
    "}\n"
   ]
  },
  {
   "cell_type": "code",
   "execution_count": 16,
   "id": "57535a6e-8ea5-4925-803f-9ea2fe6d9d24",
   "metadata": {},
   "outputs": [],
   "source": [
    "const isRightTriangle = curry((\n",
    "  a: number, \n",
    "  b: number, \n",
    "  c: number\n",
    ") => {\n",
    " return c * c == a * a + b * b;\n",
    "})"
   ]
  },
  {
   "cell_type": "code",
   "execution_count": 17,
   "id": "11b569ca-989b-4870-9517-7e7a7fb17f49",
   "metadata": {},
   "outputs": [
    {
     "name": "stdout",
     "output_type": "stream",
     "text": [
      "\u001b[33mtrue\u001b[39m\n"
     ]
    }
   ],
   "source": [
    "isRightTriangle(3)(4)(5)"
   ]
  },
  {
   "cell_type": "code",
   "execution_count": 18,
   "id": "dadce381-9697-4640-826c-045e33ac1bfb",
   "metadata": {},
   "outputs": [
    {
     "name": "stdout",
     "output_type": "stream",
     "text": [
      "\u001b[33mfalse\u001b[39m\n"
     ]
    }
   ],
   "source": [
    "isRightTriangle(3, 4)(6)"
   ]
  },
  {
   "cell_type": "code",
   "execution_count": 19,
   "id": "811035be-5269-49cd-8966-621e5c6f0ea5",
   "metadata": {},
   "outputs": [
    {
     "name": "stdout",
     "output_type": "stream",
     "text": [
      "\u001b[33mtrue\u001b[39m\n"
     ]
    }
   ],
   "source": [
    "isRightTriangle(3)(4, 5)"
   ]
  },
  {
   "cell_type": "code",
   "execution_count": 20,
   "id": "e35d3b51-1c63-498c-a449-698e0c397487",
   "metadata": {},
   "outputs": [
    {
     "name": "stdout",
     "output_type": "stream",
     "text": [
      "\u001b[33mtrue\u001b[39m\n"
     ]
    }
   ],
   "source": [
    "isRightTriangle(3, 4, 5)"
   ]
  },
  {
   "cell_type": "markdown",
   "id": "e175c9a3-7944-470c-93a9-a4d4acc4b08e",
   "metadata": {
    "tags": []
   },
   "source": [
    "# Lazy Evaluation"
   ]
  },
  {
   "cell_type": "markdown",
   "id": "88a0f1c4-8b60-42cc-95a6-6fd1e7cc9a70",
   "metadata": {},
   "source": [
    "## \"Lazy evaluation, or call-by-need, is an evaluation strategy which delays the evaluation of an expression until its value is needed” *(Wikipedia)*"
   ]
  },
  {
   "cell_type": "markdown",
   "id": "69ec3af1-b08f-43b2-89db-ff32bd18f1c6",
   "metadata": {},
   "source": [
    "## Alternativas\n",
    "\n",
    "- Eager\n",
    "- Short-Circuit\n",
    "..."
   ]
  },
  {
   "cell_type": "markdown",
   "id": "f0598d48-58c3-4607-8c9e-c75e9a6290ff",
   "metadata": {
    "tags": []
   },
   "source": [
    "## Alguns exemplos em Haskell"
   ]
  },
  {
   "cell_type": "markdown",
   "id": "a6bff0f3-4ecf-49df-a2c8-c9332bc5dab3",
   "metadata": {},
   "source": [
    "Estrutura de dados 'infinita'  \n",
    "`[1..]` => 1, 2, 3, 4, 5, ...\n",
    "\n",
    "Parâmetros da função take não serão avaliados imediatamente  \n",
    "`sum (take 3 [1..])`\n",
    "\n",
    "Erro não será identificado  \n",
    "`add x y = x + x`  \n",
    "`add 4 (error \"404\")`  \n",
    "`8`"
   ]
  },
  {
   "cell_type": "markdown",
   "id": "2885ddd7-de1e-4202-9b64-4b5ebb1e1b57",
   "metadata": {},
   "source": [
    "## Javascript / Typescript não é lazy por padrão!"
   ]
  },
  {
   "cell_type": "code",
   "execution_count": 3,
   "id": "e1cc7c43-aa6d-4dbe-b142-52cc89084ca6",
   "metadata": {},
   "outputs": [],
   "source": [
    "function doubleX (x: number, y: any) {\n",
    "    return x + x\n",
    "}"
   ]
  },
  {
   "cell_type": "code",
   "execution_count": 11,
   "id": "6e7933d9-9dbe-4093-9b40-fbdf0aa58a20",
   "metadata": {},
   "outputs": [
    {
     "name": "stdout",
     "output_type": "stream",
     "text": [
      "teste\n",
      "24\n"
     ]
    }
   ],
   "source": [
    "// Se o argumento fosse avaliado de forma lazy, teste não seria mostrado!\n",
    "doubleX(12, console.log('teste'))"
   ]
  },
  {
   "cell_type": "markdown",
   "id": "0464b4a0-c6a2-4389-87c1-f546ebec4157",
   "metadata": {},
   "source": [
    "## Como simular esse tipo de avaliação?\n",
    "\n",
    "- Toda expressão estando encapsulada em funções!\n",
    "- Generators!"
   ]
  },
  {
   "cell_type": "markdown",
   "id": "254f8309-0737-4414-aa95-c9dd8497a263",
   "metadata": {},
   "source": [
    "## Definindo um tipo *Lazy*"
   ]
  },
  {
   "cell_type": "markdown",
   "id": "007fb10d-5ae6-40a9-9526-4eb1dbb14342",
   "metadata": {},
   "source": [
    "Toda expressão lazy agora precisará ser primeiro aplicada, para ser avaliada:"
   ]
  },
  {
   "cell_type": "code",
   "execution_count": 5,
   "id": "3143ffbb-da6f-4720-8c64-360d0f33afa8",
   "metadata": {},
   "outputs": [],
   "source": [
    "type Lazy<T> = () => T"
   ]
  },
  {
   "cell_type": "markdown",
   "id": "a18228e9-e465-4313-b510-700d6a5c4ef2",
   "metadata": {},
   "source": [
    "### Resolvendo problemas da forma *lazy*"
   ]
  },
  {
   "cell_type": "markdown",
   "id": "46bdfe22-d620-42d0-960c-236d7c71cbf9",
   "metadata": {},
   "source": [
    "#### Adiando a avaliação de parâmetros"
   ]
  },
  {
   "cell_type": "code",
   "execution_count": 6,
   "id": "2adf28c2-65cf-463e-9f18-f3fbadd20a9d",
   "metadata": {},
   "outputs": [],
   "source": [
    "function doubleX (x: Lazy<number>, y: Lazy<any>): Lazy<number> {\n",
    "    return () => {\n",
    "        console.log(\"Dobrei!\");\n",
    "        return x() + x();\n",
    "    }\n",
    "}"
   ]
  },
  {
   "cell_type": "code",
   "execution_count": 14,
   "id": "e25426bc-c612-4508-9e9f-673abe19e868",
   "metadata": {},
   "outputs": [
    {
     "name": "stdout",
     "output_type": "stream",
     "text": [
      "Dobrei!\n",
      "24\n"
     ]
    }
   ],
   "source": [
    "const double = doubleX(() => 12, () => console.log('teste'))\n",
    "\n",
    "console.log(double())"
   ]
  },
  {
   "cell_type": "markdown",
   "id": "d197dea9-87ac-4423-bcc5-6407a09ea80e",
   "metadata": {},
   "source": [
    "#### Lista infinita"
   ]
  },
  {
   "cell_type": "markdown",
   "id": "5ca76740-f3db-4fdf-8005-2711daf8ead0",
   "metadata": {},
   "source": [
    "Generators executam e avaliam código somente quando necessário, guardando e retornando estados intermediários."
   ]
  },
  {
   "cell_type": "code",
   "execution_count": 15,
   "id": "5f8e7d16-0f10-44ea-ab93-e6e6faf32c34",
   "metadata": {},
   "outputs": [],
   "source": [
    "// Infinite fibonacci generator\n",
    "function* fibonacciNumbers () {\n",
    "    let memo = [1, -1];\n",
    "    while (true) {\n",
    "        memo = [memo[0] + memo[1], memo[0]];\n",
    "        yield memo[0];\n",
    "    }\n",
    "}"
   ]
  },
  {
   "cell_type": "code",
   "execution_count": 16,
   "id": "8125ff83-0f7b-4578-92a7-388937909d0e",
   "metadata": {},
   "outputs": [],
   "source": [
    "function getSequence (n: number, g: Generator) {\n",
    "    if (n <= 0) {\n",
    "        console.log(\"END\");\n",
    "    } else {\n",
    "        console.log(`${g.next().value}, `);\n",
    "        getSequence(n - 1, g);\n",
    "    }\n",
    "}"
   ]
  },
  {
   "cell_type": "code",
   "execution_count": 17,
   "id": "8c913442-8ac4-49d0-b38e-deb97f337b13",
   "metadata": {},
   "outputs": [
    {
     "name": "stdout",
     "output_type": "stream",
     "text": [
      "0, \n",
      "1, \n",
      "1, \n",
      "2, \n",
      "3, \n",
      "5, \n",
      "8, \n",
      "13, \n",
      "21, \n",
      "34, \n",
      "END\n"
     ]
    }
   ],
   "source": [
    "const fibGenerator = fibonacciNumbers();\n",
    "\n",
    "getSequence(10, fibGenerator);"
   ]
  },
  {
   "cell_type": "markdown",
   "id": "51c27f7d-afff-411e-a3e9-286d8cf44886",
   "metadata": {
    "tags": []
   },
   "source": [
    "# Implementando Multiset "
   ]
  },
  {
   "cell_type": "markdown",
   "id": "9dfd8898-db8f-4d04-8279-4b4c1aa3633f",
   "metadata": {},
   "source": [
    "Um multi-conjunto (ou bag) é uma estrutura que representa uma coleção de objetos que permite \n",
    "duplicatas. Entretanto, as duplicatas são armazenadas como a quantidade de ocorrências do mesmo \n",
    "elemento no multi-conjunto.\n",
    "\n",
    "Exemplo: \n",
    "\n",
    "{1, 1, 2, 2, 1, 2, 3} => {(1, 3), (2, 3), (3, 1)}"
   ]
  },
  {
   "cell_type": "markdown",
   "id": "a8820a6a-1ecf-48f4-87fb-9a4321cae2ab",
   "metadata": {},
   "source": [
    "## Quais são as principais operações ?\n",
    " - Insert\n",
    " - Remove\n",
    " - Search\n",
    " - Union\n",
    " - Intersection\n",
    " - Minus\n",
    " - Inclusion\n",
    " - Sum\n",
    " - Size"
   ]
  },
  {
   "cell_type": "code",
   "execution_count": 74,
   "id": "2bb60d3a-0c25-498d-a3a7-38cf63026855",
   "metadata": {},
   "outputs": [],
   "source": [
    "/**\n",
    " * Tipo Bag genérico\n",
    "*/\n",
    "type Bag<T> = Map<T, number>;\n",
    "\n",
    "const testBag: Bag<string> = new Map<string, number>([['a', 3], ['b', 2]])"
   ]
  },
  {
   "cell_type": "code",
   "execution_count": 75,
   "id": "d6d74f01-2300-43fa-a1c9-4ce6b36c19e5",
   "metadata": {},
   "outputs": [
    {
     "name": "stdout",
     "output_type": "stream",
     "text": [
      "\u001b[33mtrue\u001b[39m\n"
     ]
    }
   ],
   "source": [
    "/**\n",
    " * [Auxiliar] Checa se o elemento está incluso na Bag.\n",
    "*/\n",
    "function hasElement<T> (elem: T, bag: Bag<T>): boolean {\n",
    "  return bag.has(elem);\n",
    "}\n",
    "\n",
    "hasElement('a', testBag)"
   ]
  },
  {
   "cell_type": "code",
   "execution_count": 76,
   "id": "e85d91ba-0c62-4157-afa0-8a4478045339",
   "metadata": {},
   "outputs": [
    {
     "name": "stdout",
     "output_type": "stream",
     "text": [
      "\u001b[33m3\u001b[39m\n"
     ]
    }
   ],
   "source": [
    "/**\n",
    "* Busca um elemento na estrutura, retornando sua quantidade. Caso o \n",
    "* elemento não exista, retorna 0 como a quantidade.\n",
    "*/\n",
    "function search<T> (elem: T, bag: Bag<T>): number {\n",
    "  return hasElement(elem, bag) ? bag.get(elem) as number : 0;\n",
    "}\n",
    "\n",
    "search('a', testBag)"
   ]
  },
  {
   "cell_type": "code",
   "execution_count": 77,
   "id": "cf50e29e-08b4-47e4-9ef7-d8002a336c5e",
   "metadata": {},
   "outputs": [
    {
     "name": "stdout",
     "output_type": "stream",
     "text": [
      "Map(2) { \u001b[32m'a'\u001b[39m => \u001b[33m4\u001b[39m, \u001b[32m'b'\u001b[39m => \u001b[33m2\u001b[39m }\n"
     ]
    }
   ],
   "source": [
    "/**\n",
    "* Insere um elemento na estrutura. Caso o elemento já existe, sua\n",
    "* quantidade na estrutura será incrementada.\n",
    "*/\n",
    "function insert<T> (elem: T, bag: Bag<T>): Bag<T> {\n",
    "  return bag.set(elem, search(elem, bag) + 1);\n",
    "}\n",
    "\n",
    "insert('a', testBag)"
   ]
  },
  {
   "cell_type": "code",
   "execution_count": 79,
   "id": "9044d0a6-bb07-43a9-85f3-21f6b5b0903a",
   "metadata": {},
   "outputs": [
    {
     "name": "stdout",
     "output_type": "stream",
     "text": [
      "Map(1) { \u001b[32m'a'\u001b[39m => \u001b[33m2\u001b[39m }\n"
     ]
    }
   ],
   "source": [
    "/**\n",
    "* Remove um elemento da estrutura, levando em consideração a manipulação de sua\n",
    "* quantidade na estrutura. Caso a quantidade atinja 0 (ou menos), o elemento deve\n",
    "* realmente ser removido da estrutura.\n",
    "*/\n",
    "function remove<T> (elem: T, bag: Bag<T>): Bag<T> {\n",
    " const oldQuantity = search(elem, bag);\n",
    "  \n",
    "  if (oldQuantity <= 1) {\n",
    "    bag.delete(elem);\n",
    "  } else {\n",
    "    bag.set(elem, oldQuantity - 1);\n",
    "  }\n",
    "  \n",
    "  return bag;\n",
    "}\n",
    "\n",
    "remove('a', testBag)\n",
    "remove('b', testBag)\n",
    "remove('b', testBag)"
   ]
  },
  {
   "cell_type": "code",
   "execution_count": 80,
   "id": "95f51b2e-dbea-4c90-8ed7-42319f3b2aa7",
   "metadata": {},
   "outputs": [],
   "source": [
    "/**\n",
    "* Faz a interseção deste Bag com otherBag. A interseção consiste em ter os elementos\n",
    "* que estão em ambos os bags combinados com a função passada como parâmetro.\n",
    "* \n",
    "* Por exemplo:\n",
    "* \n",
    "* A = {(a,3),(b,1)}\n",
    "* B = {(a,1)}\n",
    "* função: + (soma)\n",
    "* \n",
    "* A.intersection(B) == {(a,4)}\n",
    "*/\n",
    "function intersectionWith<T>(\n",
    "  bag: Bag<T>,\n",
    "  anotherBag: Bag<T>,\n",
    "  fn: (n1: number, n2: number) => number\n",
    "): Bag<T> {\n",
    "  return new Map<T, number>(\n",
    "    Array.from(anotherBag)\n",
    "      .filter(([key, _]) => hasElement(key, bag))\n",
    "      .map(([key, quantity]) => [key, fn(quantity, search(key, bag))])\n",
    "  );\n",
    "}"
   ]
  },
  {
   "cell_type": "code",
   "execution_count": 81,
   "id": "e6c6bbc8-260f-4df3-a646-f16572ebab43",
   "metadata": {},
   "outputs": [
    {
     "name": "stdout",
     "output_type": "stream",
     "text": [
      "Map(1) { \u001b[32m'a'\u001b[39m => \u001b[33m1\u001b[39m }\n"
     ]
    }
   ],
   "source": [
    "/**\n",
    "* Faz a interseção deste Bag com otherBag. A interseção consiste em ter os elementos\n",
    "* que estão em ambos os bags com suas menores quantidades. \n",
    "* \n",
    "* Por exemplo:\n",
    "* \n",
    "* A = {(a,3),(b,1)}\n",
    "* B = {(a,1)}\n",
    "* \n",
    "* A.intersection(B) == {(a,1)}\n",
    "* \n",
    "* Obs: Caso nenhum elemento de A esteja contido em B, então a interseção é vazia.\n",
    "*/\n",
    "function intersection<T> (bag: Bag<T>, anotherBag: Bag<T>): Bag<T> {\n",
    "  return intersectionWith(bag, anotherBag, Math.min);\n",
    "}\n",
    "\n",
    "let a = new Map([['a', 3], ['b', 1]])\n",
    "let b = new Map([['a', 1]])\n",
    "\n",
    "intersection(a, b)"
   ]
  },
  {
   "cell_type": "code",
   "execution_count": 84,
   "id": "d8c22fbe-ff2e-4ff1-8534-44f1477e495b",
   "metadata": {},
   "outputs": [],
   "source": [
    "/**\n",
    "* Faz a união deste Bag com anotherBag combinando. A união consiste em ter os elementos \n",
    "* dos dois Bags combinados com a função passada como parâmetro.\n",
    "* \n",
    "* Por exemplo: \n",
    "* \n",
    "* A = {(a,3),(c,3)}, \n",
    "* B = {(a,4),(b,2),(c,2)}. \n",
    "* função: * (multiplicação)\n",
    "* \n",
    "* A.union(B) == {(a,12),(c,6),(b,2)}\n",
    "*/\n",
    "function unionWith<T> (\n",
    "  bag: Bag<T>,\n",
    "  anotherBag: Bag<T>, \n",
    "  fn: (n1: number, n2: number) => number\n",
    "): Bag<T> {\n",
    "  return new Map<T, number>([\n",
    "    ...anotherBag, \n",
    "    ...bag, \n",
    "    ...intersectionWith(bag, anotherBag, fn)\n",
    "  ]);\n",
    "}"
   ]
  },
  {
   "cell_type": "code",
   "execution_count": 85,
   "id": "f175c35a-6a06-47d1-a092-680915178029",
   "metadata": {},
   "outputs": [
    {
     "name": "stdout",
     "output_type": "stream",
     "text": [
      "Map(3) { \u001b[32m'b'\u001b[39m => \u001b[33m2\u001b[39m, \u001b[32m'c'\u001b[39m => \u001b[33m3\u001b[39m, \u001b[32m'a'\u001b[39m => \u001b[33m1\u001b[39m }\n"
     ]
    }
   ],
   "source": [
    "/**\n",
    "* Faz a união deste Bag com anotherBag. A união consiste em ter os elementos \n",
    "* dos dois Bags com suas maiores quantidades. \n",
    "* \n",
    "* Por exemplo: \n",
    "* \n",
    "* A = {(a,1),(c,3)}, \n",
    "* B = {(b,2),(c,1)}. \n",
    "* \n",
    "* A.union(B) == {(a,1),(c,3),(b,2)}\n",
    "*/\n",
    "function union<T> (bag: Bag<T>, anotherBag: Bag<T>): Bag<T> {\n",
    "  return unionWith(bag, anotherBag, Math.max);\n",
    "}\n",
    "\n",
    "let a = new Map([['a', 1], ['c', 3]])\n",
    "let b = new Map([['b', 2], ['c', 1]])\n",
    "\n",
    "union(a, b)"
   ]
  },
  {
   "cell_type": "code",
   "execution_count": 24,
   "id": "8131ac98-2c6e-4bfd-99b0-104dafcdc6ac",
   "metadata": {},
   "outputs": [
    {
     "name": "stdout",
     "output_type": "stream",
     "text": [
      "Map(1) { \u001b[32m'a'\u001b[39m => \u001b[33m2\u001b[39m }\n"
     ]
    }
   ],
   "source": [
    "/**\n",
    "* Faz a diferenca deste Bag com otherBag. A diferenca A \\ B entre bags é definida como:\n",
    "*   - Contem os elementos de A que nao estao em B;\n",
    "*   - Contem os elementos x de A que estao em B mas com sua quantidade subtraida (qtde em A - qtde em B). \n",
    "*     Caso essa quantidade seja negativa o elemento deve serremovido do Bag. \n",
    "* \n",
    "* Por exemplo: \n",
    "* \n",
    "* A = {(a,3),(b,1)}\n",
    "* B = {(b,2),(a,1)} \n",
    "* \n",
    "* A.minus(B) == {(a,2)}\n",
    "*/\n",
    "function minus<T> (bag: Bag<T>, anotherBag: Bag<T>): Bag<T> {\n",
    "  return new Map(\n",
    "    Array.from(bag)\n",
    "      .filter(([key, quantity]) => (quantity - search(key, anotherBag)) > 0)\n",
    "      .map(([key, quantity]) => [key, quantity - search(key, anotherBag)])\n",
    "  );\n",
    "}\n",
    "\n",
    "let a = new Map([['a', 3], ['b', 1]])\n",
    "let b = new Map([['b', 2], ['a', 1]])\n",
    "\n",
    "minus(a, b)"
   ]
  },
  {
   "cell_type": "code",
   "execution_count": 25,
   "id": "a6faea5f-45a5-425b-be4d-924e15d3321c",
   "metadata": {},
   "outputs": [
    {
     "name": "stdout",
     "output_type": "stream",
     "text": [
      "\u001b[33mtrue\u001b[39m\n"
     ]
    }
   ],
   "source": [
    "/**\n",
    "* Testa se este Bag está incluso em otherBag. Para todo elemento deste bag, sua quantidade\n",
    "* deve ser menor or igual a sua quantidade em otherBag.\n",
    "* \n",
    "* Por exemplo:\n",
    "* \n",
    "* A = {(a,7),(b,5)}\n",
    "* B = {(a,9),(b,6))}\n",
    "* \n",
    "* A.inclusion(B) == true\n",
    "* B.inclusion(A) == false\n",
    "* \n",
    "*/\n",
    "function inclusion<T> (bag: Bag<T>, anotherBag: Bag<T>): boolean {\n",
    "  return Array.from(bag).every(([key, quantity]) => {\n",
    "    return search(key, anotherBag) >= quantity;\n",
    "  });\n",
    "}\n",
    "\n",
    "let a = new Map([['a', 7], ['b', 5]])\n",
    "let b = new Map([['a', 9], ['b', 6]])\n",
    "\n",
    "inclusion(a, b)"
   ]
  },
  {
   "cell_type": "code",
   "execution_count": 26,
   "id": "25bdcc58-9f85-40b8-950d-253e08e84b16",
   "metadata": {},
   "outputs": [
    {
     "name": "stdout",
     "output_type": "stream",
     "text": [
      "Map(2) { \u001b[32m'a'\u001b[39m => \u001b[33m4\u001b[39m, \u001b[32m'b'\u001b[39m => \u001b[33m3\u001b[39m }\n"
     ]
    }
   ],
   "source": [
    "/**\n",
    "* Realiza a soma deste Bag com otherBag. A soma de dois bags contem os elementos dos dois bags com suas quantidades somadas.\n",
    "* \n",
    "* Por exemplo:\n",
    "* \n",
    "* A = {(a,1),(b,3)}\n",
    "* B = {(a,3)}\n",
    "* \n",
    "* A.sum(B) == {(a,4),(b,3)}\n",
    "*/\n",
    "function sum<T> (bag: Bag<T>, anotherBag: Bag<T>): Bag<T> {\n",
    "  return unionWith(bag, anotherBag, (a, b) => a + b);\n",
    "}\n",
    "\n",
    "let a = new Map([['a', 1], ['b', 3]])\n",
    "let b = new Map([['a', 3]])\n",
    "\n",
    "sum(a, b)"
   ]
  },
  {
   "cell_type": "code",
   "execution_count": 27,
   "id": "fd108e90-eb7b-4bf9-b3ee-13cdaf78725e",
   "metadata": {},
   "outputs": [
    {
     "name": "stdout",
     "output_type": "stream",
     "text": [
      "\u001b[33m4\u001b[39m\n"
     ]
    }
   ],
   "source": [
    "/**\n",
    "* Retorna a quantidade total de elementos no Bag\n",
    "*/\n",
    "function size<T> (bag: Bag<T>): number {\n",
    "  return Array.from(bag.values()).reduce((currentSum, number) => {\n",
    "    return currentSum + number\n",
    "  }, 0);\n",
    "}\n",
    "\n",
    "let a = new Map([['a', 1], ['b', 3]])\n",
    "\n",
    "size(a)"
   ]
  }
 ],
 "metadata": {
  "kernelspec": {
   "display_name": "TypeScript",
   "language": "typescript",
   "name": "tslab"
  },
  "language_info": {
   "codemirror_mode": {
    "mode": "typescript",
    "name": "javascript",
    "typescript": true
   },
   "file_extension": ".ts",
   "mimetype": "text/typescript",
   "name": "typescript",
   "version": "3.7.2"
  },
  "toc-autonumbering": false,
  "toc-showcode": false,
  "toc-showmarkdowntxt": false,
  "toc-showtags": false
 },
 "nbformat": 4,
 "nbformat_minor": 5
}
